{
 "cells": [
  {
   "cell_type": "code",
   "execution_count": null,
   "metadata": {},
   "outputs": [],
   "source": [
    "import pandas as pd"
   ]
  },
  {
   "cell_type": "code",
   "execution_count": null,
   "metadata": {},
   "outputs": [],
   "source": [
    "# Set view options\n",
    "pd.set_option('display.max_rows', 500)\n",
    "pd.set_option('display.max_columns', 50)"
   ]
  },
  {
   "cell_type": "code",
   "execution_count": null,
   "metadata": {},
   "outputs": [],
   "source": [
    "faults = pd.read_csv('../data/J1939Faults.csv', index_col = 'RecordID', parse_dates = ['EventTimeStamp', 'LocationTimeStamp']) \\\n",
    "    .drop(columns = ['actionDescription', 'faultValue'])\n",
    "\n",
    "diagnostics = pd.read_csv('../data/VehicleDiagnosticOnboardData.csv') \\\n",
    "    .pivot(index = 'FaultId', columns = 'Name', values = 'Value')\n",
    "\n",
    "faults_diagnostics = faults.merge(diagnostics, left_on = 'RecordID', right_on = 'FaultId') \\\n",
    "    .set_index('EventTimeStamp').sort_index()"
   ]
  },
  {
   "cell_type": "code",
   "execution_count": null,
   "metadata": {},
   "outputs": [],
   "source": [
    "faults_diagnostics['EventCluster_3H'] = 1\n",
    "faults_diagnostics['EventCluster_6H'] = 1\n",
    "faults_diagnostics['EventCluster_12H'] = 1\n",
    "\n",
    "rolling_window_3H = faults_diagnostics.groupby('EquipmentID', as_index = False)['EventCluster_3H'].rolling('3H').count()\n",
    "rolling_window_6H = faults_diagnostics.groupby('EquipmentID', as_index = False)['EventCluster_6H'].rolling('6H').count()\n",
    "rolling_window_12H = faults_diagnostics.groupby('EquipmentID', as_index = False)['EventCluster_12H'].rolling('12H').count()\n",
    "\n",
    "rolling_window_3H['EventCluster_3H'] = (rolling_window_3H['EventCluster_3H'].shift() >= rolling_window_3H['EventCluster_3H']).cumsum() + 1\n",
    "rolling_window_6H['EventCluster_6H'] = (rolling_window_6H['EventCluster_6H'].shift() >= rolling_window_6H['EventCluster_6H']).cumsum() + 1\n",
    "rolling_window_12H['EventCluster_12H'] = (rolling_window_12H['EventCluster_12H'].shift() >= rolling_window_12H['EventCluster_12H']).cumsum() + 1\n",
    "\n",
    "faults_diagnostics = faults_diagnostics.drop(columns = ['EventCluster_3H', 'EventCluster_6H', 'EventCluster_12H'])\n",
    "faults_diagnostics = faults_diagnostics.merge(rolling_window_3H, on = ['EventTimeStamp', 'EquipmentID'])\n",
    "faults_diagnostics = faults_diagnostics.merge(rolling_window_6H, on = ['EventTimeStamp', 'EquipmentID'])\n",
    "faults_diagnostics = faults_diagnostics.merge(rolling_window_12H, on = ['EventTimeStamp', 'EquipmentID'])\n",
    "faults_diagnostics = faults_diagnostics.drop_duplicates()"
   ]
  },
  {
   "cell_type": "code",
   "execution_count": null,
   "metadata": {},
   "outputs": [],
   "source": [
    "display(faults_diagnostics.groupby('EventCluster_3H').size().mean())\n",
    "display(faults_diagnostics.groupby('EventCluster_6H').size().mean())\n",
    "display(faults_diagnostics.groupby('EventCluster_12H').size().mean())"
   ]
  }
 ],
 "metadata": {
  "interpreter": {
   "hash": "3d6140ef0c675026b0200147df87972487ebc0097827c4c765c9e0dcd9cf7b2f"
  },
  "kernelspec": {
   "display_name": "Python 3.8.8 ('base')",
   "language": "python",
   "name": "python3"
  },
  "language_info": {
   "codemirror_mode": {
    "name": "ipython",
    "version": 3
   },
   "file_extension": ".py",
   "mimetype": "text/x-python",
   "name": "python",
   "nbconvert_exporter": "python",
   "pygments_lexer": "ipython3",
   "version": "3.8.8"
  },
  "orig_nbformat": 4
 },
 "nbformat": 4,
 "nbformat_minor": 2
}
