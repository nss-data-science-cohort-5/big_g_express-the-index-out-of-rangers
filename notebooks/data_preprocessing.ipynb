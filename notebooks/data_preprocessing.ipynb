{
 "cells": [
  {
   "cell_type": "code",
   "execution_count": null,
   "metadata": {},
   "outputs": [],
   "source": [
    "# Import libraries\n",
    "import pandas as pd\n",
    "import geopandas as gpd\n",
    "from shapely.geometry import Point"
   ]
  },
  {
   "cell_type": "code",
   "execution_count": null,
   "metadata": {},
   "outputs": [],
   "source": [
    "# Set view options\n",
    "pd.set_option('display.max_rows', 500)\n",
    "pd.set_option('display.max_columns', 500)"
   ]
  },
  {
   "cell_type": "code",
   "execution_count": null,
   "metadata": {},
   "outputs": [],
   "source": [
    "# Read in faults and diagnostics data, merge datasets, and convert to geopandas dataframe\n",
    "faults = pd.read_csv('../data/J1939Faults.csv', index_col = 'RecordID', parse_dates = ['EventTimeStamp', 'LocationTimeStamp']) \\\n",
    "    .drop(columns = ['actionDescription', 'faultValue'])\n",
    "\n",
    "diagnostics = pd.read_csv('../data/VehicleDiagnosticOnboardData.csv') \\\n",
    "    .pivot(index = 'FaultId', columns = 'Name', values = 'Value')\n",
    "\n",
    "faults_diagnostics = faults.merge(diagnostics, left_on = 'RecordID', right_on = 'FaultId') \\\n",
    "    .set_index('EventTimeStamp').sort_index()\n",
    "\n",
    "faults_diagnostics = gpd.GeoDataFrame(faults_diagnostics, geometry = gpd.points_from_xy(faults_diagnostics.Longitude, faults_diagnostics.Latitude))"
   ]
  },
  {
   "cell_type": "code",
   "execution_count": null,
   "metadata": {},
   "outputs": [],
   "source": [
    "# Filter faults where EquipmentID has more than 5 characters \n",
    "faults_diagnostics = faults_diagnostics[faults_diagnostics['EquipmentID'].astype(str).str.len() < 5]\n",
    "\n",
    "# Filter faults occurring in vicinity of service locations\n",
    "faults_diagnostics = faults_diagnostics[~(faults_diagnostics.distance(Point(-86.4347222, 36.0666667)) < 0.01)]\n",
    "faults_diagnostics = faults_diagnostics[~(faults_diagnostics.distance(Point(-86.4438888, 35.5883333)) < 0.01)]\n",
    "faults_diagnostics = faults_diagnostics[~(faults_diagnostics.distance(Point(-83.174722, 36.1950)) < 0.01)]"
   ]
  },
  {
   "cell_type": "code",
   "execution_count": null,
   "metadata": {},
   "outputs": [],
   "source": [
    "# Write faults_diagnostics to csv\n",
    "faults_diagnostics.drop(columns = 'geometry').to_csv('../data/faults_diagnostics.csv')"
   ]
  }
 ],
 "metadata": {
  "interpreter": {
   "hash": "3d6140ef0c675026b0200147df87972487ebc0097827c4c765c9e0dcd9cf7b2f"
  },
  "kernelspec": {
   "display_name": "Python 3.8.8 ('base')",
   "language": "python",
   "name": "python3"
  },
  "language_info": {
   "codemirror_mode": {
    "name": "ipython",
    "version": 3
   },
   "file_extension": ".py",
   "mimetype": "text/x-python",
   "name": "python",
   "nbconvert_exporter": "python",
   "pygments_lexer": "ipython3",
   "version": "3.8.13"
  },
  "orig_nbformat": 4
 },
 "nbformat": 4,
 "nbformat_minor": 2
}
