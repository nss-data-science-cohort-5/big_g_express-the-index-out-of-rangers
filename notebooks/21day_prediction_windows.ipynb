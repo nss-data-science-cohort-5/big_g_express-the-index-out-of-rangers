{
 "cells": [
  {
   "cell_type": "code",
   "execution_count": 1,
   "id": "e3f54d29",
   "metadata": {},
   "outputs": [],
   "source": [
    "import pandas as pd\n",
    "import numpy as np\n",
    "import matplotlib.pyplot as plt\n",
    "import seaborn as sns\n",
    "from imblearn.over_sampling import SMOTE\n",
    "from imblearn.under_sampling import RandomUnderSampler\n",
    "from sklearn.linear_model import LogisticRegression\n",
    "from sklearn.metrics import accuracy_score, confusion_matrix, classification_report, f1_score\n",
    "from sklearn.pipeline import Pipeline\n",
    "from sklearn.preprocessing import MinMaxScaler\n",
    "from sklearn.ensemble import RandomForestClassifier\n",
    "from sklearn import metrics"
   ]
  },
  {
   "cell_type": "code",
   "execution_count": 2,
   "id": "abc1795a",
   "metadata": {},
   "outputs": [],
   "source": [
    "# Set view options\n",
    "pd.set_option('display.max_rows', 500)\n",
    "pd.set_option('display.max_columns', 500)"
   ]
  },
  {
   "cell_type": "code",
   "execution_count": 3,
   "id": "b190b408",
   "metadata": {
    "scrolled": false
   },
   "outputs": [
    {
     "name": "stderr",
     "output_type": "stream",
     "text": [
      "C:\\Users\\Conrad\\AppData\\Local\\Temp\\ipykernel_21460\\3942603523.py:1: DtypeWarning: Columns (3,4,7,8,10,11,12,13,14,15,16,17,19,21,22,23,24,25) have mixed types. Specify dtype option on import or set low_memory=False.\n",
      "  obs = pd.read_csv(\"../data/obs_windows/observation_21D_prediction_24H_48H_72H.csv\")\n"
     ]
    }
   ],
   "source": [
    "obs = pd.read_csv(\"../data/obs_windows/observation_21D_prediction_24H_48H_72H.csv\")"
   ]
  },
  {
   "cell_type": "markdown",
   "id": "d39f1ee4",
   "metadata": {},
   "source": [
    "### 24hr prediction window"
   ]
  },
  {
   "cell_type": "code",
   "execution_count": 4,
   "id": "65035957",
   "metadata": {
    "scrolled": true
   },
   "outputs": [],
   "source": [
    "obs_24 = obs.drop(obs.loc[:, 'spn':'full_derate_within_24hr'], axis=1).drop(obs.loc[:, 'partial_derate_within_48hr':'derate_within_72hr'], axis=1).drop(columns='EventTimeStamp')"
   ]
  },
  {
   "cell_type": "code",
   "execution_count": 5,
   "id": "981642a6",
   "metadata": {},
   "outputs": [
    {
     "data": {
      "text/plain": [
       "1039"
      ]
     },
     "execution_count": 5,
     "metadata": {},
     "output_type": "execute_result"
    }
   ],
   "source": [
    "eq_ids = obs_24.drop_duplicates(subset='EquipmentID')\n",
    "eq_ids = eq_ids[['EquipmentID']]\n",
    "eq_ids.shape[0]"
   ]
  },
  {
   "cell_type": "code",
   "execution_count": 6,
   "id": "f36697fc",
   "metadata": {
    "scrolled": true
   },
   "outputs": [],
   "source": [
    "np.random.seed(321)\n",
    "\n",
    "eq_ids['random'] = (np.random.randint(0, 10000, eq_ids.shape[0]))/10000"
   ]
  },
  {
   "cell_type": "code",
   "execution_count": 7,
   "id": "07a121b7",
   "metadata": {},
   "outputs": [],
   "source": [
    "#create column 'modeling' labeling ~35% of the data for training, ~30% for validation, and ~35% for testing \n",
    "eq_ids['modeling'] = np.where(((eq_ids.random <= 0.35)), 'training', np.where(((eq_ids.random <= 0.65)), 'validation', 'testing'))"
   ]
  },
  {
   "cell_type": "code",
   "execution_count": 8,
   "id": "f3da264e",
   "metadata": {},
   "outputs": [],
   "source": [
    "#merge modeling column onto original dataframe\n",
    "obs_24 = obs_24.sort_values(by='EquipmentID')\n",
    "eq_ids = eq_ids.sort_values(by='EquipmentID')\n",
    "\n",
    "obs_24 = obs_24.merge(eq_ids, on='EquipmentID')\n",
    "obs_24 = obs_24.drop(columns='EquipmentID')"
   ]
  },
  {
   "cell_type": "code",
   "execution_count": 9,
   "id": "98ddd7dc",
   "metadata": {},
   "outputs": [
    {
     "name": "stdout",
     "output_type": "stream",
     "text": [
      "(200860, 56)\n",
      "(202749, 56)\n",
      "(151246, 56)\n"
     ]
    }
   ],
   "source": [
    "#creating training, testing, and validation dfs\n",
    "obs_24_training = obs_24[obs_24['modeling']=='training']\n",
    "obs_24_training = obs_24_training.drop(columns=['modeling', 'random'])\n",
    "print(obs_24_training.shape)\n",
    "\n",
    "obs_24_test = obs_24[obs_24['modeling']=='testing']\n",
    "obs_24_test = obs_24_test.drop(columns=['modeling', 'random'])\n",
    "print(obs_24_test.shape)\n",
    "\n",
    "obs_24_validation = obs_24[obs_24['modeling']=='validation']\n",
    "obs_24_validation = obs_24_validation.drop(columns=['modeling', 'random'])\n",
    "print(obs_24_validation.shape)"
   ]
  },
  {
   "cell_type": "code",
   "execution_count": 10,
   "id": "25de4383",
   "metadata": {},
   "outputs": [],
   "source": [
    "df_sampling = obs_24_training\n",
    "df_sampling_non_tenth = df_sampling[df_sampling['derate_within_24hr'] == 0][0:18855]"
   ]
  },
  {
   "cell_type": "code",
   "execution_count": 11,
   "id": "4672f915",
   "metadata": {},
   "outputs": [],
   "source": [
    "df_sampling_derate_tenth = pd.concat([df_sampling[df_sampling['derate_within_24hr']==1], df_sampling_non_tenth])"
   ]
  },
  {
   "cell_type": "code",
   "execution_count": 12,
   "id": "4a3b0f75",
   "metadata": {},
   "outputs": [],
   "source": [
    "oversampler = SMOTE(k_neighbors=5, random_state=321)\n",
    "\n",
    "features = df_sampling_derate_tenth.loc[:, 'Aftertreatment System':].columns.tolist()\n",
    "\n",
    "target = ['derate_within_24hr']\n",
    "\n",
    "X_train = df_sampling_derate_tenth[features]\n",
    "y_train = df_sampling_derate_tenth[target]"
   ]
  },
  {
   "cell_type": "code",
   "execution_count": 13,
   "id": "c2fb8168",
   "metadata": {},
   "outputs": [],
   "source": [
    "X_smote, y_smote = oversampler.fit_resample(X_train, y_train)"
   ]
  },
  {
   "cell_type": "code",
   "execution_count": 14,
   "id": "8398fa26",
   "metadata": {},
   "outputs": [
    {
     "data": {
      "text/plain": [
       "(18855, 56)"
      ]
     },
     "execution_count": 14,
     "metadata": {},
     "output_type": "execute_result"
    }
   ],
   "source": [
    "smote_all = pd.concat([y_smote, X_smote], axis=1)\n",
    "smote_derate = smote_all[smote_all['derate_within_24hr']==1]\n",
    "smote_derate.shape"
   ]
  },
  {
   "cell_type": "code",
   "execution_count": 15,
   "id": "d27fbd8f",
   "metadata": {},
   "outputs": [
    {
     "data": {
      "text/plain": [
       "(215061, 56)"
      ]
     },
     "execution_count": 15,
     "metadata": {},
     "output_type": "execute_result"
    }
   ],
   "source": [
    "und_samp = pd.concat([smote_derate, df_sampling[df_sampling['derate_within_24hr']==0]])\n",
    "und_samp.shape"
   ]
  },
  {
   "cell_type": "code",
   "execution_count": 16,
   "id": "d9048449",
   "metadata": {},
   "outputs": [],
   "source": [
    "undersampler = RandomUnderSampler(random_state=321, sampling_strategy=1/2)\n",
    "\n",
    "features = und_samp.loc[:, 'Aftertreatment System':].columns.tolist()\n",
    "\n",
    "target =['derate_within_24hr']\n",
    "\n",
    "X_train_final = und_samp[features]\n",
    "y_train_final = und_samp[target]\n",
    "\n",
    "X_test = obs_24_test[features]\n",
    "y_test = obs_24_test[target]"
   ]
  },
  {
   "cell_type": "code",
   "execution_count": 17,
   "id": "f434ed51",
   "metadata": {},
   "outputs": [],
   "source": [
    "X_resampled, y_resampled = undersampler.fit_resample(X_train_final, y_train_final)"
   ]
  },
  {
   "cell_type": "code",
   "execution_count": 18,
   "id": "9495117f",
   "metadata": {
    "scrolled": true
   },
   "outputs": [
    {
     "name": "stdout",
     "output_type": "stream",
     "text": [
      "(56565, 1)\n"
     ]
    }
   ],
   "source": [
    "print(y_resampled.shape)"
   ]
  },
  {
   "cell_type": "code",
   "execution_count": 19,
   "id": "dbc595d7",
   "metadata": {},
   "outputs": [],
   "source": [
    "rf_pipeline = Pipeline(\n",
    "    steps = [\n",
    "        ('scale', MinMaxScaler()),\n",
    "        ('rf_clf', RandomForestClassifier(n_estimators = 500, n_jobs = -1, random_state = 69))\n",
    "    ]\n",
    ")"
   ]
  },
  {
   "cell_type": "code",
   "execution_count": 20,
   "id": "42f5e192",
   "metadata": {
    "scrolled": false
   },
   "outputs": [
    {
     "name": "stderr",
     "output_type": "stream",
     "text": [
      "C:\\Users\\Conrad\\anaconda3\\envs\\p310\\lib\\site-packages\\sklearn\\pipeline.py:394: DataConversionWarning: A column-vector y was passed when a 1d array was expected. Please change the shape of y to (n_samples,), for example using ravel().\n",
      "  self._final_estimator.fit(Xt, y, **fit_params_last_step)\n"
     ]
    }
   ],
   "source": [
    "rand_forest = rf_pipeline.fit(X_resampled, y_resampled)\n",
    "rf_pipeline.score(X_test, y_test)\n",
    "\n",
    "y_pred = rand_forest.predict(X_test)"
   ]
  },
  {
   "cell_type": "code",
   "execution_count": 21,
   "id": "0ad25530",
   "metadata": {
    "scrolled": true
   },
   "outputs": [
    {
     "data": {
      "text/html": [
       "<div>\n",
       "<style scoped>\n",
       "    .dataframe tbody tr th:only-of-type {\n",
       "        vertical-align: middle;\n",
       "    }\n",
       "\n",
       "    .dataframe tbody tr th {\n",
       "        vertical-align: top;\n",
       "    }\n",
       "\n",
       "    .dataframe thead th {\n",
       "        text-align: right;\n",
       "    }\n",
       "</style>\n",
       "<table border=\"1\" class=\"dataframe\">\n",
       "  <thead>\n",
       "    <tr style=\"text-align: right;\">\n",
       "      <th></th>\n",
       "      <th>feature</th>\n",
       "      <th>importance</th>\n",
       "    </tr>\n",
       "  </thead>\n",
       "  <tbody>\n",
       "    <tr>\n",
       "      <th>29</th>\n",
       "      <td>Engine Protection Torque Partial Derate</td>\n",
       "      <td>3.088825e-01</td>\n",
       "    </tr>\n",
       "    <tr>\n",
       "      <th>0</th>\n",
       "      <td>Aftertreatment System</td>\n",
       "      <td>2.141843e-01</td>\n",
       "    </tr>\n",
       "    <tr>\n",
       "      <th>51</th>\n",
       "      <td>Unknown</td>\n",
       "      <td>1.394362e-01</td>\n",
       "    </tr>\n",
       "    <tr>\n",
       "      <th>18</th>\n",
       "      <td>Engine Coolant</td>\n",
       "      <td>8.119624e-02</td>\n",
       "    </tr>\n",
       "    <tr>\n",
       "      <th>22</th>\n",
       "      <td>Engine Fuel</td>\n",
       "      <td>4.257644e-02</td>\n",
       "    </tr>\n",
       "    <tr>\n",
       "      <th>43</th>\n",
       "      <td>J1939 Network</td>\n",
       "      <td>3.085046e-02</td>\n",
       "    </tr>\n",
       "    <tr>\n",
       "      <th>28</th>\n",
       "      <td>Engine Protection Torque Full Derate</td>\n",
       "      <td>2.877766e-02</td>\n",
       "    </tr>\n",
       "    <tr>\n",
       "      <th>41</th>\n",
       "      <td>Intake Manifold</td>\n",
       "      <td>2.615304e-02</td>\n",
       "    </tr>\n",
       "    <tr>\n",
       "      <th>52</th>\n",
       "      <td>Variable Geometry Turbocharger</td>\n",
       "      <td>2.187922e-02</td>\n",
       "    </tr>\n",
       "    <tr>\n",
       "      <th>17</th>\n",
       "      <td>Engine Control Module</td>\n",
       "      <td>1.747394e-02</td>\n",
       "    </tr>\n",
       "    <tr>\n",
       "      <th>39</th>\n",
       "      <td>Injector Metering Rail</td>\n",
       "      <td>1.408870e-02</td>\n",
       "    </tr>\n",
       "    <tr>\n",
       "      <th>34</th>\n",
       "      <td>Exhaust Gas Recirculation System</td>\n",
       "      <td>1.120984e-02</td>\n",
       "    </tr>\n",
       "    <tr>\n",
       "      <th>33</th>\n",
       "      <td>Exhaust Gas</td>\n",
       "      <td>1.030357e-02</td>\n",
       "    </tr>\n",
       "    <tr>\n",
       "      <th>40</th>\n",
       "      <td>Injector Solenoid</td>\n",
       "      <td>8.128945e-03</td>\n",
       "    </tr>\n",
       "    <tr>\n",
       "      <th>9</th>\n",
       "      <td>ECU Power Output Supply Voltage</td>\n",
       "      <td>7.119644e-03</td>\n",
       "    </tr>\n",
       "    <tr>\n",
       "      <th>26</th>\n",
       "      <td>Engine Oil</td>\n",
       "      <td>5.252882e-03</td>\n",
       "    </tr>\n",
       "    <tr>\n",
       "      <th>13</th>\n",
       "      <td>Electronic Throttle Control</td>\n",
       "      <td>3.927316e-03</td>\n",
       "    </tr>\n",
       "    <tr>\n",
       "      <th>20</th>\n",
       "      <td>Engine Diesel Particulate Filter</td>\n",
       "      <td>3.516498e-03</td>\n",
       "    </tr>\n",
       "    <tr>\n",
       "      <th>1</th>\n",
       "      <td>Ambient Air Temperature</td>\n",
       "      <td>3.370937e-03</td>\n",
       "    </tr>\n",
       "    <tr>\n",
       "      <th>45</th>\n",
       "      <td>Sensor Supply</td>\n",
       "      <td>2.792647e-03</td>\n",
       "    </tr>\n",
       "    <tr>\n",
       "      <th>30</th>\n",
       "      <td>Engine Speed</td>\n",
       "      <td>2.286334e-03</td>\n",
       "    </tr>\n",
       "    <tr>\n",
       "      <th>50</th>\n",
       "      <td>Turbocharger</td>\n",
       "      <td>2.132919e-03</td>\n",
       "    </tr>\n",
       "    <tr>\n",
       "      <th>6</th>\n",
       "      <td>Battery</td>\n",
       "      <td>1.981602e-03</td>\n",
       "    </tr>\n",
       "    <tr>\n",
       "      <th>47</th>\n",
       "      <td>Total Vehicle Distance</td>\n",
       "      <td>1.965122e-03</td>\n",
       "    </tr>\n",
       "    <tr>\n",
       "      <th>35</th>\n",
       "      <td>Fan Control</td>\n",
       "      <td>1.959878e-03</td>\n",
       "    </tr>\n",
       "    <tr>\n",
       "      <th>7</th>\n",
       "      <td>Crankcase</td>\n",
       "      <td>1.691626e-03</td>\n",
       "    </tr>\n",
       "    <tr>\n",
       "      <th>2</th>\n",
       "      <td>Anti-Lock Braking (ABS) Controller</td>\n",
       "      <td>1.439651e-03</td>\n",
       "    </tr>\n",
       "    <tr>\n",
       "      <th>54</th>\n",
       "      <td>Wheel-Based Vehicle Speed</td>\n",
       "      <td>1.240883e-03</td>\n",
       "    </tr>\n",
       "    <tr>\n",
       "      <th>23</th>\n",
       "      <td>Engine Injector Metering Rail</td>\n",
       "      <td>1.137416e-03</td>\n",
       "    </tr>\n",
       "    <tr>\n",
       "      <th>19</th>\n",
       "      <td>Engine Cooling System</td>\n",
       "      <td>1.004730e-03</td>\n",
       "    </tr>\n",
       "    <tr>\n",
       "      <th>44</th>\n",
       "      <td>Real Time Clock</td>\n",
       "      <td>7.229432e-04</td>\n",
       "    </tr>\n",
       "    <tr>\n",
       "      <th>46</th>\n",
       "      <td>Steering Wheel Angle Sensor</td>\n",
       "      <td>4.594107e-04</td>\n",
       "    </tr>\n",
       "    <tr>\n",
       "      <th>15</th>\n",
       "      <td>Engine Brake</td>\n",
       "      <td>1.739735e-04</td>\n",
       "    </tr>\n",
       "    <tr>\n",
       "      <th>53</th>\n",
       "      <td>Vehicle Identification Number</td>\n",
       "      <td>1.279563e-04</td>\n",
       "    </tr>\n",
       "    <tr>\n",
       "      <th>25</th>\n",
       "      <td>Engine Misfire</td>\n",
       "      <td>1.230489e-04</td>\n",
       "    </tr>\n",
       "    <tr>\n",
       "      <th>5</th>\n",
       "      <td>Barometric Pressure Sensor</td>\n",
       "      <td>1.082634e-04</td>\n",
       "    </tr>\n",
       "    <tr>\n",
       "      <th>32</th>\n",
       "      <td>Engine Total Idle Hours</td>\n",
       "      <td>9.539119e-05</td>\n",
       "    </tr>\n",
       "    <tr>\n",
       "      <th>38</th>\n",
       "      <td>Indicator Lamp</td>\n",
       "      <td>8.753811e-05</td>\n",
       "    </tr>\n",
       "    <tr>\n",
       "      <th>42</th>\n",
       "      <td>Intake Throttle</td>\n",
       "      <td>5.865832e-05</td>\n",
       "    </tr>\n",
       "    <tr>\n",
       "      <th>36</th>\n",
       "      <td>Fuel Control Module</td>\n",
       "      <td>4.328522e-05</td>\n",
       "    </tr>\n",
       "    <tr>\n",
       "      <th>24</th>\n",
       "      <td>Engine Intake Air Heater</td>\n",
       "      <td>1.743229e-05</td>\n",
       "    </tr>\n",
       "    <tr>\n",
       "      <th>48</th>\n",
       "      <td>Transmission Communications Failure Idle Torqu...</td>\n",
       "      <td>1.643449e-05</td>\n",
       "    </tr>\n",
       "    <tr>\n",
       "      <th>21</th>\n",
       "      <td>Engine Exhaust Back Pressure</td>\n",
       "      <td>2.240757e-06</td>\n",
       "    </tr>\n",
       "    <tr>\n",
       "      <th>49</th>\n",
       "      <td>Transmission Oil</td>\n",
       "      <td>1.569807e-06</td>\n",
       "    </tr>\n",
       "    <tr>\n",
       "      <th>8</th>\n",
       "      <td>DAS Module to ECM Communication</td>\n",
       "      <td>5.999250e-07</td>\n",
       "    </tr>\n",
       "    <tr>\n",
       "      <th>11</th>\n",
       "      <td>Electrical Charging System Voltage</td>\n",
       "      <td>1.176806e-07</td>\n",
       "    </tr>\n",
       "    <tr>\n",
       "      <th>27</th>\n",
       "      <td>Engine Position Sensor</td>\n",
       "      <td>2.645744e-08</td>\n",
       "    </tr>\n",
       "    <tr>\n",
       "      <th>10</th>\n",
       "      <td>Electric Lift Pump</td>\n",
       "      <td>0.000000e+00</td>\n",
       "    </tr>\n",
       "    <tr>\n",
       "      <th>14</th>\n",
       "      <td>Engine Air Filter</td>\n",
       "      <td>0.000000e+00</td>\n",
       "    </tr>\n",
       "    <tr>\n",
       "      <th>37</th>\n",
       "      <td>High Pressure Common Rail Fuel Pressure Relief...</td>\n",
       "      <td>0.000000e+00</td>\n",
       "    </tr>\n",
       "    <tr>\n",
       "      <th>16</th>\n",
       "      <td>Engine Charge Air Cooler Outlet Temperature</td>\n",
       "      <td>0.000000e+00</td>\n",
       "    </tr>\n",
       "    <tr>\n",
       "      <th>4</th>\n",
       "      <td>Auxiliary Temperature Sensor Input Circuit</td>\n",
       "      <td>0.000000e+00</td>\n",
       "    </tr>\n",
       "    <tr>\n",
       "      <th>3</th>\n",
       "      <td>Auxiliary Input/Output</td>\n",
       "      <td>0.000000e+00</td>\n",
       "    </tr>\n",
       "    <tr>\n",
       "      <th>31</th>\n",
       "      <td>Engine Starter Motor Relay</td>\n",
       "      <td>0.000000e+00</td>\n",
       "    </tr>\n",
       "    <tr>\n",
       "      <th>12</th>\n",
       "      <td>Electronic Fuel Injection Control Valve</td>\n",
       "      <td>0.000000e+00</td>\n",
       "    </tr>\n",
       "  </tbody>\n",
       "</table>\n",
       "</div>"
      ],
      "text/plain": [
       "                                              feature    importance\n",
       "29            Engine Protection Torque Partial Derate  3.088825e-01\n",
       "0                               Aftertreatment System  2.141843e-01\n",
       "51                                            Unknown  1.394362e-01\n",
       "18                                     Engine Coolant  8.119624e-02\n",
       "22                                        Engine Fuel  4.257644e-02\n",
       "43                                      J1939 Network  3.085046e-02\n",
       "28               Engine Protection Torque Full Derate  2.877766e-02\n",
       "41                                    Intake Manifold  2.615304e-02\n",
       "52                     Variable Geometry Turbocharger  2.187922e-02\n",
       "17                              Engine Control Module  1.747394e-02\n",
       "39                             Injector Metering Rail  1.408870e-02\n",
       "34                   Exhaust Gas Recirculation System  1.120984e-02\n",
       "33                                        Exhaust Gas  1.030357e-02\n",
       "40                                  Injector Solenoid  8.128945e-03\n",
       "9                     ECU Power Output Supply Voltage  7.119644e-03\n",
       "26                                         Engine Oil  5.252882e-03\n",
       "13                        Electronic Throttle Control  3.927316e-03\n",
       "20                   Engine Diesel Particulate Filter  3.516498e-03\n",
       "1                             Ambient Air Temperature  3.370937e-03\n",
       "45                                      Sensor Supply  2.792647e-03\n",
       "30                                       Engine Speed  2.286334e-03\n",
       "50                                       Turbocharger  2.132919e-03\n",
       "6                                             Battery  1.981602e-03\n",
       "47                             Total Vehicle Distance  1.965122e-03\n",
       "35                                        Fan Control  1.959878e-03\n",
       "7                                           Crankcase  1.691626e-03\n",
       "2                  Anti-Lock Braking (ABS) Controller  1.439651e-03\n",
       "54                          Wheel-Based Vehicle Speed  1.240883e-03\n",
       "23                      Engine Injector Metering Rail  1.137416e-03\n",
       "19                              Engine Cooling System  1.004730e-03\n",
       "44                                    Real Time Clock  7.229432e-04\n",
       "46                        Steering Wheel Angle Sensor  4.594107e-04\n",
       "15                                       Engine Brake  1.739735e-04\n",
       "53                      Vehicle Identification Number  1.279563e-04\n",
       "25                                     Engine Misfire  1.230489e-04\n",
       "5                          Barometric Pressure Sensor  1.082634e-04\n",
       "32                            Engine Total Idle Hours  9.539119e-05\n",
       "38                                     Indicator Lamp  8.753811e-05\n",
       "42                                    Intake Throttle  5.865832e-05\n",
       "36                                Fuel Control Module  4.328522e-05\n",
       "24                           Engine Intake Air Heater  1.743229e-05\n",
       "48  Transmission Communications Failure Idle Torqu...  1.643449e-05\n",
       "21                       Engine Exhaust Back Pressure  2.240757e-06\n",
       "49                                   Transmission Oil  1.569807e-06\n",
       "8                     DAS Module to ECM Communication  5.999250e-07\n",
       "11                 Electrical Charging System Voltage  1.176806e-07\n",
       "27                             Engine Position Sensor  2.645744e-08\n",
       "10                                 Electric Lift Pump  0.000000e+00\n",
       "14                                  Engine Air Filter  0.000000e+00\n",
       "37  High Pressure Common Rail Fuel Pressure Relief...  0.000000e+00\n",
       "16        Engine Charge Air Cooler Outlet Temperature  0.000000e+00\n",
       "4          Auxiliary Temperature Sensor Input Circuit  0.000000e+00\n",
       "3                              Auxiliary Input/Output  0.000000e+00\n",
       "31                         Engine Starter Motor Relay  0.000000e+00\n",
       "12            Electronic Fuel Injection Control Valve  0.000000e+00"
      ]
     },
     "execution_count": 21,
     "metadata": {},
     "output_type": "execute_result"
    }
   ],
   "source": [
    "data = {'feature': np.array(X_resampled.columns), 'importance': rf_pipeline.named_steps['rf_clf'].feature_importances_}\n",
    "pd.DataFrame(data).sort_values('importance', ascending = False)\n"
   ]
  },
  {
   "cell_type": "code",
   "execution_count": 22,
   "id": "1fbd9533",
   "metadata": {},
   "outputs": [
    {
     "data": {
      "text/plain": [
       "array([[191854,   6158],\n",
       "       [  1625,   3112]], dtype=int64)"
      ]
     },
     "execution_count": 22,
     "metadata": {},
     "output_type": "execute_result"
    }
   ],
   "source": [
    "confusion_matrix(y_test, y_pred)"
   ]
  },
  {
   "cell_type": "code",
   "execution_count": 23,
   "id": "df3a365b",
   "metadata": {},
   "outputs": [],
   "source": [
    "tn, fp, fn, tp = confusion_matrix(y_test, y_pred).ravel()"
   ]
  },
  {
   "cell_type": "code",
   "execution_count": 24,
   "id": "bb69f669",
   "metadata": {
    "scrolled": true
   },
   "outputs": [
    {
     "data": {
      "text/plain": [
       "(191854, 6158, 1625, 3112)"
      ]
     },
     "execution_count": 24,
     "metadata": {},
     "output_type": "execute_result"
    }
   ],
   "source": [
    "(tn, fp, fn, tp)"
   ]
  },
  {
   "cell_type": "code",
   "execution_count": 25,
   "id": "f2b764fc",
   "metadata": {
    "scrolled": false
   },
   "outputs": [
    {
     "name": "stdout",
     "output_type": "stream",
     "text": [
      "              precision    recall  f1-score   support\n",
      "\n",
      "         0.0       0.99      0.97      0.98    198012\n",
      "         1.0       0.34      0.66      0.44      4737\n",
      "\n",
      "    accuracy                           0.96    202749\n",
      "   macro avg       0.66      0.81      0.71    202749\n",
      "weighted avg       0.98      0.96      0.97    202749\n",
      "\n"
     ]
    }
   ],
   "source": [
    "print(classification_report(y_test, y_pred, zero_division = 0))"
   ]
  },
  {
   "cell_type": "code",
   "execution_count": 122,
   "id": "479c9e24",
   "metadata": {},
   "outputs": [],
   "source": [
    "lg_pipeline =  Pipeline(\n",
    "    steps = [\n",
    "        ('scale', MinMaxScaler()),\n",
    "        ('lg_clf', LogisticRegression())\n",
    "    ]\n",
    ")"
   ]
  },
  {
   "cell_type": "code",
   "execution_count": 124,
   "id": "ecf39727",
   "metadata": {},
   "outputs": [
    {
     "name": "stderr",
     "output_type": "stream",
     "text": [
      "C:\\Users\\Conrad\\anaconda3\\envs\\p310\\lib\\site-packages\\sklearn\\utils\\validation.py:993: DataConversionWarning: A column-vector y was passed when a 1d array was expected. Please change the shape of y to (n_samples, ), for example using ravel().\n",
      "  y = column_or_1d(y, warn=True)\n",
      "C:\\Users\\Conrad\\anaconda3\\envs\\p310\\lib\\site-packages\\sklearn\\linear_model\\_logistic.py:814: ConvergenceWarning: lbfgs failed to converge (status=1):\n",
      "STOP: TOTAL NO. of ITERATIONS REACHED LIMIT.\n",
      "\n",
      "Increase the number of iterations (max_iter) or scale the data as shown in:\n",
      "    https://scikit-learn.org/stable/modules/preprocessing.html\n",
      "Please also refer to the documentation for alternative solver options:\n",
      "    https://scikit-learn.org/stable/modules/linear_model.html#logistic-regression\n",
      "  n_iter_i = _check_optimize_result(\n"
     ]
    },
    {
     "name": "stdout",
     "output_type": "stream",
     "text": [
      "0.9211188136613722\n"
     ]
    }
   ],
   "source": [
    "logistic = lg_pipeline.fit(X_resampled, y_resampled)\n",
    "\n",
    "y_pred2 = logistic.predict(X_test)\n",
    "\n",
    "y_pred_proba = logistic.predict_proba(X_test)[::,1]\n",
    "\n",
    "auc = metrics.roc_auc_score(y_test, y_pred_proba)\n",
    "\n",
    "print(auc)"
   ]
  },
  {
   "cell_type": "markdown",
   "id": "a2b29834",
   "metadata": {},
   "source": [
    "### 48hr prediction window"
   ]
  },
  {
   "cell_type": "code",
   "execution_count": 26,
   "id": "3e7ea58f",
   "metadata": {
    "scrolled": true
   },
   "outputs": [],
   "source": [
    "obs_48 = obs.drop(obs.loc[:, 'spn':'full_derate_within_48hr'], axis=1).drop(obs.loc[:, 'partial_derate_within_72hr':'derate_within_72hr'], axis=1).drop(columns='EventTimeStamp')"
   ]
  },
  {
   "cell_type": "code",
   "execution_count": 27,
   "id": "3a4cce6e",
   "metadata": {},
   "outputs": [
    {
     "data": {
      "text/plain": [
       "1039"
      ]
     },
     "execution_count": 27,
     "metadata": {},
     "output_type": "execute_result"
    }
   ],
   "source": [
    "eq_ids = obs_48.drop_duplicates(subset='EquipmentID')\n",
    "eq_ids = eq_ids[['EquipmentID']]\n",
    "eq_ids.shape[0]"
   ]
  },
  {
   "cell_type": "code",
   "execution_count": 28,
   "id": "3de6f668",
   "metadata": {
    "scrolled": true
   },
   "outputs": [],
   "source": [
    "np.random.seed(321)\n",
    "\n",
    "eq_ids['random'] = (np.random.randint(0, 10000, eq_ids.shape[0]))/10000"
   ]
  },
  {
   "cell_type": "code",
   "execution_count": 29,
   "id": "c714c735",
   "metadata": {},
   "outputs": [],
   "source": [
    "#create column 'modeling' labeling ~35% of the data for training, ~30% for validation, and ~35% for testing \n",
    "eq_ids['modeling'] = np.where(((eq_ids.random <= 0.35)), 'training', np.where(((eq_ids.random <= 0.65)), 'validation', 'testing'))"
   ]
  },
  {
   "cell_type": "code",
   "execution_count": 30,
   "id": "f1311cc8",
   "metadata": {},
   "outputs": [],
   "source": [
    "#merge modeling column onto original dataframe\n",
    "obs_48 = obs_48.sort_values(by='EquipmentID')\n",
    "eq_ids = eq_ids.sort_values(by='EquipmentID')\n",
    "\n",
    "obs_48 = obs_48.merge(eq_ids, on='EquipmentID')\n",
    "obs_48 = obs_48.drop(columns='EquipmentID')"
   ]
  },
  {
   "cell_type": "code",
   "execution_count": 31,
   "id": "c7653cf6",
   "metadata": {},
   "outputs": [
    {
     "name": "stdout",
     "output_type": "stream",
     "text": [
      "(200860, 56)\n",
      "(202749, 56)\n",
      "(151246, 56)\n"
     ]
    }
   ],
   "source": [
    "#creating training, testing, and validation dfs\n",
    "obs_48_training = obs_48[obs_48['modeling']=='training']\n",
    "obs_48_training = obs_48_training.drop(columns=['modeling', 'random'])\n",
    "print(obs_48_training.shape)\n",
    "\n",
    "obs_48_test = obs_48[obs_48['modeling']=='testing']\n",
    "obs_48_test = obs_48_test.drop(columns=['modeling', 'random'])\n",
    "print(obs_48_test.shape)\n",
    "\n",
    "obs_48_validation = obs_48[obs_48['modeling']=='validation']\n",
    "obs_48_validation = obs_48_validation.drop(columns=['modeling', 'random'])\n",
    "print(obs_48_validation.shape)"
   ]
  },
  {
   "cell_type": "code",
   "execution_count": 32,
   "id": "ca86f873",
   "metadata": {},
   "outputs": [],
   "source": [
    "df_sampling = obs_48_training\n",
    "df_sampling_non_tenth = df_sampling[df_sampling['derate_within_48hr'] == 0][0:18855]"
   ]
  },
  {
   "cell_type": "code",
   "execution_count": 33,
   "id": "211d797c",
   "metadata": {},
   "outputs": [],
   "source": [
    "df_sampling_derate_tenth = pd.concat([df_sampling[df_sampling['derate_within_48hr']==1], df_sampling_non_tenth])"
   ]
  },
  {
   "cell_type": "code",
   "execution_count": 34,
   "id": "c0878fcf",
   "metadata": {},
   "outputs": [],
   "source": [
    "oversampler = SMOTE(k_neighbors=5, random_state=321)\n",
    "\n",
    "features = df_sampling_derate_tenth.loc[:, 'Aftertreatment System':].columns.tolist()\n",
    "\n",
    "target = ['derate_within_48hr']\n",
    "\n",
    "X_train = df_sampling_derate_tenth[features]\n",
    "y_train = df_sampling_derate_tenth[target]\n",
    "\n",
    "X_test = obs_48_test[features]\n",
    "y_test = obs_48_test[target]"
   ]
  },
  {
   "cell_type": "code",
   "execution_count": 35,
   "id": "ed0fc266",
   "metadata": {},
   "outputs": [],
   "source": [
    "X_smote, y_smote = oversampler.fit_resample(X_train, y_train)"
   ]
  },
  {
   "cell_type": "code",
   "execution_count": 36,
   "id": "ab3f862d",
   "metadata": {},
   "outputs": [
    {
     "data": {
      "text/plain": [
       "(18855, 56)"
      ]
     },
     "execution_count": 36,
     "metadata": {},
     "output_type": "execute_result"
    }
   ],
   "source": [
    "smote_all = pd.concat([y_smote, X_smote], axis=1)\n",
    "smote_derate = smote_all[smote_all['derate_within_48hr']==1]\n",
    "smote_derate.shape"
   ]
  },
  {
   "cell_type": "code",
   "execution_count": 37,
   "id": "7e52b3fd",
   "metadata": {},
   "outputs": [
    {
     "data": {
      "text/plain": [
       "(214184, 56)"
      ]
     },
     "execution_count": 37,
     "metadata": {},
     "output_type": "execute_result"
    }
   ],
   "source": [
    "und_samp = pd.concat([smote_derate, df_sampling[df_sampling['derate_within_48hr']==0]])\n",
    "und_samp.shape"
   ]
  },
  {
   "cell_type": "code",
   "execution_count": 38,
   "id": "0429ddf7",
   "metadata": {},
   "outputs": [],
   "source": [
    "undersampler = RandomUnderSampler(random_state=321, sampling_strategy=1/2)\n",
    "\n",
    "features = und_samp.loc[:, 'Aftertreatment System':].columns.tolist()\n",
    "\n",
    "target =['derate_within_48hr']\n",
    "\n",
    "X_train_final = und_samp[features]\n",
    "y_train_final = und_samp[target]"
   ]
  },
  {
   "cell_type": "code",
   "execution_count": 39,
   "id": "bdc607ca",
   "metadata": {},
   "outputs": [],
   "source": [
    "X_resampled, y_resampled = undersampler.fit_resample(X_train_final, y_train_final)"
   ]
  },
  {
   "cell_type": "code",
   "execution_count": 40,
   "id": "fd91ca95",
   "metadata": {
    "scrolled": true
   },
   "outputs": [
    {
     "name": "stdout",
     "output_type": "stream",
     "text": [
      "(56565, 1)\n"
     ]
    }
   ],
   "source": [
    "print(y_resampled.shape)"
   ]
  },
  {
   "cell_type": "code",
   "execution_count": 41,
   "id": "e9aad9f7",
   "metadata": {},
   "outputs": [],
   "source": [
    "rf_pipeline = Pipeline(\n",
    "    steps = [\n",
    "        ('scale', MinMaxScaler()),\n",
    "        ('rf_clf', RandomForestClassifier(n_estimators = 500, n_jobs = -1, random_state = 69))\n",
    "    ]\n",
    ")"
   ]
  },
  {
   "cell_type": "code",
   "execution_count": 42,
   "id": "a0ff2001",
   "metadata": {
    "scrolled": false
   },
   "outputs": [
    {
     "name": "stderr",
     "output_type": "stream",
     "text": [
      "C:\\Users\\Conrad\\anaconda3\\envs\\p310\\lib\\site-packages\\sklearn\\pipeline.py:394: DataConversionWarning: A column-vector y was passed when a 1d array was expected. Please change the shape of y to (n_samples,), for example using ravel().\n",
      "  self._final_estimator.fit(Xt, y, **fit_params_last_step)\n"
     ]
    }
   ],
   "source": [
    "rand_forest = rf_pipeline.fit(X_resampled, y_resampled)\n",
    "rf_pipeline.score(X_test, y_test)\n",
    "\n",
    "y_pred = rand_forest.predict(X_test)"
   ]
  },
  {
   "cell_type": "code",
   "execution_count": 43,
   "id": "dfa5a9a3",
   "metadata": {
    "scrolled": true
   },
   "outputs": [
    {
     "data": {
      "text/html": [
       "<div>\n",
       "<style scoped>\n",
       "    .dataframe tbody tr th:only-of-type {\n",
       "        vertical-align: middle;\n",
       "    }\n",
       "\n",
       "    .dataframe tbody tr th {\n",
       "        vertical-align: top;\n",
       "    }\n",
       "\n",
       "    .dataframe thead th {\n",
       "        text-align: right;\n",
       "    }\n",
       "</style>\n",
       "<table border=\"1\" class=\"dataframe\">\n",
       "  <thead>\n",
       "    <tr style=\"text-align: right;\">\n",
       "      <th></th>\n",
       "      <th>feature</th>\n",
       "      <th>importance</th>\n",
       "    </tr>\n",
       "  </thead>\n",
       "  <tbody>\n",
       "    <tr>\n",
       "      <th>29</th>\n",
       "      <td>Engine Protection Torque Partial Derate</td>\n",
       "      <td>2.778945e-01</td>\n",
       "    </tr>\n",
       "    <tr>\n",
       "      <th>0</th>\n",
       "      <td>Aftertreatment System</td>\n",
       "      <td>2.135735e-01</td>\n",
       "    </tr>\n",
       "    <tr>\n",
       "      <th>51</th>\n",
       "      <td>Unknown</td>\n",
       "      <td>1.494911e-01</td>\n",
       "    </tr>\n",
       "    <tr>\n",
       "      <th>18</th>\n",
       "      <td>Engine Coolant</td>\n",
       "      <td>8.952419e-02</td>\n",
       "    </tr>\n",
       "    <tr>\n",
       "      <th>22</th>\n",
       "      <td>Engine Fuel</td>\n",
       "      <td>5.016658e-02</td>\n",
       "    </tr>\n",
       "    <tr>\n",
       "      <th>43</th>\n",
       "      <td>J1939 Network</td>\n",
       "      <td>3.899121e-02</td>\n",
       "    </tr>\n",
       "    <tr>\n",
       "      <th>28</th>\n",
       "      <td>Engine Protection Torque Full Derate</td>\n",
       "      <td>2.509791e-02</td>\n",
       "    </tr>\n",
       "    <tr>\n",
       "      <th>41</th>\n",
       "      <td>Intake Manifold</td>\n",
       "      <td>2.435798e-02</td>\n",
       "    </tr>\n",
       "    <tr>\n",
       "      <th>52</th>\n",
       "      <td>Variable Geometry Turbocharger</td>\n",
       "      <td>2.087423e-02</td>\n",
       "    </tr>\n",
       "    <tr>\n",
       "      <th>17</th>\n",
       "      <td>Engine Control Module</td>\n",
       "      <td>1.850736e-02</td>\n",
       "    </tr>\n",
       "    <tr>\n",
       "      <th>39</th>\n",
       "      <td>Injector Metering Rail</td>\n",
       "      <td>1.449360e-02</td>\n",
       "    </tr>\n",
       "    <tr>\n",
       "      <th>34</th>\n",
       "      <td>Exhaust Gas Recirculation System</td>\n",
       "      <td>1.197096e-02</td>\n",
       "    </tr>\n",
       "    <tr>\n",
       "      <th>33</th>\n",
       "      <td>Exhaust Gas</td>\n",
       "      <td>9.777362e-03</td>\n",
       "    </tr>\n",
       "    <tr>\n",
       "      <th>40</th>\n",
       "      <td>Injector Solenoid</td>\n",
       "      <td>7.861168e-03</td>\n",
       "    </tr>\n",
       "    <tr>\n",
       "      <th>9</th>\n",
       "      <td>ECU Power Output Supply Voltage</td>\n",
       "      <td>6.285938e-03</td>\n",
       "    </tr>\n",
       "    <tr>\n",
       "      <th>26</th>\n",
       "      <td>Engine Oil</td>\n",
       "      <td>5.512492e-03</td>\n",
       "    </tr>\n",
       "    <tr>\n",
       "      <th>13</th>\n",
       "      <td>Electronic Throttle Control</td>\n",
       "      <td>5.272120e-03</td>\n",
       "    </tr>\n",
       "    <tr>\n",
       "      <th>1</th>\n",
       "      <td>Ambient Air Temperature</td>\n",
       "      <td>3.979876e-03</td>\n",
       "    </tr>\n",
       "    <tr>\n",
       "      <th>20</th>\n",
       "      <td>Engine Diesel Particulate Filter</td>\n",
       "      <td>3.704583e-03</td>\n",
       "    </tr>\n",
       "    <tr>\n",
       "      <th>30</th>\n",
       "      <td>Engine Speed</td>\n",
       "      <td>2.550356e-03</td>\n",
       "    </tr>\n",
       "    <tr>\n",
       "      <th>45</th>\n",
       "      <td>Sensor Supply</td>\n",
       "      <td>2.359950e-03</td>\n",
       "    </tr>\n",
       "    <tr>\n",
       "      <th>6</th>\n",
       "      <td>Battery</td>\n",
       "      <td>2.299376e-03</td>\n",
       "    </tr>\n",
       "    <tr>\n",
       "      <th>47</th>\n",
       "      <td>Total Vehicle Distance</td>\n",
       "      <td>2.078376e-03</td>\n",
       "    </tr>\n",
       "    <tr>\n",
       "      <th>50</th>\n",
       "      <td>Turbocharger</td>\n",
       "      <td>2.004395e-03</td>\n",
       "    </tr>\n",
       "    <tr>\n",
       "      <th>7</th>\n",
       "      <td>Crankcase</td>\n",
       "      <td>1.948608e-03</td>\n",
       "    </tr>\n",
       "    <tr>\n",
       "      <th>2</th>\n",
       "      <td>Anti-Lock Braking (ABS) Controller</td>\n",
       "      <td>1.630156e-03</td>\n",
       "    </tr>\n",
       "    <tr>\n",
       "      <th>23</th>\n",
       "      <td>Engine Injector Metering Rail</td>\n",
       "      <td>1.531717e-03</td>\n",
       "    </tr>\n",
       "    <tr>\n",
       "      <th>35</th>\n",
       "      <td>Fan Control</td>\n",
       "      <td>1.519421e-03</td>\n",
       "    </tr>\n",
       "    <tr>\n",
       "      <th>19</th>\n",
       "      <td>Engine Cooling System</td>\n",
       "      <td>1.298891e-03</td>\n",
       "    </tr>\n",
       "    <tr>\n",
       "      <th>54</th>\n",
       "      <td>Wheel-Based Vehicle Speed</td>\n",
       "      <td>1.293115e-03</td>\n",
       "    </tr>\n",
       "    <tr>\n",
       "      <th>44</th>\n",
       "      <td>Real Time Clock</td>\n",
       "      <td>6.670517e-04</td>\n",
       "    </tr>\n",
       "    <tr>\n",
       "      <th>46</th>\n",
       "      <td>Steering Wheel Angle Sensor</td>\n",
       "      <td>5.162972e-04</td>\n",
       "    </tr>\n",
       "    <tr>\n",
       "      <th>15</th>\n",
       "      <td>Engine Brake</td>\n",
       "      <td>2.365815e-04</td>\n",
       "    </tr>\n",
       "    <tr>\n",
       "      <th>32</th>\n",
       "      <td>Engine Total Idle Hours</td>\n",
       "      <td>1.452820e-04</td>\n",
       "    </tr>\n",
       "    <tr>\n",
       "      <th>5</th>\n",
       "      <td>Barometric Pressure Sensor</td>\n",
       "      <td>1.420838e-04</td>\n",
       "    </tr>\n",
       "    <tr>\n",
       "      <th>38</th>\n",
       "      <td>Indicator Lamp</td>\n",
       "      <td>1.157673e-04</td>\n",
       "    </tr>\n",
       "    <tr>\n",
       "      <th>25</th>\n",
       "      <td>Engine Misfire</td>\n",
       "      <td>1.112522e-04</td>\n",
       "    </tr>\n",
       "    <tr>\n",
       "      <th>53</th>\n",
       "      <td>Vehicle Identification Number</td>\n",
       "      <td>8.427847e-05</td>\n",
       "    </tr>\n",
       "    <tr>\n",
       "      <th>36</th>\n",
       "      <td>Fuel Control Module</td>\n",
       "      <td>4.752952e-05</td>\n",
       "    </tr>\n",
       "    <tr>\n",
       "      <th>48</th>\n",
       "      <td>Transmission Communications Failure Idle Torqu...</td>\n",
       "      <td>3.072811e-05</td>\n",
       "    </tr>\n",
       "    <tr>\n",
       "      <th>42</th>\n",
       "      <td>Intake Throttle</td>\n",
       "      <td>2.102141e-05</td>\n",
       "    </tr>\n",
       "    <tr>\n",
       "      <th>8</th>\n",
       "      <td>DAS Module to ECM Communication</td>\n",
       "      <td>1.078262e-05</td>\n",
       "    </tr>\n",
       "    <tr>\n",
       "      <th>24</th>\n",
       "      <td>Engine Intake Air Heater</td>\n",
       "      <td>9.424855e-06</td>\n",
       "    </tr>\n",
       "    <tr>\n",
       "      <th>21</th>\n",
       "      <td>Engine Exhaust Back Pressure</td>\n",
       "      <td>7.790108e-06</td>\n",
       "    </tr>\n",
       "    <tr>\n",
       "      <th>27</th>\n",
       "      <td>Engine Position Sensor</td>\n",
       "      <td>1.920291e-06</td>\n",
       "    </tr>\n",
       "    <tr>\n",
       "      <th>49</th>\n",
       "      <td>Transmission Oil</td>\n",
       "      <td>1.027878e-06</td>\n",
       "    </tr>\n",
       "    <tr>\n",
       "      <th>11</th>\n",
       "      <td>Electrical Charging System Voltage</td>\n",
       "      <td>1.551406e-07</td>\n",
       "    </tr>\n",
       "    <tr>\n",
       "      <th>12</th>\n",
       "      <td>Electronic Fuel Injection Control Valve</td>\n",
       "      <td>0.000000e+00</td>\n",
       "    </tr>\n",
       "    <tr>\n",
       "      <th>31</th>\n",
       "      <td>Engine Starter Motor Relay</td>\n",
       "      <td>0.000000e+00</td>\n",
       "    </tr>\n",
       "    <tr>\n",
       "      <th>14</th>\n",
       "      <td>Engine Air Filter</td>\n",
       "      <td>0.000000e+00</td>\n",
       "    </tr>\n",
       "    <tr>\n",
       "      <th>10</th>\n",
       "      <td>Electric Lift Pump</td>\n",
       "      <td>0.000000e+00</td>\n",
       "    </tr>\n",
       "    <tr>\n",
       "      <th>37</th>\n",
       "      <td>High Pressure Common Rail Fuel Pressure Relief...</td>\n",
       "      <td>0.000000e+00</td>\n",
       "    </tr>\n",
       "    <tr>\n",
       "      <th>16</th>\n",
       "      <td>Engine Charge Air Cooler Outlet Temperature</td>\n",
       "      <td>0.000000e+00</td>\n",
       "    </tr>\n",
       "    <tr>\n",
       "      <th>4</th>\n",
       "      <td>Auxiliary Temperature Sensor Input Circuit</td>\n",
       "      <td>0.000000e+00</td>\n",
       "    </tr>\n",
       "    <tr>\n",
       "      <th>3</th>\n",
       "      <td>Auxiliary Input/Output</td>\n",
       "      <td>0.000000e+00</td>\n",
       "    </tr>\n",
       "  </tbody>\n",
       "</table>\n",
       "</div>"
      ],
      "text/plain": [
       "                                              feature    importance\n",
       "29            Engine Protection Torque Partial Derate  2.778945e-01\n",
       "0                               Aftertreatment System  2.135735e-01\n",
       "51                                            Unknown  1.494911e-01\n",
       "18                                     Engine Coolant  8.952419e-02\n",
       "22                                        Engine Fuel  5.016658e-02\n",
       "43                                      J1939 Network  3.899121e-02\n",
       "28               Engine Protection Torque Full Derate  2.509791e-02\n",
       "41                                    Intake Manifold  2.435798e-02\n",
       "52                     Variable Geometry Turbocharger  2.087423e-02\n",
       "17                              Engine Control Module  1.850736e-02\n",
       "39                             Injector Metering Rail  1.449360e-02\n",
       "34                   Exhaust Gas Recirculation System  1.197096e-02\n",
       "33                                        Exhaust Gas  9.777362e-03\n",
       "40                                  Injector Solenoid  7.861168e-03\n",
       "9                     ECU Power Output Supply Voltage  6.285938e-03\n",
       "26                                         Engine Oil  5.512492e-03\n",
       "13                        Electronic Throttle Control  5.272120e-03\n",
       "1                             Ambient Air Temperature  3.979876e-03\n",
       "20                   Engine Diesel Particulate Filter  3.704583e-03\n",
       "30                                       Engine Speed  2.550356e-03\n",
       "45                                      Sensor Supply  2.359950e-03\n",
       "6                                             Battery  2.299376e-03\n",
       "47                             Total Vehicle Distance  2.078376e-03\n",
       "50                                       Turbocharger  2.004395e-03\n",
       "7                                           Crankcase  1.948608e-03\n",
       "2                  Anti-Lock Braking (ABS) Controller  1.630156e-03\n",
       "23                      Engine Injector Metering Rail  1.531717e-03\n",
       "35                                        Fan Control  1.519421e-03\n",
       "19                              Engine Cooling System  1.298891e-03\n",
       "54                          Wheel-Based Vehicle Speed  1.293115e-03\n",
       "44                                    Real Time Clock  6.670517e-04\n",
       "46                        Steering Wheel Angle Sensor  5.162972e-04\n",
       "15                                       Engine Brake  2.365815e-04\n",
       "32                            Engine Total Idle Hours  1.452820e-04\n",
       "5                          Barometric Pressure Sensor  1.420838e-04\n",
       "38                                     Indicator Lamp  1.157673e-04\n",
       "25                                     Engine Misfire  1.112522e-04\n",
       "53                      Vehicle Identification Number  8.427847e-05\n",
       "36                                Fuel Control Module  4.752952e-05\n",
       "48  Transmission Communications Failure Idle Torqu...  3.072811e-05\n",
       "42                                    Intake Throttle  2.102141e-05\n",
       "8                     DAS Module to ECM Communication  1.078262e-05\n",
       "24                           Engine Intake Air Heater  9.424855e-06\n",
       "21                       Engine Exhaust Back Pressure  7.790108e-06\n",
       "27                             Engine Position Sensor  1.920291e-06\n",
       "49                                   Transmission Oil  1.027878e-06\n",
       "11                 Electrical Charging System Voltage  1.551406e-07\n",
       "12            Electronic Fuel Injection Control Valve  0.000000e+00\n",
       "31                         Engine Starter Motor Relay  0.000000e+00\n",
       "14                                  Engine Air Filter  0.000000e+00\n",
       "10                                 Electric Lift Pump  0.000000e+00\n",
       "37  High Pressure Common Rail Fuel Pressure Relief...  0.000000e+00\n",
       "16        Engine Charge Air Cooler Outlet Temperature  0.000000e+00\n",
       "4          Auxiliary Temperature Sensor Input Circuit  0.000000e+00\n",
       "3                              Auxiliary Input/Output  0.000000e+00"
      ]
     },
     "execution_count": 43,
     "metadata": {},
     "output_type": "execute_result"
    }
   ],
   "source": [
    "data = {'feature': np.array(X_resampled.columns), 'importance': rf_pipeline.named_steps['rf_clf'].feature_importances_}\n",
    "pd.DataFrame(data).sort_values('importance', ascending = False)\n"
   ]
  },
  {
   "cell_type": "code",
   "execution_count": 44,
   "id": "f3197c5c",
   "metadata": {},
   "outputs": [
    {
     "data": {
      "text/plain": [
       "array([[190450,   6878],\n",
       "       [  2230,   3191]], dtype=int64)"
      ]
     },
     "execution_count": 44,
     "metadata": {},
     "output_type": "execute_result"
    }
   ],
   "source": [
    "confusion_matrix(y_test, y_pred)"
   ]
  },
  {
   "cell_type": "code",
   "execution_count": 45,
   "id": "97b2725f",
   "metadata": {},
   "outputs": [],
   "source": [
    "tn, fp, fn, tp = confusion_matrix(y_test, y_pred).ravel()"
   ]
  },
  {
   "cell_type": "code",
   "execution_count": 46,
   "id": "f39602d9",
   "metadata": {
    "scrolled": true
   },
   "outputs": [
    {
     "data": {
      "text/plain": [
       "(190450, 6878, 2230, 3191)"
      ]
     },
     "execution_count": 46,
     "metadata": {},
     "output_type": "execute_result"
    }
   ],
   "source": [
    "(tn, fp, fn, tp)"
   ]
  },
  {
   "cell_type": "code",
   "execution_count": 47,
   "id": "c256f386",
   "metadata": {
    "scrolled": false
   },
   "outputs": [
    {
     "name": "stdout",
     "output_type": "stream",
     "text": [
      "              precision    recall  f1-score   support\n",
      "\n",
      "         0.0       0.99      0.97      0.98    197328\n",
      "         1.0       0.32      0.59      0.41      5421\n",
      "\n",
      "    accuracy                           0.96    202749\n",
      "   macro avg       0.65      0.78      0.69    202749\n",
      "weighted avg       0.97      0.96      0.96    202749\n",
      "\n"
     ]
    }
   ],
   "source": [
    "print(classification_report(y_test, y_pred, zero_division = 0))"
   ]
  },
  {
   "cell_type": "code",
   "execution_count": 122,
   "id": "fe13fcab",
   "metadata": {},
   "outputs": [],
   "source": [
    "lg_pipeline =  Pipeline(\n",
    "    steps = [\n",
    "        ('scale', MinMaxScaler()),\n",
    "        ('lg_clf', LogisticRegression())\n",
    "    ]\n",
    ")"
   ]
  },
  {
   "cell_type": "code",
   "execution_count": 124,
   "id": "f61f9b08",
   "metadata": {},
   "outputs": [
    {
     "name": "stderr",
     "output_type": "stream",
     "text": [
      "C:\\Users\\Conrad\\anaconda3\\envs\\p310\\lib\\site-packages\\sklearn\\utils\\validation.py:993: DataConversionWarning: A column-vector y was passed when a 1d array was expected. Please change the shape of y to (n_samples, ), for example using ravel().\n",
      "  y = column_or_1d(y, warn=True)\n",
      "C:\\Users\\Conrad\\anaconda3\\envs\\p310\\lib\\site-packages\\sklearn\\linear_model\\_logistic.py:814: ConvergenceWarning: lbfgs failed to converge (status=1):\n",
      "STOP: TOTAL NO. of ITERATIONS REACHED LIMIT.\n",
      "\n",
      "Increase the number of iterations (max_iter) or scale the data as shown in:\n",
      "    https://scikit-learn.org/stable/modules/preprocessing.html\n",
      "Please also refer to the documentation for alternative solver options:\n",
      "    https://scikit-learn.org/stable/modules/linear_model.html#logistic-regression\n",
      "  n_iter_i = _check_optimize_result(\n"
     ]
    },
    {
     "name": "stdout",
     "output_type": "stream",
     "text": [
      "0.9211188136613722\n"
     ]
    }
   ],
   "source": [
    "logistic = lg_pipeline.fit(X_resampled, y_resampled)\n",
    "\n",
    "y_pred2 = logistic.predict(X_test)\n",
    "\n",
    "y_pred_proba = logistic.predict_proba(X_test)[::,1]\n",
    "\n",
    "auc = metrics.roc_auc_score(y_test, y_pred_proba)\n",
    "\n",
    "print(auc)"
   ]
  },
  {
   "cell_type": "markdown",
   "id": "1bc57d71",
   "metadata": {},
   "source": [
    "### 7d observation window with 72hr prediction window"
   ]
  },
  {
   "cell_type": "code",
   "execution_count": 48,
   "id": "c1cf81d7",
   "metadata": {
    "scrolled": true
   },
   "outputs": [],
   "source": [
    "obs_72 = obs.drop(obs.loc[:, 'spn':'full_derate_within_72hr'], axis=1).drop(columns='EventTimeStamp')"
   ]
  },
  {
   "cell_type": "code",
   "execution_count": 49,
   "id": "26b7d52d",
   "metadata": {},
   "outputs": [
    {
     "data": {
      "text/plain": [
       "1039"
      ]
     },
     "execution_count": 49,
     "metadata": {},
     "output_type": "execute_result"
    }
   ],
   "source": [
    "eq_ids = obs_72.drop_duplicates(subset='EquipmentID')\n",
    "eq_ids = eq_ids[['EquipmentID']]\n",
    "eq_ids.shape[0]"
   ]
  },
  {
   "cell_type": "code",
   "execution_count": 50,
   "id": "60ee5222",
   "metadata": {
    "scrolled": true
   },
   "outputs": [],
   "source": [
    "np.random.seed(321)\n",
    "\n",
    "eq_ids['random'] = (np.random.randint(0, 10000, eq_ids.shape[0]))/10000"
   ]
  },
  {
   "cell_type": "code",
   "execution_count": 51,
   "id": "61baa910",
   "metadata": {},
   "outputs": [],
   "source": [
    "#create column 'modeling' labeling ~35% of the data for training, ~30% for validation, and ~35% for testing \n",
    "eq_ids['modeling'] = np.where(((eq_ids.random <= 0.35)), 'training', np.where(((eq_ids.random <= 0.65)), 'validation', 'testing'))"
   ]
  },
  {
   "cell_type": "code",
   "execution_count": 52,
   "id": "3848bfe4",
   "metadata": {},
   "outputs": [],
   "source": [
    "#merge modeling column onto original dataframe\n",
    "obs_72 = obs_72.sort_values(by='EquipmentID')\n",
    "eq_ids = eq_ids.sort_values(by='EquipmentID')\n",
    "\n",
    "obs_72 = obs_72.merge(eq_ids, on='EquipmentID')\n",
    "obs_72 = obs_72.drop(columns='EquipmentID')"
   ]
  },
  {
   "cell_type": "code",
   "execution_count": 53,
   "id": "265a1371",
   "metadata": {},
   "outputs": [
    {
     "name": "stdout",
     "output_type": "stream",
     "text": [
      "(200860, 56)\n",
      "(202749, 56)\n",
      "(151246, 56)\n"
     ]
    }
   ],
   "source": [
    "#creating training, testing, and validation dfs\n",
    "obs_72_training = obs_72[obs_72['modeling']=='training']\n",
    "obs_72_training = obs_72_training.drop(columns=['modeling', 'random'])\n",
    "print(obs_72_training.shape)\n",
    "\n",
    "obs_72_test = obs_72[obs_72['modeling']=='testing']\n",
    "obs_72_test = obs_72_test.drop(columns=['modeling', 'random'])\n",
    "print(obs_72_test.shape)\n",
    "\n",
    "obs_72_validation = obs_72[obs_72['modeling']=='validation']\n",
    "obs_72_validation = obs_72_validation.drop(columns=['modeling', 'random'])\n",
    "print(obs_72_validation.shape)"
   ]
  },
  {
   "cell_type": "code",
   "execution_count": 54,
   "id": "f300b819",
   "metadata": {},
   "outputs": [],
   "source": [
    "df_sampling = obs_72_training\n",
    "df_sampling_non_tenth = df_sampling[df_sampling['derate_within_72hr'] == 0][0:18855]"
   ]
  },
  {
   "cell_type": "code",
   "execution_count": 55,
   "id": "0f5bf103",
   "metadata": {},
   "outputs": [],
   "source": [
    "df_sampling_derate_tenth = pd.concat([df_sampling[df_sampling['derate_within_72hr']==1], df_sampling_non_tenth])"
   ]
  },
  {
   "cell_type": "code",
   "execution_count": 56,
   "id": "5b42363f",
   "metadata": {},
   "outputs": [],
   "source": [
    "oversampler = SMOTE(k_neighbors=5, random_state=321)\n",
    "\n",
    "features = df_sampling_derate_tenth.loc[:, 'Aftertreatment System':].columns.tolist()\n",
    "\n",
    "target = ['derate_within_72hr']\n",
    "\n",
    "X_train = df_sampling_derate_tenth[features]\n",
    "y_train = df_sampling_derate_tenth[target]"
   ]
  },
  {
   "cell_type": "code",
   "execution_count": 57,
   "id": "a0888ee3",
   "metadata": {},
   "outputs": [],
   "source": [
    "X_smote, y_smote = oversampler.fit_resample(X_train, y_train)"
   ]
  },
  {
   "cell_type": "code",
   "execution_count": 58,
   "id": "283286d1",
   "metadata": {},
   "outputs": [
    {
     "data": {
      "text/plain": [
       "(18855, 56)"
      ]
     },
     "execution_count": 58,
     "metadata": {},
     "output_type": "execute_result"
    }
   ],
   "source": [
    "smote_all = pd.concat([y_smote, X_smote], axis=1)\n",
    "smote_derate = smote_all[smote_all['derate_within_72hr']==1]\n",
    "smote_derate.shape"
   ]
  },
  {
   "cell_type": "code",
   "execution_count": 59,
   "id": "7588627b",
   "metadata": {},
   "outputs": [
    {
     "data": {
      "text/plain": [
       "(213477, 56)"
      ]
     },
     "execution_count": 59,
     "metadata": {},
     "output_type": "execute_result"
    }
   ],
   "source": [
    "und_samp = pd.concat([smote_derate, df_sampling[df_sampling['derate_within_72hr']==0]])\n",
    "und_samp.shape"
   ]
  },
  {
   "cell_type": "code",
   "execution_count": 60,
   "id": "ee4dca54",
   "metadata": {},
   "outputs": [],
   "source": [
    "undersampler = RandomUnderSampler(random_state=321, sampling_strategy=1/2)\n",
    "\n",
    "features = und_samp.loc[:, 'Aftertreatment System':].columns.tolist()\n",
    "\n",
    "target =['derate_within_72hr']\n",
    "\n",
    "X_train_final = und_samp[features]\n",
    "y_train_final = und_samp[target]\n",
    "\n",
    "X_test = obs_72_test[features]\n",
    "y_test = obs_72_test[target]"
   ]
  },
  {
   "cell_type": "code",
   "execution_count": 61,
   "id": "9944ef36",
   "metadata": {},
   "outputs": [],
   "source": [
    "X_resampled, y_resampled = undersampler.fit_resample(X_train_final, y_train_final)"
   ]
  },
  {
   "cell_type": "code",
   "execution_count": 62,
   "id": "2b5a1556",
   "metadata": {
    "scrolled": true
   },
   "outputs": [
    {
     "name": "stdout",
     "output_type": "stream",
     "text": [
      "(56565, 1)\n"
     ]
    }
   ],
   "source": [
    "print(y_resampled.shape)"
   ]
  },
  {
   "cell_type": "code",
   "execution_count": 63,
   "id": "e958aa69",
   "metadata": {},
   "outputs": [],
   "source": [
    "rf_pipeline = Pipeline(\n",
    "    steps = [\n",
    "        ('scale', MinMaxScaler()),\n",
    "        ('rf_clf', RandomForestClassifier(n_estimators = 500, n_jobs = -1, random_state = 69))\n",
    "    ]\n",
    ")"
   ]
  },
  {
   "cell_type": "code",
   "execution_count": 64,
   "id": "ef357881",
   "metadata": {
    "scrolled": false
   },
   "outputs": [
    {
     "name": "stderr",
     "output_type": "stream",
     "text": [
      "C:\\Users\\Conrad\\anaconda3\\envs\\p310\\lib\\site-packages\\sklearn\\pipeline.py:394: DataConversionWarning: A column-vector y was passed when a 1d array was expected. Please change the shape of y to (n_samples,), for example using ravel().\n",
      "  self._final_estimator.fit(Xt, y, **fit_params_last_step)\n"
     ]
    }
   ],
   "source": [
    "rand_forest = rf_pipeline.fit(X_resampled, y_resampled)\n",
    "rf_pipeline.score(X_test, y_test)\n",
    "\n",
    "y_pred = rand_forest.predict(X_test)"
   ]
  },
  {
   "cell_type": "code",
   "execution_count": 65,
   "id": "d4485d0c",
   "metadata": {
    "scrolled": true
   },
   "outputs": [
    {
     "data": {
      "text/html": [
       "<div>\n",
       "<style scoped>\n",
       "    .dataframe tbody tr th:only-of-type {\n",
       "        vertical-align: middle;\n",
       "    }\n",
       "\n",
       "    .dataframe tbody tr th {\n",
       "        vertical-align: top;\n",
       "    }\n",
       "\n",
       "    .dataframe thead th {\n",
       "        text-align: right;\n",
       "    }\n",
       "</style>\n",
       "<table border=\"1\" class=\"dataframe\">\n",
       "  <thead>\n",
       "    <tr style=\"text-align: right;\">\n",
       "      <th></th>\n",
       "      <th>feature</th>\n",
       "      <th>importance</th>\n",
       "    </tr>\n",
       "  </thead>\n",
       "  <tbody>\n",
       "    <tr>\n",
       "      <th>29</th>\n",
       "      <td>Engine Protection Torque Partial Derate</td>\n",
       "      <td>2.604006e-01</td>\n",
       "    </tr>\n",
       "    <tr>\n",
       "      <th>0</th>\n",
       "      <td>Aftertreatment System</td>\n",
       "      <td>2.070301e-01</td>\n",
       "    </tr>\n",
       "    <tr>\n",
       "      <th>51</th>\n",
       "      <td>Unknown</td>\n",
       "      <td>1.526983e-01</td>\n",
       "    </tr>\n",
       "    <tr>\n",
       "      <th>18</th>\n",
       "      <td>Engine Coolant</td>\n",
       "      <td>9.990246e-02</td>\n",
       "    </tr>\n",
       "    <tr>\n",
       "      <th>22</th>\n",
       "      <td>Engine Fuel</td>\n",
       "      <td>5.512731e-02</td>\n",
       "    </tr>\n",
       "    <tr>\n",
       "      <th>43</th>\n",
       "      <td>J1939 Network</td>\n",
       "      <td>4.071594e-02</td>\n",
       "    </tr>\n",
       "    <tr>\n",
       "      <th>28</th>\n",
       "      <td>Engine Protection Torque Full Derate</td>\n",
       "      <td>2.484526e-02</td>\n",
       "    </tr>\n",
       "    <tr>\n",
       "      <th>41</th>\n",
       "      <td>Intake Manifold</td>\n",
       "      <td>2.254798e-02</td>\n",
       "    </tr>\n",
       "    <tr>\n",
       "      <th>17</th>\n",
       "      <td>Engine Control Module</td>\n",
       "      <td>2.108546e-02</td>\n",
       "    </tr>\n",
       "    <tr>\n",
       "      <th>52</th>\n",
       "      <td>Variable Geometry Turbocharger</td>\n",
       "      <td>2.051860e-02</td>\n",
       "    </tr>\n",
       "    <tr>\n",
       "      <th>39</th>\n",
       "      <td>Injector Metering Rail</td>\n",
       "      <td>1.427131e-02</td>\n",
       "    </tr>\n",
       "    <tr>\n",
       "      <th>34</th>\n",
       "      <td>Exhaust Gas Recirculation System</td>\n",
       "      <td>1.257524e-02</td>\n",
       "    </tr>\n",
       "    <tr>\n",
       "      <th>33</th>\n",
       "      <td>Exhaust Gas</td>\n",
       "      <td>9.614760e-03</td>\n",
       "    </tr>\n",
       "    <tr>\n",
       "      <th>40</th>\n",
       "      <td>Injector Solenoid</td>\n",
       "      <td>7.134829e-03</td>\n",
       "    </tr>\n",
       "    <tr>\n",
       "      <th>9</th>\n",
       "      <td>ECU Power Output Supply Voltage</td>\n",
       "      <td>5.591409e-03</td>\n",
       "    </tr>\n",
       "    <tr>\n",
       "      <th>13</th>\n",
       "      <td>Electronic Throttle Control</td>\n",
       "      <td>5.438941e-03</td>\n",
       "    </tr>\n",
       "    <tr>\n",
       "      <th>26</th>\n",
       "      <td>Engine Oil</td>\n",
       "      <td>5.242996e-03</td>\n",
       "    </tr>\n",
       "    <tr>\n",
       "      <th>1</th>\n",
       "      <td>Ambient Air Temperature</td>\n",
       "      <td>4.682143e-03</td>\n",
       "    </tr>\n",
       "    <tr>\n",
       "      <th>20</th>\n",
       "      <td>Engine Diesel Particulate Filter</td>\n",
       "      <td>3.640455e-03</td>\n",
       "    </tr>\n",
       "    <tr>\n",
       "      <th>30</th>\n",
       "      <td>Engine Speed</td>\n",
       "      <td>3.426738e-03</td>\n",
       "    </tr>\n",
       "    <tr>\n",
       "      <th>45</th>\n",
       "      <td>Sensor Supply</td>\n",
       "      <td>2.639989e-03</td>\n",
       "    </tr>\n",
       "    <tr>\n",
       "      <th>19</th>\n",
       "      <td>Engine Cooling System</td>\n",
       "      <td>2.553195e-03</td>\n",
       "    </tr>\n",
       "    <tr>\n",
       "      <th>7</th>\n",
       "      <td>Crankcase</td>\n",
       "      <td>2.541509e-03</td>\n",
       "    </tr>\n",
       "    <tr>\n",
       "      <th>6</th>\n",
       "      <td>Battery</td>\n",
       "      <td>2.479874e-03</td>\n",
       "    </tr>\n",
       "    <tr>\n",
       "      <th>47</th>\n",
       "      <td>Total Vehicle Distance</td>\n",
       "      <td>2.315005e-03</td>\n",
       "    </tr>\n",
       "    <tr>\n",
       "      <th>23</th>\n",
       "      <td>Engine Injector Metering Rail</td>\n",
       "      <td>2.135817e-03</td>\n",
       "    </tr>\n",
       "    <tr>\n",
       "      <th>50</th>\n",
       "      <td>Turbocharger</td>\n",
       "      <td>2.036815e-03</td>\n",
       "    </tr>\n",
       "    <tr>\n",
       "      <th>54</th>\n",
       "      <td>Wheel-Based Vehicle Speed</td>\n",
       "      <td>1.496155e-03</td>\n",
       "    </tr>\n",
       "    <tr>\n",
       "      <th>35</th>\n",
       "      <td>Fan Control</td>\n",
       "      <td>1.419602e-03</td>\n",
       "    </tr>\n",
       "    <tr>\n",
       "      <th>2</th>\n",
       "      <td>Anti-Lock Braking (ABS) Controller</td>\n",
       "      <td>1.412697e-03</td>\n",
       "    </tr>\n",
       "    <tr>\n",
       "      <th>44</th>\n",
       "      <td>Real Time Clock</td>\n",
       "      <td>9.679059e-04</td>\n",
       "    </tr>\n",
       "    <tr>\n",
       "      <th>46</th>\n",
       "      <td>Steering Wheel Angle Sensor</td>\n",
       "      <td>5.214170e-04</td>\n",
       "    </tr>\n",
       "    <tr>\n",
       "      <th>53</th>\n",
       "      <td>Vehicle Identification Number</td>\n",
       "      <td>2.151737e-04</td>\n",
       "    </tr>\n",
       "    <tr>\n",
       "      <th>15</th>\n",
       "      <td>Engine Brake</td>\n",
       "      <td>1.879919e-04</td>\n",
       "    </tr>\n",
       "    <tr>\n",
       "      <th>25</th>\n",
       "      <td>Engine Misfire</td>\n",
       "      <td>1.621124e-04</td>\n",
       "    </tr>\n",
       "    <tr>\n",
       "      <th>38</th>\n",
       "      <td>Indicator Lamp</td>\n",
       "      <td>1.117102e-04</td>\n",
       "    </tr>\n",
       "    <tr>\n",
       "      <th>5</th>\n",
       "      <td>Barometric Pressure Sensor</td>\n",
       "      <td>9.700300e-05</td>\n",
       "    </tr>\n",
       "    <tr>\n",
       "      <th>36</th>\n",
       "      <td>Fuel Control Module</td>\n",
       "      <td>8.179561e-05</td>\n",
       "    </tr>\n",
       "    <tr>\n",
       "      <th>32</th>\n",
       "      <td>Engine Total Idle Hours</td>\n",
       "      <td>5.051719e-05</td>\n",
       "    </tr>\n",
       "    <tr>\n",
       "      <th>42</th>\n",
       "      <td>Intake Throttle</td>\n",
       "      <td>3.534071e-05</td>\n",
       "    </tr>\n",
       "    <tr>\n",
       "      <th>48</th>\n",
       "      <td>Transmission Communications Failure Idle Torqu...</td>\n",
       "      <td>2.765814e-05</td>\n",
       "    </tr>\n",
       "    <tr>\n",
       "      <th>24</th>\n",
       "      <td>Engine Intake Air Heater</td>\n",
       "      <td>1.084644e-05</td>\n",
       "    </tr>\n",
       "    <tr>\n",
       "      <th>21</th>\n",
       "      <td>Engine Exhaust Back Pressure</td>\n",
       "      <td>3.589317e-06</td>\n",
       "    </tr>\n",
       "    <tr>\n",
       "      <th>3</th>\n",
       "      <td>Auxiliary Input/Output</td>\n",
       "      <td>2.374597e-06</td>\n",
       "    </tr>\n",
       "    <tr>\n",
       "      <th>8</th>\n",
       "      <td>DAS Module to ECM Communication</td>\n",
       "      <td>1.469947e-06</td>\n",
       "    </tr>\n",
       "    <tr>\n",
       "      <th>12</th>\n",
       "      <td>Electronic Fuel Injection Control Valve</td>\n",
       "      <td>9.724704e-07</td>\n",
       "    </tr>\n",
       "    <tr>\n",
       "      <th>11</th>\n",
       "      <td>Electrical Charging System Voltage</td>\n",
       "      <td>5.906613e-07</td>\n",
       "    </tr>\n",
       "    <tr>\n",
       "      <th>27</th>\n",
       "      <td>Engine Position Sensor</td>\n",
       "      <td>8.948959e-08</td>\n",
       "    </tr>\n",
       "    <tr>\n",
       "      <th>10</th>\n",
       "      <td>Electric Lift Pump</td>\n",
       "      <td>0.000000e+00</td>\n",
       "    </tr>\n",
       "    <tr>\n",
       "      <th>14</th>\n",
       "      <td>Engine Air Filter</td>\n",
       "      <td>0.000000e+00</td>\n",
       "    </tr>\n",
       "    <tr>\n",
       "      <th>49</th>\n",
       "      <td>Transmission Oil</td>\n",
       "      <td>0.000000e+00</td>\n",
       "    </tr>\n",
       "    <tr>\n",
       "      <th>4</th>\n",
       "      <td>Auxiliary Temperature Sensor Input Circuit</td>\n",
       "      <td>0.000000e+00</td>\n",
       "    </tr>\n",
       "    <tr>\n",
       "      <th>37</th>\n",
       "      <td>High Pressure Common Rail Fuel Pressure Relief...</td>\n",
       "      <td>0.000000e+00</td>\n",
       "    </tr>\n",
       "    <tr>\n",
       "      <th>16</th>\n",
       "      <td>Engine Charge Air Cooler Outlet Temperature</td>\n",
       "      <td>0.000000e+00</td>\n",
       "    </tr>\n",
       "    <tr>\n",
       "      <th>31</th>\n",
       "      <td>Engine Starter Motor Relay</td>\n",
       "      <td>0.000000e+00</td>\n",
       "    </tr>\n",
       "  </tbody>\n",
       "</table>\n",
       "</div>"
      ],
      "text/plain": [
       "                                              feature    importance\n",
       "29            Engine Protection Torque Partial Derate  2.604006e-01\n",
       "0                               Aftertreatment System  2.070301e-01\n",
       "51                                            Unknown  1.526983e-01\n",
       "18                                     Engine Coolant  9.990246e-02\n",
       "22                                        Engine Fuel  5.512731e-02\n",
       "43                                      J1939 Network  4.071594e-02\n",
       "28               Engine Protection Torque Full Derate  2.484526e-02\n",
       "41                                    Intake Manifold  2.254798e-02\n",
       "17                              Engine Control Module  2.108546e-02\n",
       "52                     Variable Geometry Turbocharger  2.051860e-02\n",
       "39                             Injector Metering Rail  1.427131e-02\n",
       "34                   Exhaust Gas Recirculation System  1.257524e-02\n",
       "33                                        Exhaust Gas  9.614760e-03\n",
       "40                                  Injector Solenoid  7.134829e-03\n",
       "9                     ECU Power Output Supply Voltage  5.591409e-03\n",
       "13                        Electronic Throttle Control  5.438941e-03\n",
       "26                                         Engine Oil  5.242996e-03\n",
       "1                             Ambient Air Temperature  4.682143e-03\n",
       "20                   Engine Diesel Particulate Filter  3.640455e-03\n",
       "30                                       Engine Speed  3.426738e-03\n",
       "45                                      Sensor Supply  2.639989e-03\n",
       "19                              Engine Cooling System  2.553195e-03\n",
       "7                                           Crankcase  2.541509e-03\n",
       "6                                             Battery  2.479874e-03\n",
       "47                             Total Vehicle Distance  2.315005e-03\n",
       "23                      Engine Injector Metering Rail  2.135817e-03\n",
       "50                                       Turbocharger  2.036815e-03\n",
       "54                          Wheel-Based Vehicle Speed  1.496155e-03\n",
       "35                                        Fan Control  1.419602e-03\n",
       "2                  Anti-Lock Braking (ABS) Controller  1.412697e-03\n",
       "44                                    Real Time Clock  9.679059e-04\n",
       "46                        Steering Wheel Angle Sensor  5.214170e-04\n",
       "53                      Vehicle Identification Number  2.151737e-04\n",
       "15                                       Engine Brake  1.879919e-04\n",
       "25                                     Engine Misfire  1.621124e-04\n",
       "38                                     Indicator Lamp  1.117102e-04\n",
       "5                          Barometric Pressure Sensor  9.700300e-05\n",
       "36                                Fuel Control Module  8.179561e-05\n",
       "32                            Engine Total Idle Hours  5.051719e-05\n",
       "42                                    Intake Throttle  3.534071e-05\n",
       "48  Transmission Communications Failure Idle Torqu...  2.765814e-05\n",
       "24                           Engine Intake Air Heater  1.084644e-05\n",
       "21                       Engine Exhaust Back Pressure  3.589317e-06\n",
       "3                              Auxiliary Input/Output  2.374597e-06\n",
       "8                     DAS Module to ECM Communication  1.469947e-06\n",
       "12            Electronic Fuel Injection Control Valve  9.724704e-07\n",
       "11                 Electrical Charging System Voltage  5.906613e-07\n",
       "27                             Engine Position Sensor  8.948959e-08\n",
       "10                                 Electric Lift Pump  0.000000e+00\n",
       "14                                  Engine Air Filter  0.000000e+00\n",
       "49                                   Transmission Oil  0.000000e+00\n",
       "4          Auxiliary Temperature Sensor Input Circuit  0.000000e+00\n",
       "37  High Pressure Common Rail Fuel Pressure Relief...  0.000000e+00\n",
       "16        Engine Charge Air Cooler Outlet Temperature  0.000000e+00\n",
       "31                         Engine Starter Motor Relay  0.000000e+00"
      ]
     },
     "execution_count": 65,
     "metadata": {},
     "output_type": "execute_result"
    }
   ],
   "source": [
    "data = {'feature': np.array(X_resampled.columns), 'importance': rf_pipeline.named_steps['rf_clf'].feature_importances_}\n",
    "pd.DataFrame(data).sort_values('importance', ascending = False)\n"
   ]
  },
  {
   "cell_type": "code",
   "execution_count": 66,
   "id": "57aca21a",
   "metadata": {},
   "outputs": [
    {
     "data": {
      "text/plain": [
       "array([[189581,   7270],\n",
       "       [  2445,   3453]], dtype=int64)"
      ]
     },
     "execution_count": 66,
     "metadata": {},
     "output_type": "execute_result"
    }
   ],
   "source": [
    "confusion_matrix(y_test, y_pred)"
   ]
  },
  {
   "cell_type": "code",
   "execution_count": 67,
   "id": "22060d95",
   "metadata": {},
   "outputs": [],
   "source": [
    "tn, fp, fn, tp = confusion_matrix(y_test, y_pred).ravel()"
   ]
  },
  {
   "cell_type": "code",
   "execution_count": 68,
   "id": "0034934e",
   "metadata": {
    "scrolled": true
   },
   "outputs": [
    {
     "data": {
      "text/plain": [
       "(189581, 7270, 2445, 3453)"
      ]
     },
     "execution_count": 68,
     "metadata": {},
     "output_type": "execute_result"
    }
   ],
   "source": [
    "(tn, fp, fn, tp)"
   ]
  },
  {
   "cell_type": "code",
   "execution_count": 69,
   "id": "694dc027",
   "metadata": {
    "scrolled": true
   },
   "outputs": [
    {
     "name": "stdout",
     "output_type": "stream",
     "text": [
      "              precision    recall  f1-score   support\n",
      "\n",
      "         0.0       0.99      0.96      0.98    196851\n",
      "         1.0       0.32      0.59      0.42      5898\n",
      "\n",
      "    accuracy                           0.95    202749\n",
      "   macro avg       0.65      0.77      0.70    202749\n",
      "weighted avg       0.97      0.95      0.96    202749\n",
      "\n"
     ]
    }
   ],
   "source": [
    "print(classification_report(y_test, y_pred, zero_division = 0))"
   ]
  },
  {
   "cell_type": "code",
   "execution_count": 122,
   "id": "0a784e1f",
   "metadata": {},
   "outputs": [],
   "source": [
    "lg_pipeline =  Pipeline(\n",
    "    steps = [\n",
    "        ('scale', MinMaxScaler()),\n",
    "        ('lg_clf', LogisticRegression())\n",
    "    ]\n",
    ")"
   ]
  },
  {
   "cell_type": "code",
   "execution_count": 124,
   "id": "0c018ea9",
   "metadata": {},
   "outputs": [
    {
     "name": "stderr",
     "output_type": "stream",
     "text": [
      "C:\\Users\\Conrad\\anaconda3\\envs\\p310\\lib\\site-packages\\sklearn\\utils\\validation.py:993: DataConversionWarning: A column-vector y was passed when a 1d array was expected. Please change the shape of y to (n_samples, ), for example using ravel().\n",
      "  y = column_or_1d(y, warn=True)\n",
      "C:\\Users\\Conrad\\anaconda3\\envs\\p310\\lib\\site-packages\\sklearn\\linear_model\\_logistic.py:814: ConvergenceWarning: lbfgs failed to converge (status=1):\n",
      "STOP: TOTAL NO. of ITERATIONS REACHED LIMIT.\n",
      "\n",
      "Increase the number of iterations (max_iter) or scale the data as shown in:\n",
      "    https://scikit-learn.org/stable/modules/preprocessing.html\n",
      "Please also refer to the documentation for alternative solver options:\n",
      "    https://scikit-learn.org/stable/modules/linear_model.html#logistic-regression\n",
      "  n_iter_i = _check_optimize_result(\n"
     ]
    },
    {
     "name": "stdout",
     "output_type": "stream",
     "text": [
      "0.9211188136613722\n"
     ]
    }
   ],
   "source": [
    "logistic = lg_pipeline.fit(X_resampled, y_resampled)\n",
    "\n",
    "y_pred2 = logistic.predict(X_test)\n",
    "\n",
    "y_pred_proba = logistic.predict_proba(X_test)[::,1]\n",
    "\n",
    "auc = metrics.roc_auc_score(y_test, y_pred_proba)\n",
    "\n",
    "print(auc)"
   ]
  },
  {
   "cell_type": "code",
   "execution_count": null,
   "id": "4c3b5ca0",
   "metadata": {},
   "outputs": [],
   "source": []
  }
 ],
 "metadata": {
  "kernelspec": {
   "display_name": "Python 3 (ipykernel)",
   "language": "python",
   "name": "python3"
  },
  "language_info": {
   "codemirror_mode": {
    "name": "ipython",
    "version": 3
   },
   "file_extension": ".py",
   "mimetype": "text/x-python",
   "name": "python",
   "nbconvert_exporter": "python",
   "pygments_lexer": "ipython3",
   "version": "3.10.3"
  }
 },
 "nbformat": 4,
 "nbformat_minor": 5
}
