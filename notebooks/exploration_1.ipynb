{
 "cells": [
  {
   "cell_type": "code",
   "execution_count": 1,
   "metadata": {
    "collapsed": true,
    "pycharm": {
     "name": "#%%\n"
    }
   },
   "outputs": [],
   "source": [
    "import pandas as pd\n",
    "import numpy as np\n",
    "import matplotlib.pyplot as plt\n",
    "import dask.dataframe as dd"
   ]
  },
  {
   "cell_type": "code",
   "execution_count": 2,
   "outputs": [],
   "source": [
    "faults = dd.read_csv('../data/faults.csv', dtype={'EquipmentID': 'object'})\n",
    "diagnostics = dd.read_csv('../data/vehicle_onboard_diagnostic_data.csv')"
   ],
   "metadata": {
    "collapsed": false,
    "pycharm": {
     "name": "#%%\n"
    }
   }
  },
  {
   "cell_type": "code",
   "execution_count": null,
   "outputs": [],
   "source": [],
   "metadata": {
    "collapsed": false,
    "pycharm": {
     "name": "#%%\n"
    }
   }
  },
  {
   "cell_type": "code",
   "execution_count": 3,
   "outputs": [
    {
     "data": {
      "text/plain": "   RecordID  ESS_Id           EventTimeStamp  \\\n0         1  990349  2015-02-21 10:47:13.000   \n1         2  990360  2015-02-21 11:34:34.000   \n2         3  990364  2015-02-21 11:35:31.000   \n3         4  990370  2015-02-21 11:35:33.000   \n4         5  990416  2015-02-21 11:39:41.000   \n\n                          eventDescription  actionDescription  \\\n0  Low (Severity Low) Engine Coolant Level                NaN   \n1                                      NaN                NaN   \n2      Incorrect Data Steering Wheel Angle                NaN   \n3      Incorrect Data Steering Wheel Angle                NaN   \n4                                      NaN                NaN   \n\n                     ecuSoftwareVersion ecuSerialNumber              ecuModel  \\\n0                               unknown         unknown               unknown   \n1                               unknown         unknown               unknown   \n2                               unknown         unknown               unknown   \n3                               unknown         unknown               unknown   \n4  22281684P01*22357957P01*22362082P01*        13063430  0USA13_13_0415_2238A   \n\n   ecuMake  ecuSource   spn  fmi  active  activeTransitionCount  faultValue  \\\n0  unknown          0   111   17    True                      2         NaN   \n1  unknown         11   629   12    True                    127         NaN   \n2  unknown         11  1807    2   False                    127         NaN   \n3  unknown         11  1807    2    True                    127         NaN   \n4    VOLVO          0  4364   17   False                      2         NaN   \n\n  EquipmentID  MCTNumber   Latitude  Longitude        LocationTimeStamp  \n0        1439  105354361  38.857638 -84.626851  2015-02-21 11:34:25.000  \n1        1439  105354361  38.857638 -84.626851  2015-02-21 11:35:10.000  \n2        1369  105336226  41.421250 -87.767361  2015-02-21 11:35:26.000  \n3        1369  105336226  41.421018 -87.767361  2015-02-21 11:36:08.000  \n4        1674  105427130  38.416481 -89.442638  2015-02-21 11:39:37.000  ",
      "text/html": "<div>\n<style scoped>\n    .dataframe tbody tr th:only-of-type {\n        vertical-align: middle;\n    }\n\n    .dataframe tbody tr th {\n        vertical-align: top;\n    }\n\n    .dataframe thead th {\n        text-align: right;\n    }\n</style>\n<table border=\"1\" class=\"dataframe\">\n  <thead>\n    <tr style=\"text-align: right;\">\n      <th></th>\n      <th>RecordID</th>\n      <th>ESS_Id</th>\n      <th>EventTimeStamp</th>\n      <th>eventDescription</th>\n      <th>actionDescription</th>\n      <th>ecuSoftwareVersion</th>\n      <th>ecuSerialNumber</th>\n      <th>ecuModel</th>\n      <th>ecuMake</th>\n      <th>ecuSource</th>\n      <th>spn</th>\n      <th>fmi</th>\n      <th>active</th>\n      <th>activeTransitionCount</th>\n      <th>faultValue</th>\n      <th>EquipmentID</th>\n      <th>MCTNumber</th>\n      <th>Latitude</th>\n      <th>Longitude</th>\n      <th>LocationTimeStamp</th>\n    </tr>\n  </thead>\n  <tbody>\n    <tr>\n      <th>0</th>\n      <td>1</td>\n      <td>990349</td>\n      <td>2015-02-21 10:47:13.000</td>\n      <td>Low (Severity Low) Engine Coolant Level</td>\n      <td>NaN</td>\n      <td>unknown</td>\n      <td>unknown</td>\n      <td>unknown</td>\n      <td>unknown</td>\n      <td>0</td>\n      <td>111</td>\n      <td>17</td>\n      <td>True</td>\n      <td>2</td>\n      <td>NaN</td>\n      <td>1439</td>\n      <td>105354361</td>\n      <td>38.857638</td>\n      <td>-84.626851</td>\n      <td>2015-02-21 11:34:25.000</td>\n    </tr>\n    <tr>\n      <th>1</th>\n      <td>2</td>\n      <td>990360</td>\n      <td>2015-02-21 11:34:34.000</td>\n      <td>NaN</td>\n      <td>NaN</td>\n      <td>unknown</td>\n      <td>unknown</td>\n      <td>unknown</td>\n      <td>unknown</td>\n      <td>11</td>\n      <td>629</td>\n      <td>12</td>\n      <td>True</td>\n      <td>127</td>\n      <td>NaN</td>\n      <td>1439</td>\n      <td>105354361</td>\n      <td>38.857638</td>\n      <td>-84.626851</td>\n      <td>2015-02-21 11:35:10.000</td>\n    </tr>\n    <tr>\n      <th>2</th>\n      <td>3</td>\n      <td>990364</td>\n      <td>2015-02-21 11:35:31.000</td>\n      <td>Incorrect Data Steering Wheel Angle</td>\n      <td>NaN</td>\n      <td>unknown</td>\n      <td>unknown</td>\n      <td>unknown</td>\n      <td>unknown</td>\n      <td>11</td>\n      <td>1807</td>\n      <td>2</td>\n      <td>False</td>\n      <td>127</td>\n      <td>NaN</td>\n      <td>1369</td>\n      <td>105336226</td>\n      <td>41.421250</td>\n      <td>-87.767361</td>\n      <td>2015-02-21 11:35:26.000</td>\n    </tr>\n    <tr>\n      <th>3</th>\n      <td>4</td>\n      <td>990370</td>\n      <td>2015-02-21 11:35:33.000</td>\n      <td>Incorrect Data Steering Wheel Angle</td>\n      <td>NaN</td>\n      <td>unknown</td>\n      <td>unknown</td>\n      <td>unknown</td>\n      <td>unknown</td>\n      <td>11</td>\n      <td>1807</td>\n      <td>2</td>\n      <td>True</td>\n      <td>127</td>\n      <td>NaN</td>\n      <td>1369</td>\n      <td>105336226</td>\n      <td>41.421018</td>\n      <td>-87.767361</td>\n      <td>2015-02-21 11:36:08.000</td>\n    </tr>\n    <tr>\n      <th>4</th>\n      <td>5</td>\n      <td>990416</td>\n      <td>2015-02-21 11:39:41.000</td>\n      <td>NaN</td>\n      <td>NaN</td>\n      <td>22281684P01*22357957P01*22362082P01*</td>\n      <td>13063430</td>\n      <td>0USA13_13_0415_2238A</td>\n      <td>VOLVO</td>\n      <td>0</td>\n      <td>4364</td>\n      <td>17</td>\n      <td>False</td>\n      <td>2</td>\n      <td>NaN</td>\n      <td>1674</td>\n      <td>105427130</td>\n      <td>38.416481</td>\n      <td>-89.442638</td>\n      <td>2015-02-21 11:39:37.000</td>\n    </tr>\n  </tbody>\n</table>\n</div>"
     },
     "execution_count": 3,
     "metadata": {},
     "output_type": "execute_result"
    }
   ],
   "source": [
    "test_df = faults.head(10)\n",
    "test_df.head()"
   ],
   "metadata": {
    "collapsed": false,
    "pycharm": {
     "name": "#%%\n"
    }
   }
  },
  {
   "cell_type": "code",
   "execution_count": 4,
   "outputs": [],
   "source": [
    "# applying some geovalues to the faults dataset\n",
    "\n",
    "from geopy.geocoders import Nominatim\n",
    "\n",
    "geolocator = Nominatim(user_agent=f'the_index_out_of_rangers')\n",
    "\n",
    "def get_location_info(row):\n",
    "    lat = '38.857638' # row['Latitude']\n",
    "    long = '-84.626851' # row['Longitude']\n",
    "    location = geolocator.reverse(f'{lat},{long}')\n",
    "    address = location.raw['address']\n",
    "    address['place_id'] = location.raw['place_id']\n",
    "    return address\n",
    "\n",
    "applied_df = faults.apply(get_location_info, axis='columns', result_type='expand', meta={'tourism': 'object', 'road': 'object', 'town': 'object', 'county': 'object', 'state': 'object', 'postcode': 'object', 'country': 'object', 'country_code': 'object', 'place_id': 'int64'})\n",
    "faults = dd.concat([faults, applied_df], axis='columns', ignore_unknown_divisions=True)"
   ],
   "metadata": {
    "collapsed": false,
    "pycharm": {
     "name": "#%%\n"
    }
   }
  },
  {
   "cell_type": "code",
   "execution_count": 5,
   "outputs": [
    {
     "name": "stdout",
     "output_type": "stream",
     "text": [
      "103663378\n"
     ]
    }
   ],
   "source": [
    "from geopy.geocoders import Nominatim\n",
    "geolocator = Nominatim(user_agent='the_index_out_of_rangers')\n",
    "location = geolocator.reverse(f'{35.586851},{-86.444583}')\n",
    "print(location.raw['place_id'])"
   ],
   "metadata": {
    "collapsed": false,
    "pycharm": {
     "name": "#%%\n"
    }
   }
  }
 ],
 "metadata": {
  "kernelspec": {
   "display_name": "Python 3",
   "language": "python",
   "name": "python3"
  },
  "language_info": {
   "codemirror_mode": {
    "name": "ipython",
    "version": 2
   },
   "file_extension": ".py",
   "mimetype": "text/x-python",
   "name": "python",
   "nbconvert_exporter": "python",
   "pygments_lexer": "ipython2",
   "version": "2.7.6"
  }
 },
 "nbformat": 4,
 "nbformat_minor": 0
}