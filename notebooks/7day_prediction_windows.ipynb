{
 "cells": [
  {
   "cell_type": "code",
   "execution_count": 125,
   "id": "e3f54d29",
   "metadata": {},
   "outputs": [],
   "source": [
    "import pandas as pd\n",
    "import numpy as np\n",
    "import matplotlib.pyplot as plt\n",
    "import seaborn as sns\n",
    "from imblearn.over_sampling import SMOTE\n",
    "from imblearn.under_sampling import RandomUnderSampler\n",
    "from sklearn.linear_model import LogisticRegression\n",
    "from sklearn.metrics import accuracy_score, confusion_matrix, classification_report, f1_score\n",
    "from sklearn.pipeline import Pipeline\n",
    "from sklearn.preprocessing import MinMaxScaler\n",
    "from sklearn.ensemble import RandomForestClassifier\n",
    "from sklearn import metrics"
   ]
  },
  {
   "cell_type": "code",
   "execution_count": 126,
   "id": "abc1795a",
   "metadata": {},
   "outputs": [],
   "source": [
    "# Set view options\n",
    "pd.set_option('display.max_rows', 500)\n",
    "pd.set_option('display.max_columns', 500)"
   ]
  },
  {
   "cell_type": "code",
   "execution_count": 127,
   "id": "b190b408",
   "metadata": {
    "scrolled": false
   },
   "outputs": [
    {
     "name": "stderr",
     "output_type": "stream",
     "text": [
      "C:\\Users\\Conrad\\AppData\\Local\\Temp\\ipykernel_21292\\3120826012.py:1: DtypeWarning: Columns (3,4,7,8,10,11,12,13,14,15,16,17,19,21,22,23,24,25) have mixed types. Specify dtype option on import or set low_memory=False.\n",
      "  obs = pd.read_csv(\"../data/obs_windows/observation_7D_prediction_24H_48H_72H.csv\")\n"
     ]
    }
   ],
   "source": [
    "obs = pd.read_csv(\"../data/obs_windows/observation_7D_prediction_24H_48H_72H.csv\")"
   ]
  },
  {
   "cell_type": "markdown",
   "id": "d39f1ee4",
   "metadata": {},
   "source": [
    "### 7d observation window with 24hr prediction window"
   ]
  },
  {
   "cell_type": "code",
   "execution_count": 128,
   "id": "65035957",
   "metadata": {
    "scrolled": true
   },
   "outputs": [],
   "source": [
    "obs_24 = obs.drop(obs.loc[:, 'spn':'full_derate_within_24hr'], axis=1).drop(obs.loc[:, 'partial_derate_within_48hr':'derate_within_72hr'], axis=1).drop(columns='EventTimeStamp')"
   ]
  },
  {
   "cell_type": "code",
   "execution_count": 129,
   "id": "981642a6",
   "metadata": {},
   "outputs": [
    {
     "data": {
      "text/plain": [
       "1039"
      ]
     },
     "execution_count": 129,
     "metadata": {},
     "output_type": "execute_result"
    }
   ],
   "source": [
    "eq_ids = obs_24.drop_duplicates(subset='EquipmentID')\n",
    "eq_ids = eq_ids[['EquipmentID']]\n",
    "eq_ids.shape[0]"
   ]
  },
  {
   "cell_type": "code",
   "execution_count": 130,
   "id": "f36697fc",
   "metadata": {
    "scrolled": true
   },
   "outputs": [],
   "source": [
    "np.random.seed(321)\n",
    "\n",
    "eq_ids['random'] = (np.random.randint(0, 10000, eq_ids.shape[0]))/10000"
   ]
  },
  {
   "cell_type": "code",
   "execution_count": 131,
   "id": "07a121b7",
   "metadata": {},
   "outputs": [],
   "source": [
    "#create column 'modeling' labeling ~35% of the data for training, ~30% for validation, and ~35% for testing \n",
    "eq_ids['modeling'] = np.where(((eq_ids.random <= 0.35)), 'training', np.where(((eq_ids.random <= 0.65)), 'validation', 'testing'))"
   ]
  },
  {
   "cell_type": "code",
   "execution_count": 132,
   "id": "f3da264e",
   "metadata": {},
   "outputs": [],
   "source": [
    "#merge modeling column onto original dataframe\n",
    "obs_24 = obs_24.sort_values(by='EquipmentID')\n",
    "eq_ids = eq_ids.sort_values(by='EquipmentID')\n",
    "\n",
    "obs_24 = obs_24.merge(eq_ids, on='EquipmentID')\n",
    "obs_24 = obs_24.drop(columns='EquipmentID')"
   ]
  },
  {
   "cell_type": "code",
   "execution_count": 133,
   "id": "98ddd7dc",
   "metadata": {},
   "outputs": [
    {
     "name": "stdout",
     "output_type": "stream",
     "text": [
      "(200860, 56)\n",
      "(202749, 56)\n",
      "(151246, 56)\n"
     ]
    }
   ],
   "source": [
    "#creating training, testing, and validation dfs\n",
    "obs_24_training = obs_24[obs_24['modeling']=='training']\n",
    "obs_24_training = obs_24_training.drop(columns=['modeling', 'random'])\n",
    "print(obs_24_training.shape)\n",
    "\n",
    "obs_24_test = obs_24[obs_24['modeling']=='testing']\n",
    "obs_24_test = obs_24_test.drop(columns=['modeling', 'random'])\n",
    "print(obs_24_test.shape)\n",
    "\n",
    "obs_24_validation = obs_24[obs_24['modeling']=='validation']\n",
    "obs_24_validation = obs_24_validation.drop(columns=['modeling', 'random'])\n",
    "print(obs_24_validation.shape)"
   ]
  },
  {
   "cell_type": "code",
   "execution_count": 134,
   "id": "25de4383",
   "metadata": {},
   "outputs": [],
   "source": [
    "df_sampling = obs_24_training\n",
    "df_sampling_non_tenth = df_sampling[df_sampling['derate_within_24hr'] == 0][0:18855]"
   ]
  },
  {
   "cell_type": "code",
   "execution_count": 135,
   "id": "4672f915",
   "metadata": {},
   "outputs": [],
   "source": [
    "df_sampling_derate_tenth = pd.concat([df_sampling[df_sampling['derate_within_24hr']==1], df_sampling_non_tenth])"
   ]
  },
  {
   "cell_type": "code",
   "execution_count": 136,
   "id": "4a3b0f75",
   "metadata": {},
   "outputs": [],
   "source": [
    "oversampler = SMOTE(k_neighbors=5, random_state=321)\n",
    "\n",
    "features = df_sampling_derate_tenth.loc[:, 'Aftertreatment System':].columns.tolist()\n",
    "\n",
    "target = ['derate_within_24hr']\n",
    "\n",
    "X_train = df_sampling_derate_tenth[features]\n",
    "y_train = df_sampling_derate_tenth[target]"
   ]
  },
  {
   "cell_type": "code",
   "execution_count": 137,
   "id": "c2fb8168",
   "metadata": {},
   "outputs": [],
   "source": [
    "X_smote, y_smote = oversampler.fit_resample(X_train, y_train)"
   ]
  },
  {
   "cell_type": "code",
   "execution_count": 138,
   "id": "8398fa26",
   "metadata": {},
   "outputs": [
    {
     "data": {
      "text/plain": [
       "(18855, 56)"
      ]
     },
     "execution_count": 138,
     "metadata": {},
     "output_type": "execute_result"
    }
   ],
   "source": [
    "smote_all = pd.concat([y_smote, X_smote], axis=1)\n",
    "smote_derate = smote_all[smote_all['derate_within_24hr']==1]\n",
    "smote_derate.shape"
   ]
  },
  {
   "cell_type": "code",
   "execution_count": 139,
   "id": "d27fbd8f",
   "metadata": {},
   "outputs": [
    {
     "data": {
      "text/plain": [
       "(215061, 56)"
      ]
     },
     "execution_count": 139,
     "metadata": {},
     "output_type": "execute_result"
    }
   ],
   "source": [
    "und_samp = pd.concat([smote_derate, df_sampling[df_sampling['derate_within_24hr']==0]])\n",
    "und_samp.shape"
   ]
  },
  {
   "cell_type": "code",
   "execution_count": 140,
   "id": "d9048449",
   "metadata": {},
   "outputs": [],
   "source": [
    "undersampler = RandomUnderSampler(random_state=321, sampling_strategy=1/2)\n",
    "\n",
    "features = und_samp.loc[:, 'Aftertreatment System':].columns.tolist()\n",
    "\n",
    "target =['derate_within_24hr']\n",
    "\n",
    "X_train_final = und_samp[features]\n",
    "y_train_final = und_samp[target]\n",
    "\n",
    "X_test = obs_24_test[features]\n",
    "y_test = obs_24_test[target]"
   ]
  },
  {
   "cell_type": "code",
   "execution_count": 141,
   "id": "f434ed51",
   "metadata": {},
   "outputs": [],
   "source": [
    "X_resampled, y_resampled = undersampler.fit_resample(X_train_final, y_train_final)"
   ]
  },
  {
   "cell_type": "code",
   "execution_count": 142,
   "id": "9495117f",
   "metadata": {
    "scrolled": true
   },
   "outputs": [
    {
     "name": "stdout",
     "output_type": "stream",
     "text": [
      "(56565, 1)\n"
     ]
    }
   ],
   "source": [
    "print(y_resampled.shape)"
   ]
  },
  {
   "cell_type": "code",
   "execution_count": 143,
   "id": "dbc595d7",
   "metadata": {},
   "outputs": [],
   "source": [
    "rf_pipeline = Pipeline(\n",
    "    steps = [\n",
    "        ('scale', MinMaxScaler()),\n",
    "        ('rf_clf', RandomForestClassifier(n_estimators = 500, n_jobs = -1, random_state = 69))\n",
    "    ]\n",
    ")"
   ]
  },
  {
   "cell_type": "code",
   "execution_count": 144,
   "id": "42f5e192",
   "metadata": {
    "scrolled": false
   },
   "outputs": [
    {
     "name": "stderr",
     "output_type": "stream",
     "text": [
      "C:\\Users\\Conrad\\anaconda3\\envs\\p310\\lib\\site-packages\\sklearn\\pipeline.py:394: DataConversionWarning: A column-vector y was passed when a 1d array was expected. Please change the shape of y to (n_samples,), for example using ravel().\n",
      "  self._final_estimator.fit(Xt, y, **fit_params_last_step)\n"
     ]
    }
   ],
   "source": [
    "rand_forest = rf_pipeline.fit(X_resampled, y_resampled)\n",
    "rf_pipeline.score(X_test, y_test)\n",
    "\n",
    "y_pred = rand_forest.predict(X_test)"
   ]
  },
  {
   "cell_type": "code",
   "execution_count": 145,
   "id": "0ad25530",
   "metadata": {
    "scrolled": true
   },
   "outputs": [
    {
     "data": {
      "text/html": [
       "<div>\n",
       "<style scoped>\n",
       "    .dataframe tbody tr th:only-of-type {\n",
       "        vertical-align: middle;\n",
       "    }\n",
       "\n",
       "    .dataframe tbody tr th {\n",
       "        vertical-align: top;\n",
       "    }\n",
       "\n",
       "    .dataframe thead th {\n",
       "        text-align: right;\n",
       "    }\n",
       "</style>\n",
       "<table border=\"1\" class=\"dataframe\">\n",
       "  <thead>\n",
       "    <tr style=\"text-align: right;\">\n",
       "      <th></th>\n",
       "      <th>feature</th>\n",
       "      <th>importance</th>\n",
       "    </tr>\n",
       "  </thead>\n",
       "  <tbody>\n",
       "    <tr>\n",
       "      <th>29</th>\n",
       "      <td>Engine Protection Torque Partial Derate</td>\n",
       "      <td>3.254962e-01</td>\n",
       "    </tr>\n",
       "    <tr>\n",
       "      <th>0</th>\n",
       "      <td>Aftertreatment System</td>\n",
       "      <td>2.450280e-01</td>\n",
       "    </tr>\n",
       "    <tr>\n",
       "      <th>51</th>\n",
       "      <td>Unknown</td>\n",
       "      <td>1.333503e-01</td>\n",
       "    </tr>\n",
       "    <tr>\n",
       "      <th>18</th>\n",
       "      <td>Engine Coolant</td>\n",
       "      <td>7.171544e-02</td>\n",
       "    </tr>\n",
       "    <tr>\n",
       "      <th>22</th>\n",
       "      <td>Engine Fuel</td>\n",
       "      <td>3.427875e-02</td>\n",
       "    </tr>\n",
       "    <tr>\n",
       "      <th>28</th>\n",
       "      <td>Engine Protection Torque Full Derate</td>\n",
       "      <td>2.581604e-02</td>\n",
       "    </tr>\n",
       "    <tr>\n",
       "      <th>43</th>\n",
       "      <td>J1939 Network</td>\n",
       "      <td>2.395421e-02</td>\n",
       "    </tr>\n",
       "    <tr>\n",
       "      <th>52</th>\n",
       "      <td>Variable Geometry Turbocharger</td>\n",
       "      <td>2.289851e-02</td>\n",
       "    </tr>\n",
       "    <tr>\n",
       "      <th>41</th>\n",
       "      <td>Intake Manifold</td>\n",
       "      <td>2.130903e-02</td>\n",
       "    </tr>\n",
       "    <tr>\n",
       "      <th>39</th>\n",
       "      <td>Injector Metering Rail</td>\n",
       "      <td>1.704484e-02</td>\n",
       "    </tr>\n",
       "    <tr>\n",
       "      <th>34</th>\n",
       "      <td>Exhaust Gas Recirculation System</td>\n",
       "      <td>1.357625e-02</td>\n",
       "    </tr>\n",
       "    <tr>\n",
       "      <th>17</th>\n",
       "      <td>Engine Control Module</td>\n",
       "      <td>1.331942e-02</td>\n",
       "    </tr>\n",
       "    <tr>\n",
       "      <th>9</th>\n",
       "      <td>ECU Power Output Supply Voltage</td>\n",
       "      <td>9.908546e-03</td>\n",
       "    </tr>\n",
       "    <tr>\n",
       "      <th>40</th>\n",
       "      <td>Injector Solenoid</td>\n",
       "      <td>6.587269e-03</td>\n",
       "    </tr>\n",
       "    <tr>\n",
       "      <th>33</th>\n",
       "      <td>Exhaust Gas</td>\n",
       "      <td>6.138867e-03</td>\n",
       "    </tr>\n",
       "    <tr>\n",
       "      <th>26</th>\n",
       "      <td>Engine Oil</td>\n",
       "      <td>4.102876e-03</td>\n",
       "    </tr>\n",
       "    <tr>\n",
       "      <th>1</th>\n",
       "      <td>Ambient Air Temperature</td>\n",
       "      <td>3.973752e-03</td>\n",
       "    </tr>\n",
       "    <tr>\n",
       "      <th>45</th>\n",
       "      <td>Sensor Supply</td>\n",
       "      <td>3.124618e-03</td>\n",
       "    </tr>\n",
       "    <tr>\n",
       "      <th>20</th>\n",
       "      <td>Engine Diesel Particulate Filter</td>\n",
       "      <td>2.768663e-03</td>\n",
       "    </tr>\n",
       "    <tr>\n",
       "      <th>13</th>\n",
       "      <td>Electronic Throttle Control</td>\n",
       "      <td>2.732735e-03</td>\n",
       "    </tr>\n",
       "    <tr>\n",
       "      <th>50</th>\n",
       "      <td>Turbocharger</td>\n",
       "      <td>1.677779e-03</td>\n",
       "    </tr>\n",
       "    <tr>\n",
       "      <th>30</th>\n",
       "      <td>Engine Speed</td>\n",
       "      <td>1.675414e-03</td>\n",
       "    </tr>\n",
       "    <tr>\n",
       "      <th>35</th>\n",
       "      <td>Fan Control</td>\n",
       "      <td>1.540492e-03</td>\n",
       "    </tr>\n",
       "    <tr>\n",
       "      <th>7</th>\n",
       "      <td>Crankcase</td>\n",
       "      <td>1.327775e-03</td>\n",
       "    </tr>\n",
       "    <tr>\n",
       "      <th>6</th>\n",
       "      <td>Battery</td>\n",
       "      <td>1.226554e-03</td>\n",
       "    </tr>\n",
       "    <tr>\n",
       "      <th>47</th>\n",
       "      <td>Total Vehicle Distance</td>\n",
       "      <td>1.221203e-03</td>\n",
       "    </tr>\n",
       "    <tr>\n",
       "      <th>2</th>\n",
       "      <td>Anti-Lock Braking (ABS) Controller</td>\n",
       "      <td>1.023168e-03</td>\n",
       "    </tr>\n",
       "    <tr>\n",
       "      <th>23</th>\n",
       "      <td>Engine Injector Metering Rail</td>\n",
       "      <td>7.180949e-04</td>\n",
       "    </tr>\n",
       "    <tr>\n",
       "      <th>54</th>\n",
       "      <td>Wheel-Based Vehicle Speed</td>\n",
       "      <td>6.608790e-04</td>\n",
       "    </tr>\n",
       "    <tr>\n",
       "      <th>46</th>\n",
       "      <td>Steering Wheel Angle Sensor</td>\n",
       "      <td>4.095890e-04</td>\n",
       "    </tr>\n",
       "    <tr>\n",
       "      <th>44</th>\n",
       "      <td>Real Time Clock</td>\n",
       "      <td>3.091629e-04</td>\n",
       "    </tr>\n",
       "    <tr>\n",
       "      <th>25</th>\n",
       "      <td>Engine Misfire</td>\n",
       "      <td>2.213076e-04</td>\n",
       "    </tr>\n",
       "    <tr>\n",
       "      <th>19</th>\n",
       "      <td>Engine Cooling System</td>\n",
       "      <td>1.926087e-04</td>\n",
       "    </tr>\n",
       "    <tr>\n",
       "      <th>53</th>\n",
       "      <td>Vehicle Identification Number</td>\n",
       "      <td>1.913715e-04</td>\n",
       "    </tr>\n",
       "    <tr>\n",
       "      <th>15</th>\n",
       "      <td>Engine Brake</td>\n",
       "      <td>1.313107e-04</td>\n",
       "    </tr>\n",
       "    <tr>\n",
       "      <th>32</th>\n",
       "      <td>Engine Total Idle Hours</td>\n",
       "      <td>8.842378e-05</td>\n",
       "    </tr>\n",
       "    <tr>\n",
       "      <th>5</th>\n",
       "      <td>Barometric Pressure Sensor</td>\n",
       "      <td>8.517108e-05</td>\n",
       "    </tr>\n",
       "    <tr>\n",
       "      <th>38</th>\n",
       "      <td>Indicator Lamp</td>\n",
       "      <td>5.129666e-05</td>\n",
       "    </tr>\n",
       "    <tr>\n",
       "      <th>36</th>\n",
       "      <td>Fuel Control Module</td>\n",
       "      <td>4.769997e-05</td>\n",
       "    </tr>\n",
       "    <tr>\n",
       "      <th>48</th>\n",
       "      <td>Transmission Communications Failure Idle Torqu...</td>\n",
       "      <td>2.770907e-05</td>\n",
       "    </tr>\n",
       "    <tr>\n",
       "      <th>42</th>\n",
       "      <td>Intake Throttle</td>\n",
       "      <td>2.564957e-05</td>\n",
       "    </tr>\n",
       "    <tr>\n",
       "      <th>24</th>\n",
       "      <td>Engine Intake Air Heater</td>\n",
       "      <td>1.736145e-05</td>\n",
       "    </tr>\n",
       "    <tr>\n",
       "      <th>21</th>\n",
       "      <td>Engine Exhaust Back Pressure</td>\n",
       "      <td>4.400834e-06</td>\n",
       "    </tr>\n",
       "    <tr>\n",
       "      <th>49</th>\n",
       "      <td>Transmission Oil</td>\n",
       "      <td>7.014560e-07</td>\n",
       "    </tr>\n",
       "    <tr>\n",
       "      <th>8</th>\n",
       "      <td>DAS Module to ECM Communication</td>\n",
       "      <td>2.607311e-07</td>\n",
       "    </tr>\n",
       "    <tr>\n",
       "      <th>11</th>\n",
       "      <td>Electrical Charging System Voltage</td>\n",
       "      <td>2.542343e-07</td>\n",
       "    </tr>\n",
       "    <tr>\n",
       "      <th>12</th>\n",
       "      <td>Electronic Fuel Injection Control Valve</td>\n",
       "      <td>0.000000e+00</td>\n",
       "    </tr>\n",
       "    <tr>\n",
       "      <th>14</th>\n",
       "      <td>Engine Air Filter</td>\n",
       "      <td>0.000000e+00</td>\n",
       "    </tr>\n",
       "    <tr>\n",
       "      <th>10</th>\n",
       "      <td>Electric Lift Pump</td>\n",
       "      <td>0.000000e+00</td>\n",
       "    </tr>\n",
       "    <tr>\n",
       "      <th>37</th>\n",
       "      <td>High Pressure Common Rail Fuel Pressure Relief...</td>\n",
       "      <td>0.000000e+00</td>\n",
       "    </tr>\n",
       "    <tr>\n",
       "      <th>16</th>\n",
       "      <td>Engine Charge Air Cooler Outlet Temperature</td>\n",
       "      <td>0.000000e+00</td>\n",
       "    </tr>\n",
       "    <tr>\n",
       "      <th>4</th>\n",
       "      <td>Auxiliary Temperature Sensor Input Circuit</td>\n",
       "      <td>0.000000e+00</td>\n",
       "    </tr>\n",
       "    <tr>\n",
       "      <th>3</th>\n",
       "      <td>Auxiliary Input/Output</td>\n",
       "      <td>0.000000e+00</td>\n",
       "    </tr>\n",
       "    <tr>\n",
       "      <th>31</th>\n",
       "      <td>Engine Starter Motor Relay</td>\n",
       "      <td>0.000000e+00</td>\n",
       "    </tr>\n",
       "    <tr>\n",
       "      <th>27</th>\n",
       "      <td>Engine Position Sensor</td>\n",
       "      <td>0.000000e+00</td>\n",
       "    </tr>\n",
       "  </tbody>\n",
       "</table>\n",
       "</div>"
      ],
      "text/plain": [
       "                                              feature    importance\n",
       "29            Engine Protection Torque Partial Derate  3.254962e-01\n",
       "0                               Aftertreatment System  2.450280e-01\n",
       "51                                            Unknown  1.333503e-01\n",
       "18                                     Engine Coolant  7.171544e-02\n",
       "22                                        Engine Fuel  3.427875e-02\n",
       "28               Engine Protection Torque Full Derate  2.581604e-02\n",
       "43                                      J1939 Network  2.395421e-02\n",
       "52                     Variable Geometry Turbocharger  2.289851e-02\n",
       "41                                    Intake Manifold  2.130903e-02\n",
       "39                             Injector Metering Rail  1.704484e-02\n",
       "34                   Exhaust Gas Recirculation System  1.357625e-02\n",
       "17                              Engine Control Module  1.331942e-02\n",
       "9                     ECU Power Output Supply Voltage  9.908546e-03\n",
       "40                                  Injector Solenoid  6.587269e-03\n",
       "33                                        Exhaust Gas  6.138867e-03\n",
       "26                                         Engine Oil  4.102876e-03\n",
       "1                             Ambient Air Temperature  3.973752e-03\n",
       "45                                      Sensor Supply  3.124618e-03\n",
       "20                   Engine Diesel Particulate Filter  2.768663e-03\n",
       "13                        Electronic Throttle Control  2.732735e-03\n",
       "50                                       Turbocharger  1.677779e-03\n",
       "30                                       Engine Speed  1.675414e-03\n",
       "35                                        Fan Control  1.540492e-03\n",
       "7                                           Crankcase  1.327775e-03\n",
       "6                                             Battery  1.226554e-03\n",
       "47                             Total Vehicle Distance  1.221203e-03\n",
       "2                  Anti-Lock Braking (ABS) Controller  1.023168e-03\n",
       "23                      Engine Injector Metering Rail  7.180949e-04\n",
       "54                          Wheel-Based Vehicle Speed  6.608790e-04\n",
       "46                        Steering Wheel Angle Sensor  4.095890e-04\n",
       "44                                    Real Time Clock  3.091629e-04\n",
       "25                                     Engine Misfire  2.213076e-04\n",
       "19                              Engine Cooling System  1.926087e-04\n",
       "53                      Vehicle Identification Number  1.913715e-04\n",
       "15                                       Engine Brake  1.313107e-04\n",
       "32                            Engine Total Idle Hours  8.842378e-05\n",
       "5                          Barometric Pressure Sensor  8.517108e-05\n",
       "38                                     Indicator Lamp  5.129666e-05\n",
       "36                                Fuel Control Module  4.769997e-05\n",
       "48  Transmission Communications Failure Idle Torqu...  2.770907e-05\n",
       "42                                    Intake Throttle  2.564957e-05\n",
       "24                           Engine Intake Air Heater  1.736145e-05\n",
       "21                       Engine Exhaust Back Pressure  4.400834e-06\n",
       "49                                   Transmission Oil  7.014560e-07\n",
       "8                     DAS Module to ECM Communication  2.607311e-07\n",
       "11                 Electrical Charging System Voltage  2.542343e-07\n",
       "12            Electronic Fuel Injection Control Valve  0.000000e+00\n",
       "14                                  Engine Air Filter  0.000000e+00\n",
       "10                                 Electric Lift Pump  0.000000e+00\n",
       "37  High Pressure Common Rail Fuel Pressure Relief...  0.000000e+00\n",
       "16        Engine Charge Air Cooler Outlet Temperature  0.000000e+00\n",
       "4          Auxiliary Temperature Sensor Input Circuit  0.000000e+00\n",
       "3                              Auxiliary Input/Output  0.000000e+00\n",
       "31                         Engine Starter Motor Relay  0.000000e+00\n",
       "27                             Engine Position Sensor  0.000000e+00"
      ]
     },
     "execution_count": 145,
     "metadata": {},
     "output_type": "execute_result"
    }
   ],
   "source": [
    "data = {'feature': np.array(X_resampled.columns), 'importance': rf_pipeline.named_steps['rf_clf'].feature_importances_}\n",
    "pd.DataFrame(data).sort_values('importance', ascending = False)\n"
   ]
  },
  {
   "cell_type": "code",
   "execution_count": 146,
   "id": "1fbd9533",
   "metadata": {},
   "outputs": [
    {
     "data": {
      "text/plain": [
       "array([[190317,   7695],\n",
       "       [  1266,   3471]], dtype=int64)"
      ]
     },
     "execution_count": 146,
     "metadata": {},
     "output_type": "execute_result"
    }
   ],
   "source": [
    "confusion_matrix(y_test, y_pred)"
   ]
  },
  {
   "cell_type": "code",
   "execution_count": 147,
   "id": "df3a365b",
   "metadata": {},
   "outputs": [],
   "source": [
    "tn, fp, fn, tp = confusion_matrix(y_test, y_pred).ravel()"
   ]
  },
  {
   "cell_type": "code",
   "execution_count": 148,
   "id": "bb69f669",
   "metadata": {
    "scrolled": true
   },
   "outputs": [
    {
     "data": {
      "text/plain": [
       "(190317, 7695, 1266, 3471)"
      ]
     },
     "execution_count": 148,
     "metadata": {},
     "output_type": "execute_result"
    }
   ],
   "source": [
    "(tn, fp, fn, tp)"
   ]
  },
  {
   "cell_type": "code",
   "execution_count": 149,
   "id": "f2b764fc",
   "metadata": {
    "scrolled": false
   },
   "outputs": [
    {
     "name": "stdout",
     "output_type": "stream",
     "text": [
      "              precision    recall  f1-score   support\n",
      "\n",
      "         0.0       0.99      0.96      0.98    198012\n",
      "         1.0       0.31      0.73      0.44      4737\n",
      "\n",
      "    accuracy                           0.96    202749\n",
      "   macro avg       0.65      0.85      0.71    202749\n",
      "weighted avg       0.98      0.96      0.96    202749\n",
      "\n"
     ]
    }
   ],
   "source": [
    "print(classification_report(y_test, y_pred, zero_division = 0))"
   ]
  },
  {
   "cell_type": "code",
   "execution_count": 150,
   "id": "91677efd",
   "metadata": {},
   "outputs": [],
   "source": [
    "lg_pipeline =  Pipeline(\n",
    "    steps = [\n",
    "        ('scale', MinMaxScaler()),\n",
    "        ('lg_clf', LogisticRegression())\n",
    "    ]\n",
    ")"
   ]
  },
  {
   "cell_type": "code",
   "execution_count": 151,
   "id": "a6d8d565",
   "metadata": {},
   "outputs": [
    {
     "name": "stderr",
     "output_type": "stream",
     "text": [
      "C:\\Users\\Conrad\\anaconda3\\envs\\p310\\lib\\site-packages\\sklearn\\utils\\validation.py:993: DataConversionWarning: A column-vector y was passed when a 1d array was expected. Please change the shape of y to (n_samples, ), for example using ravel().\n",
      "  y = column_or_1d(y, warn=True)\n"
     ]
    },
    {
     "name": "stdout",
     "output_type": "stream",
     "text": [
      "0.9211188136613722\n"
     ]
    },
    {
     "name": "stderr",
     "output_type": "stream",
     "text": [
      "C:\\Users\\Conrad\\anaconda3\\envs\\p310\\lib\\site-packages\\sklearn\\linear_model\\_logistic.py:814: ConvergenceWarning: lbfgs failed to converge (status=1):\n",
      "STOP: TOTAL NO. of ITERATIONS REACHED LIMIT.\n",
      "\n",
      "Increase the number of iterations (max_iter) or scale the data as shown in:\n",
      "    https://scikit-learn.org/stable/modules/preprocessing.html\n",
      "Please also refer to the documentation for alternative solver options:\n",
      "    https://scikit-learn.org/stable/modules/linear_model.html#logistic-regression\n",
      "  n_iter_i = _check_optimize_result(\n"
     ]
    }
   ],
   "source": [
    "logistic = lg_pipeline.fit(X_resampled, y_resampled)\n",
    "\n",
    "y_pred2 = logistic.predict(X_test)\n",
    "\n",
    "y_pred_proba = logistic.predict_proba(X_test)[::,1]\n",
    "\n",
    "auc = metrics.roc_auc_score(y_test, y_pred_proba)\n",
    "\n",
    "print(auc)"
   ]
  },
  {
   "cell_type": "markdown",
   "id": "a2b29834",
   "metadata": {},
   "source": [
    "### 7d observation window with 48hr prediction window"
   ]
  },
  {
   "cell_type": "code",
   "execution_count": 152,
   "id": "3e7ea58f",
   "metadata": {
    "scrolled": true
   },
   "outputs": [],
   "source": [
    "obs_48 = obs.drop(obs.loc[:, 'spn':'full_derate_within_48hr'], axis=1).drop(obs.loc[:, 'partial_derate_within_72hr':'derate_within_72hr'], axis=1).drop(columns='EventTimeStamp')"
   ]
  },
  {
   "cell_type": "code",
   "execution_count": 153,
   "id": "3a4cce6e",
   "metadata": {},
   "outputs": [
    {
     "data": {
      "text/plain": [
       "1039"
      ]
     },
     "execution_count": 153,
     "metadata": {},
     "output_type": "execute_result"
    }
   ],
   "source": [
    "eq_ids = obs_48.drop_duplicates(subset='EquipmentID')\n",
    "eq_ids = eq_ids[['EquipmentID']]\n",
    "eq_ids.shape[0]"
   ]
  },
  {
   "cell_type": "code",
   "execution_count": 154,
   "id": "3de6f668",
   "metadata": {
    "scrolled": true
   },
   "outputs": [],
   "source": [
    "np.random.seed(321)\n",
    "\n",
    "eq_ids['random'] = (np.random.randint(0, 10000, eq_ids.shape[0]))/10000"
   ]
  },
  {
   "cell_type": "code",
   "execution_count": 155,
   "id": "c714c735",
   "metadata": {},
   "outputs": [],
   "source": [
    "#create column 'modeling' labeling ~35% of the data for training, ~30% for validation, and ~35% for testing \n",
    "eq_ids['modeling'] = np.where(((eq_ids.random <= 0.35)), 'training', np.where(((eq_ids.random <= 0.65)), 'validation', 'testing'))"
   ]
  },
  {
   "cell_type": "code",
   "execution_count": 156,
   "id": "f1311cc8",
   "metadata": {},
   "outputs": [],
   "source": [
    "#merge modeling column onto original dataframe\n",
    "obs_48 = obs_48.sort_values(by='EquipmentID')\n",
    "eq_ids = eq_ids.sort_values(by='EquipmentID')\n",
    "\n",
    "obs_48 = obs_48.merge(eq_ids, on='EquipmentID')\n",
    "obs_48 = obs_48.drop(columns='EquipmentID')"
   ]
  },
  {
   "cell_type": "code",
   "execution_count": 157,
   "id": "c7653cf6",
   "metadata": {},
   "outputs": [
    {
     "name": "stdout",
     "output_type": "stream",
     "text": [
      "(200860, 56)\n",
      "(202749, 56)\n",
      "(151246, 56)\n"
     ]
    }
   ],
   "source": [
    "#creating training, testing, and validation dfs\n",
    "obs_48_training = obs_48[obs_48['modeling']=='training']\n",
    "obs_48_training = obs_48_training.drop(columns=['modeling', 'random'])\n",
    "print(obs_48_training.shape)\n",
    "\n",
    "obs_48_test = obs_48[obs_48['modeling']=='testing']\n",
    "obs_48_test = obs_48_test.drop(columns=['modeling', 'random'])\n",
    "print(obs_48_test.shape)\n",
    "\n",
    "obs_48_validation = obs_48[obs_48['modeling']=='validation']\n",
    "obs_48_validation = obs_48_validation.drop(columns=['modeling', 'random'])\n",
    "print(obs_48_validation.shape)"
   ]
  },
  {
   "cell_type": "code",
   "execution_count": 158,
   "id": "ca86f873",
   "metadata": {},
   "outputs": [],
   "source": [
    "df_sampling = obs_48_training\n",
    "df_sampling_non_tenth = df_sampling[df_sampling['derate_within_48hr'] == 0][0:18855]"
   ]
  },
  {
   "cell_type": "code",
   "execution_count": 159,
   "id": "211d797c",
   "metadata": {},
   "outputs": [],
   "source": [
    "df_sampling_derate_tenth = pd.concat([df_sampling[df_sampling['derate_within_48hr']==1], df_sampling_non_tenth])"
   ]
  },
  {
   "cell_type": "code",
   "execution_count": 160,
   "id": "c0878fcf",
   "metadata": {},
   "outputs": [],
   "source": [
    "oversampler = SMOTE(k_neighbors=5, random_state=321)\n",
    "\n",
    "features = df_sampling_derate_tenth.loc[:, 'Aftertreatment System':].columns.tolist()\n",
    "\n",
    "target = ['derate_within_48hr']\n",
    "\n",
    "X_train = df_sampling_derate_tenth[features]\n",
    "y_train = df_sampling_derate_tenth[target]\n",
    "\n",
    "X_test = obs_48_test[features]\n",
    "y_test = obs_48_test[target]"
   ]
  },
  {
   "cell_type": "code",
   "execution_count": 161,
   "id": "ed0fc266",
   "metadata": {},
   "outputs": [],
   "source": [
    "X_smote, y_smote = oversampler.fit_resample(X_train, y_train)"
   ]
  },
  {
   "cell_type": "code",
   "execution_count": 162,
   "id": "ab3f862d",
   "metadata": {},
   "outputs": [
    {
     "data": {
      "text/plain": [
       "(18855, 56)"
      ]
     },
     "execution_count": 162,
     "metadata": {},
     "output_type": "execute_result"
    }
   ],
   "source": [
    "smote_all = pd.concat([y_smote, X_smote], axis=1)\n",
    "smote_derate = smote_all[smote_all['derate_within_48hr']==1]\n",
    "smote_derate.shape"
   ]
  },
  {
   "cell_type": "code",
   "execution_count": 163,
   "id": "7e52b3fd",
   "metadata": {},
   "outputs": [
    {
     "data": {
      "text/plain": [
       "(214184, 56)"
      ]
     },
     "execution_count": 163,
     "metadata": {},
     "output_type": "execute_result"
    }
   ],
   "source": [
    "und_samp = pd.concat([smote_derate, df_sampling[df_sampling['derate_within_48hr']==0]])\n",
    "und_samp.shape"
   ]
  },
  {
   "cell_type": "code",
   "execution_count": 164,
   "id": "0429ddf7",
   "metadata": {},
   "outputs": [],
   "source": [
    "undersampler = RandomUnderSampler(random_state=321, sampling_strategy=1/2)\n",
    "\n",
    "features = und_samp.loc[:, 'Aftertreatment System':].columns.tolist()\n",
    "\n",
    "target =['derate_within_48hr']\n",
    "\n",
    "X_train_final = und_samp[features]\n",
    "y_train_final = und_samp[target]"
   ]
  },
  {
   "cell_type": "code",
   "execution_count": 165,
   "id": "bdc607ca",
   "metadata": {},
   "outputs": [],
   "source": [
    "X_resampled, y_resampled = undersampler.fit_resample(X_train_final, y_train_final)"
   ]
  },
  {
   "cell_type": "code",
   "execution_count": 166,
   "id": "fd91ca95",
   "metadata": {
    "scrolled": true
   },
   "outputs": [
    {
     "name": "stdout",
     "output_type": "stream",
     "text": [
      "(56565, 1)\n"
     ]
    }
   ],
   "source": [
    "print(y_resampled.shape)"
   ]
  },
  {
   "cell_type": "code",
   "execution_count": 167,
   "id": "e9aad9f7",
   "metadata": {},
   "outputs": [],
   "source": [
    "rf_pipeline = Pipeline(\n",
    "    steps = [\n",
    "        ('scale', MinMaxScaler()),\n",
    "        ('rf_clf', RandomForestClassifier(n_estimators = 500, n_jobs = -1, random_state = 69))\n",
    "    ]\n",
    ")"
   ]
  },
  {
   "cell_type": "code",
   "execution_count": 168,
   "id": "a0ff2001",
   "metadata": {
    "scrolled": false
   },
   "outputs": [
    {
     "name": "stderr",
     "output_type": "stream",
     "text": [
      "C:\\Users\\Conrad\\anaconda3\\envs\\p310\\lib\\site-packages\\sklearn\\pipeline.py:394: DataConversionWarning: A column-vector y was passed when a 1d array was expected. Please change the shape of y to (n_samples,), for example using ravel().\n",
      "  self._final_estimator.fit(Xt, y, **fit_params_last_step)\n"
     ]
    }
   ],
   "source": [
    "rand_forest = rf_pipeline.fit(X_resampled, y_resampled)\n",
    "rf_pipeline.score(X_test, y_test)\n",
    "\n",
    "y_pred = rand_forest.predict(X_test)"
   ]
  },
  {
   "cell_type": "code",
   "execution_count": 169,
   "id": "dfa5a9a3",
   "metadata": {
    "scrolled": true
   },
   "outputs": [
    {
     "data": {
      "text/html": [
       "<div>\n",
       "<style scoped>\n",
       "    .dataframe tbody tr th:only-of-type {\n",
       "        vertical-align: middle;\n",
       "    }\n",
       "\n",
       "    .dataframe tbody tr th {\n",
       "        vertical-align: top;\n",
       "    }\n",
       "\n",
       "    .dataframe thead th {\n",
       "        text-align: right;\n",
       "    }\n",
       "</style>\n",
       "<table border=\"1\" class=\"dataframe\">\n",
       "  <thead>\n",
       "    <tr style=\"text-align: right;\">\n",
       "      <th></th>\n",
       "      <th>feature</th>\n",
       "      <th>importance</th>\n",
       "    </tr>\n",
       "  </thead>\n",
       "  <tbody>\n",
       "    <tr>\n",
       "      <th>29</th>\n",
       "      <td>Engine Protection Torque Partial Derate</td>\n",
       "      <td>2.997240e-01</td>\n",
       "    </tr>\n",
       "    <tr>\n",
       "      <th>0</th>\n",
       "      <td>Aftertreatment System</td>\n",
       "      <td>2.335250e-01</td>\n",
       "    </tr>\n",
       "    <tr>\n",
       "      <th>51</th>\n",
       "      <td>Unknown</td>\n",
       "      <td>1.476410e-01</td>\n",
       "    </tr>\n",
       "    <tr>\n",
       "      <th>18</th>\n",
       "      <td>Engine Coolant</td>\n",
       "      <td>7.861727e-02</td>\n",
       "    </tr>\n",
       "    <tr>\n",
       "      <th>22</th>\n",
       "      <td>Engine Fuel</td>\n",
       "      <td>4.208726e-02</td>\n",
       "    </tr>\n",
       "    <tr>\n",
       "      <th>43</th>\n",
       "      <td>J1939 Network</td>\n",
       "      <td>3.049233e-02</td>\n",
       "    </tr>\n",
       "    <tr>\n",
       "      <th>28</th>\n",
       "      <td>Engine Protection Torque Full Derate</td>\n",
       "      <td>2.279377e-02</td>\n",
       "    </tr>\n",
       "    <tr>\n",
       "      <th>52</th>\n",
       "      <td>Variable Geometry Turbocharger</td>\n",
       "      <td>2.176359e-02</td>\n",
       "    </tr>\n",
       "    <tr>\n",
       "      <th>41</th>\n",
       "      <td>Intake Manifold</td>\n",
       "      <td>1.860147e-02</td>\n",
       "    </tr>\n",
       "    <tr>\n",
       "      <th>39</th>\n",
       "      <td>Injector Metering Rail</td>\n",
       "      <td>1.752685e-02</td>\n",
       "    </tr>\n",
       "    <tr>\n",
       "      <th>17</th>\n",
       "      <td>Engine Control Module</td>\n",
       "      <td>1.579244e-02</td>\n",
       "    </tr>\n",
       "    <tr>\n",
       "      <th>34</th>\n",
       "      <td>Exhaust Gas Recirculation System</td>\n",
       "      <td>1.397233e-02</td>\n",
       "    </tr>\n",
       "    <tr>\n",
       "      <th>9</th>\n",
       "      <td>ECU Power Output Supply Voltage</td>\n",
       "      <td>8.319813e-03</td>\n",
       "    </tr>\n",
       "    <tr>\n",
       "      <th>40</th>\n",
       "      <td>Injector Solenoid</td>\n",
       "      <td>6.803802e-03</td>\n",
       "    </tr>\n",
       "    <tr>\n",
       "      <th>33</th>\n",
       "      <td>Exhaust Gas</td>\n",
       "      <td>6.606486e-03</td>\n",
       "    </tr>\n",
       "    <tr>\n",
       "      <th>13</th>\n",
       "      <td>Electronic Throttle Control</td>\n",
       "      <td>4.807368e-03</td>\n",
       "    </tr>\n",
       "    <tr>\n",
       "      <th>1</th>\n",
       "      <td>Ambient Air Temperature</td>\n",
       "      <td>4.448840e-03</td>\n",
       "    </tr>\n",
       "    <tr>\n",
       "      <th>26</th>\n",
       "      <td>Engine Oil</td>\n",
       "      <td>4.306875e-03</td>\n",
       "    </tr>\n",
       "    <tr>\n",
       "      <th>20</th>\n",
       "      <td>Engine Diesel Particulate Filter</td>\n",
       "      <td>3.569260e-03</td>\n",
       "    </tr>\n",
       "    <tr>\n",
       "      <th>45</th>\n",
       "      <td>Sensor Supply</td>\n",
       "      <td>3.240654e-03</td>\n",
       "    </tr>\n",
       "    <tr>\n",
       "      <th>7</th>\n",
       "      <td>Crankcase</td>\n",
       "      <td>2.475652e-03</td>\n",
       "    </tr>\n",
       "    <tr>\n",
       "      <th>50</th>\n",
       "      <td>Turbocharger</td>\n",
       "      <td>2.107451e-03</td>\n",
       "    </tr>\n",
       "    <tr>\n",
       "      <th>6</th>\n",
       "      <td>Battery</td>\n",
       "      <td>1.646800e-03</td>\n",
       "    </tr>\n",
       "    <tr>\n",
       "      <th>30</th>\n",
       "      <td>Engine Speed</td>\n",
       "      <td>1.585713e-03</td>\n",
       "    </tr>\n",
       "    <tr>\n",
       "      <th>47</th>\n",
       "      <td>Total Vehicle Distance</td>\n",
       "      <td>1.476805e-03</td>\n",
       "    </tr>\n",
       "    <tr>\n",
       "      <th>35</th>\n",
       "      <td>Fan Control</td>\n",
       "      <td>1.425247e-03</td>\n",
       "    </tr>\n",
       "    <tr>\n",
       "      <th>2</th>\n",
       "      <td>Anti-Lock Braking (ABS) Controller</td>\n",
       "      <td>8.108646e-04</td>\n",
       "    </tr>\n",
       "    <tr>\n",
       "      <th>54</th>\n",
       "      <td>Wheel-Based Vehicle Speed</td>\n",
       "      <td>7.977976e-04</td>\n",
       "    </tr>\n",
       "    <tr>\n",
       "      <th>23</th>\n",
       "      <td>Engine Injector Metering Rail</td>\n",
       "      <td>7.878906e-04</td>\n",
       "    </tr>\n",
       "    <tr>\n",
       "      <th>44</th>\n",
       "      <td>Real Time Clock</td>\n",
       "      <td>4.993194e-04</td>\n",
       "    </tr>\n",
       "    <tr>\n",
       "      <th>15</th>\n",
       "      <td>Engine Brake</td>\n",
       "      <td>3.330053e-04</td>\n",
       "    </tr>\n",
       "    <tr>\n",
       "      <th>19</th>\n",
       "      <td>Engine Cooling System</td>\n",
       "      <td>3.322853e-04</td>\n",
       "    </tr>\n",
       "    <tr>\n",
       "      <th>46</th>\n",
       "      <td>Steering Wheel Angle Sensor</td>\n",
       "      <td>3.253632e-04</td>\n",
       "    </tr>\n",
       "    <tr>\n",
       "      <th>25</th>\n",
       "      <td>Engine Misfire</td>\n",
       "      <td>2.168555e-04</td>\n",
       "    </tr>\n",
       "    <tr>\n",
       "      <th>32</th>\n",
       "      <td>Engine Total Idle Hours</td>\n",
       "      <td>1.561686e-04</td>\n",
       "    </tr>\n",
       "    <tr>\n",
       "      <th>5</th>\n",
       "      <td>Barometric Pressure Sensor</td>\n",
       "      <td>1.319243e-04</td>\n",
       "    </tr>\n",
       "    <tr>\n",
       "      <th>53</th>\n",
       "      <td>Vehicle Identification Number</td>\n",
       "      <td>1.176052e-04</td>\n",
       "    </tr>\n",
       "    <tr>\n",
       "      <th>48</th>\n",
       "      <td>Transmission Communications Failure Idle Torqu...</td>\n",
       "      <td>4.706591e-05</td>\n",
       "    </tr>\n",
       "    <tr>\n",
       "      <th>38</th>\n",
       "      <td>Indicator Lamp</td>\n",
       "      <td>3.799712e-05</td>\n",
       "    </tr>\n",
       "    <tr>\n",
       "      <th>24</th>\n",
       "      <td>Engine Intake Air Heater</td>\n",
       "      <td>2.612473e-05</td>\n",
       "    </tr>\n",
       "    <tr>\n",
       "      <th>21</th>\n",
       "      <td>Engine Exhaust Back Pressure</td>\n",
       "      <td>6.206328e-06</td>\n",
       "    </tr>\n",
       "    <tr>\n",
       "      <th>27</th>\n",
       "      <td>Engine Position Sensor</td>\n",
       "      <td>5.522069e-06</td>\n",
       "    </tr>\n",
       "    <tr>\n",
       "      <th>42</th>\n",
       "      <td>Intake Throttle</td>\n",
       "      <td>4.217179e-06</td>\n",
       "    </tr>\n",
       "    <tr>\n",
       "      <th>8</th>\n",
       "      <td>DAS Module to ECM Communication</td>\n",
       "      <td>3.170623e-06</td>\n",
       "    </tr>\n",
       "    <tr>\n",
       "      <th>36</th>\n",
       "      <td>Fuel Control Module</td>\n",
       "      <td>1.730821e-06</td>\n",
       "    </tr>\n",
       "    <tr>\n",
       "      <th>49</th>\n",
       "      <td>Transmission Oil</td>\n",
       "      <td>5.528549e-07</td>\n",
       "    </tr>\n",
       "    <tr>\n",
       "      <th>11</th>\n",
       "      <td>Electrical Charging System Voltage</td>\n",
       "      <td>3.167215e-07</td>\n",
       "    </tr>\n",
       "    <tr>\n",
       "      <th>14</th>\n",
       "      <td>Engine Air Filter</td>\n",
       "      <td>0.000000e+00</td>\n",
       "    </tr>\n",
       "    <tr>\n",
       "      <th>10</th>\n",
       "      <td>Electric Lift Pump</td>\n",
       "      <td>0.000000e+00</td>\n",
       "    </tr>\n",
       "    <tr>\n",
       "      <th>37</th>\n",
       "      <td>High Pressure Common Rail Fuel Pressure Relief...</td>\n",
       "      <td>0.000000e+00</td>\n",
       "    </tr>\n",
       "    <tr>\n",
       "      <th>16</th>\n",
       "      <td>Engine Charge Air Cooler Outlet Temperature</td>\n",
       "      <td>0.000000e+00</td>\n",
       "    </tr>\n",
       "    <tr>\n",
       "      <th>4</th>\n",
       "      <td>Auxiliary Temperature Sensor Input Circuit</td>\n",
       "      <td>0.000000e+00</td>\n",
       "    </tr>\n",
       "    <tr>\n",
       "      <th>3</th>\n",
       "      <td>Auxiliary Input/Output</td>\n",
       "      <td>0.000000e+00</td>\n",
       "    </tr>\n",
       "    <tr>\n",
       "      <th>31</th>\n",
       "      <td>Engine Starter Motor Relay</td>\n",
       "      <td>0.000000e+00</td>\n",
       "    </tr>\n",
       "    <tr>\n",
       "      <th>12</th>\n",
       "      <td>Electronic Fuel Injection Control Valve</td>\n",
       "      <td>0.000000e+00</td>\n",
       "    </tr>\n",
       "  </tbody>\n",
       "</table>\n",
       "</div>"
      ],
      "text/plain": [
       "                                              feature    importance\n",
       "29            Engine Protection Torque Partial Derate  2.997240e-01\n",
       "0                               Aftertreatment System  2.335250e-01\n",
       "51                                            Unknown  1.476410e-01\n",
       "18                                     Engine Coolant  7.861727e-02\n",
       "22                                        Engine Fuel  4.208726e-02\n",
       "43                                      J1939 Network  3.049233e-02\n",
       "28               Engine Protection Torque Full Derate  2.279377e-02\n",
       "52                     Variable Geometry Turbocharger  2.176359e-02\n",
       "41                                    Intake Manifold  1.860147e-02\n",
       "39                             Injector Metering Rail  1.752685e-02\n",
       "17                              Engine Control Module  1.579244e-02\n",
       "34                   Exhaust Gas Recirculation System  1.397233e-02\n",
       "9                     ECU Power Output Supply Voltage  8.319813e-03\n",
       "40                                  Injector Solenoid  6.803802e-03\n",
       "33                                        Exhaust Gas  6.606486e-03\n",
       "13                        Electronic Throttle Control  4.807368e-03\n",
       "1                             Ambient Air Temperature  4.448840e-03\n",
       "26                                         Engine Oil  4.306875e-03\n",
       "20                   Engine Diesel Particulate Filter  3.569260e-03\n",
       "45                                      Sensor Supply  3.240654e-03\n",
       "7                                           Crankcase  2.475652e-03\n",
       "50                                       Turbocharger  2.107451e-03\n",
       "6                                             Battery  1.646800e-03\n",
       "30                                       Engine Speed  1.585713e-03\n",
       "47                             Total Vehicle Distance  1.476805e-03\n",
       "35                                        Fan Control  1.425247e-03\n",
       "2                  Anti-Lock Braking (ABS) Controller  8.108646e-04\n",
       "54                          Wheel-Based Vehicle Speed  7.977976e-04\n",
       "23                      Engine Injector Metering Rail  7.878906e-04\n",
       "44                                    Real Time Clock  4.993194e-04\n",
       "15                                       Engine Brake  3.330053e-04\n",
       "19                              Engine Cooling System  3.322853e-04\n",
       "46                        Steering Wheel Angle Sensor  3.253632e-04\n",
       "25                                     Engine Misfire  2.168555e-04\n",
       "32                            Engine Total Idle Hours  1.561686e-04\n",
       "5                          Barometric Pressure Sensor  1.319243e-04\n",
       "53                      Vehicle Identification Number  1.176052e-04\n",
       "48  Transmission Communications Failure Idle Torqu...  4.706591e-05\n",
       "38                                     Indicator Lamp  3.799712e-05\n",
       "24                           Engine Intake Air Heater  2.612473e-05\n",
       "21                       Engine Exhaust Back Pressure  6.206328e-06\n",
       "27                             Engine Position Sensor  5.522069e-06\n",
       "42                                    Intake Throttle  4.217179e-06\n",
       "8                     DAS Module to ECM Communication  3.170623e-06\n",
       "36                                Fuel Control Module  1.730821e-06\n",
       "49                                   Transmission Oil  5.528549e-07\n",
       "11                 Electrical Charging System Voltage  3.167215e-07\n",
       "14                                  Engine Air Filter  0.000000e+00\n",
       "10                                 Electric Lift Pump  0.000000e+00\n",
       "37  High Pressure Common Rail Fuel Pressure Relief...  0.000000e+00\n",
       "16        Engine Charge Air Cooler Outlet Temperature  0.000000e+00\n",
       "4          Auxiliary Temperature Sensor Input Circuit  0.000000e+00\n",
       "3                              Auxiliary Input/Output  0.000000e+00\n",
       "31                         Engine Starter Motor Relay  0.000000e+00\n",
       "12            Electronic Fuel Injection Control Valve  0.000000e+00"
      ]
     },
     "execution_count": 169,
     "metadata": {},
     "output_type": "execute_result"
    }
   ],
   "source": [
    "data = {'feature': np.array(X_resampled.columns), 'importance': rf_pipeline.named_steps['rf_clf'].feature_importances_}\n",
    "pd.DataFrame(data).sort_values('importance', ascending = False)\n"
   ]
  },
  {
   "cell_type": "code",
   "execution_count": 170,
   "id": "f3197c5c",
   "metadata": {},
   "outputs": [
    {
     "data": {
      "text/plain": [
       "array([[189463,   7865],\n",
       "       [  1711,   3710]], dtype=int64)"
      ]
     },
     "execution_count": 170,
     "metadata": {},
     "output_type": "execute_result"
    }
   ],
   "source": [
    "confusion_matrix(y_test, y_pred)"
   ]
  },
  {
   "cell_type": "code",
   "execution_count": 171,
   "id": "97b2725f",
   "metadata": {},
   "outputs": [],
   "source": [
    "tn, fp, fn, tp = confusion_matrix(y_test, y_pred).ravel()"
   ]
  },
  {
   "cell_type": "code",
   "execution_count": 172,
   "id": "f39602d9",
   "metadata": {
    "scrolled": true
   },
   "outputs": [
    {
     "data": {
      "text/plain": [
       "(189463, 7865, 1711, 3710)"
      ]
     },
     "execution_count": 172,
     "metadata": {},
     "output_type": "execute_result"
    }
   ],
   "source": [
    "(tn, fp, fn, tp)"
   ]
  },
  {
   "cell_type": "code",
   "execution_count": 173,
   "id": "61185055",
   "metadata": {
    "scrolled": false
   },
   "outputs": [
    {
     "name": "stdout",
     "output_type": "stream",
     "text": [
      "              precision    recall  f1-score   support\n",
      "\n",
      "         0.0       0.99      0.96      0.98    197328\n",
      "         1.0       0.32      0.68      0.44      5421\n",
      "\n",
      "    accuracy                           0.95    202749\n",
      "   macro avg       0.66      0.82      0.71    202749\n",
      "weighted avg       0.97      0.95      0.96    202749\n",
      "\n"
     ]
    }
   ],
   "source": [
    "print(classification_report(y_test, y_pred, zero_division = 0))"
   ]
  },
  {
   "cell_type": "code",
   "execution_count": 174,
   "id": "d76c8733",
   "metadata": {},
   "outputs": [],
   "source": [
    "lg_pipeline =  Pipeline(\n",
    "    steps = [\n",
    "        ('scale', MinMaxScaler()),\n",
    "        ('lg_clf', LogisticRegression())\n",
    "    ]\n",
    ")"
   ]
  },
  {
   "cell_type": "code",
   "execution_count": 175,
   "id": "65311fc6",
   "metadata": {},
   "outputs": [
    {
     "name": "stderr",
     "output_type": "stream",
     "text": [
      "C:\\Users\\Conrad\\anaconda3\\envs\\p310\\lib\\site-packages\\sklearn\\utils\\validation.py:993: DataConversionWarning: A column-vector y was passed when a 1d array was expected. Please change the shape of y to (n_samples, ), for example using ravel().\n",
      "  y = column_or_1d(y, warn=True)\n"
     ]
    },
    {
     "name": "stdout",
     "output_type": "stream",
     "text": [
      "0.8932536057675948\n"
     ]
    },
    {
     "name": "stderr",
     "output_type": "stream",
     "text": [
      "C:\\Users\\Conrad\\anaconda3\\envs\\p310\\lib\\site-packages\\sklearn\\linear_model\\_logistic.py:814: ConvergenceWarning: lbfgs failed to converge (status=1):\n",
      "STOP: TOTAL NO. of ITERATIONS REACHED LIMIT.\n",
      "\n",
      "Increase the number of iterations (max_iter) or scale the data as shown in:\n",
      "    https://scikit-learn.org/stable/modules/preprocessing.html\n",
      "Please also refer to the documentation for alternative solver options:\n",
      "    https://scikit-learn.org/stable/modules/linear_model.html#logistic-regression\n",
      "  n_iter_i = _check_optimize_result(\n"
     ]
    }
   ],
   "source": [
    "logistic = lg_pipeline.fit(X_resampled, y_resampled)\n",
    "\n",
    "y_pred2 = logistic.predict(X_test)\n",
    "\n",
    "y_pred_proba = logistic.predict_proba(X_test)[::,1]\n",
    "\n",
    "auc = metrics.roc_auc_score(y_test, y_pred_proba)\n",
    "\n",
    "print(auc)"
   ]
  },
  {
   "cell_type": "markdown",
   "id": "1bc57d71",
   "metadata": {},
   "source": [
    "### 7d observation window with 72hr prediction window"
   ]
  },
  {
   "cell_type": "code",
   "execution_count": 176,
   "id": "c1cf81d7",
   "metadata": {
    "scrolled": true
   },
   "outputs": [],
   "source": [
    "obs_72 = obs.drop(obs.loc[:, 'spn':'full_derate_within_72hr'], axis=1).drop(columns='EventTimeStamp')"
   ]
  },
  {
   "cell_type": "code",
   "execution_count": 177,
   "id": "26b7d52d",
   "metadata": {},
   "outputs": [
    {
     "data": {
      "text/plain": [
       "1039"
      ]
     },
     "execution_count": 177,
     "metadata": {},
     "output_type": "execute_result"
    }
   ],
   "source": [
    "eq_ids = obs_72.drop_duplicates(subset='EquipmentID')\n",
    "eq_ids = eq_ids[['EquipmentID']]\n",
    "eq_ids.shape[0]"
   ]
  },
  {
   "cell_type": "code",
   "execution_count": 178,
   "id": "60ee5222",
   "metadata": {
    "scrolled": true
   },
   "outputs": [],
   "source": [
    "np.random.seed(321)\n",
    "\n",
    "eq_ids['random'] = (np.random.randint(0, 10000, eq_ids.shape[0]))/10000"
   ]
  },
  {
   "cell_type": "code",
   "execution_count": 179,
   "id": "61baa910",
   "metadata": {},
   "outputs": [],
   "source": [
    "#create column 'modeling' labeling ~35% of the data for training, ~30% for validation, and ~35% for testing \n",
    "eq_ids['modeling'] = np.where(((eq_ids.random <= 0.35)), 'training', np.where(((eq_ids.random <= 0.65)), 'validation', 'testing'))"
   ]
  },
  {
   "cell_type": "code",
   "execution_count": 180,
   "id": "3848bfe4",
   "metadata": {},
   "outputs": [],
   "source": [
    "#merge modeling column onto original dataframe\n",
    "obs_72 = obs_72.sort_values(by='EquipmentID')\n",
    "eq_ids = eq_ids.sort_values(by='EquipmentID')\n",
    "\n",
    "obs_72 = obs_72.merge(eq_ids, on='EquipmentID')\n",
    "obs_72 = obs_72.drop(columns='EquipmentID')"
   ]
  },
  {
   "cell_type": "code",
   "execution_count": 181,
   "id": "265a1371",
   "metadata": {},
   "outputs": [
    {
     "name": "stdout",
     "output_type": "stream",
     "text": [
      "(200860, 56)\n",
      "(202749, 56)\n",
      "(151246, 56)\n"
     ]
    }
   ],
   "source": [
    "#creating training, testing, and validation dfs\n",
    "obs_72_training = obs_72[obs_72['modeling']=='training']\n",
    "obs_72_training = obs_72_training.drop(columns=['modeling', 'random'])\n",
    "print(obs_72_training.shape)\n",
    "\n",
    "obs_72_test = obs_72[obs_72['modeling']=='testing']\n",
    "obs_72_test = obs_72_test.drop(columns=['modeling', 'random'])\n",
    "print(obs_72_test.shape)\n",
    "\n",
    "obs_72_validation = obs_72[obs_72['modeling']=='validation']\n",
    "obs_72_validation = obs_72_validation.drop(columns=['modeling', 'random'])\n",
    "print(obs_72_validation.shape)"
   ]
  },
  {
   "cell_type": "code",
   "execution_count": 182,
   "id": "f300b819",
   "metadata": {},
   "outputs": [],
   "source": [
    "df_sampling = obs_72_training\n",
    "df_sampling_non_tenth = df_sampling[df_sampling['derate_within_72hr'] == 0][0:18855]"
   ]
  },
  {
   "cell_type": "code",
   "execution_count": 183,
   "id": "0f5bf103",
   "metadata": {},
   "outputs": [],
   "source": [
    "df_sampling_derate_tenth = pd.concat([df_sampling[df_sampling['derate_within_72hr']==1], df_sampling_non_tenth])"
   ]
  },
  {
   "cell_type": "code",
   "execution_count": 184,
   "id": "5b42363f",
   "metadata": {},
   "outputs": [],
   "source": [
    "oversampler = SMOTE(k_neighbors=5, random_state=321)\n",
    "\n",
    "features = df_sampling_derate_tenth.loc[:, 'Aftertreatment System':].columns.tolist()\n",
    "\n",
    "target = ['derate_within_72hr']\n",
    "\n",
    "X_train = df_sampling_derate_tenth[features]\n",
    "y_train = df_sampling_derate_tenth[target]"
   ]
  },
  {
   "cell_type": "code",
   "execution_count": 185,
   "id": "a0888ee3",
   "metadata": {},
   "outputs": [],
   "source": [
    "X_smote, y_smote = oversampler.fit_resample(X_train, y_train)"
   ]
  },
  {
   "cell_type": "code",
   "execution_count": 186,
   "id": "283286d1",
   "metadata": {},
   "outputs": [
    {
     "data": {
      "text/plain": [
       "(18855, 56)"
      ]
     },
     "execution_count": 186,
     "metadata": {},
     "output_type": "execute_result"
    }
   ],
   "source": [
    "smote_all = pd.concat([y_smote, X_smote], axis=1)\n",
    "smote_derate = smote_all[smote_all['derate_within_72hr']==1]\n",
    "smote_derate.shape"
   ]
  },
  {
   "cell_type": "code",
   "execution_count": 187,
   "id": "7588627b",
   "metadata": {},
   "outputs": [
    {
     "data": {
      "text/plain": [
       "(213477, 56)"
      ]
     },
     "execution_count": 187,
     "metadata": {},
     "output_type": "execute_result"
    }
   ],
   "source": [
    "und_samp = pd.concat([smote_derate, df_sampling[df_sampling['derate_within_72hr']==0]])\n",
    "und_samp.shape"
   ]
  },
  {
   "cell_type": "code",
   "execution_count": 188,
   "id": "ee4dca54",
   "metadata": {},
   "outputs": [],
   "source": [
    "undersampler = RandomUnderSampler(random_state=321, sampling_strategy=1/2)\n",
    "\n",
    "features = und_samp.loc[:, 'Aftertreatment System':].columns.tolist()\n",
    "\n",
    "target =['derate_within_72hr']\n",
    "\n",
    "X_train_final = und_samp[features]\n",
    "y_train_final = und_samp[target]\n",
    "\n",
    "X_test = obs_72_test[features]\n",
    "y_test = obs_72_test[target]"
   ]
  },
  {
   "cell_type": "code",
   "execution_count": 189,
   "id": "9944ef36",
   "metadata": {},
   "outputs": [],
   "source": [
    "X_resampled, y_resampled = undersampler.fit_resample(X_train_final, y_train_final)"
   ]
  },
  {
   "cell_type": "code",
   "execution_count": 190,
   "id": "2b5a1556",
   "metadata": {
    "scrolled": true
   },
   "outputs": [
    {
     "name": "stdout",
     "output_type": "stream",
     "text": [
      "(56565, 1)\n"
     ]
    }
   ],
   "source": [
    "print(y_resampled.shape)"
   ]
  },
  {
   "cell_type": "code",
   "execution_count": 191,
   "id": "fab4202c",
   "metadata": {},
   "outputs": [],
   "source": [
    "rf_pipeline = Pipeline(\n",
    "    steps = [\n",
    "        ('scale', MinMaxScaler()),\n",
    "        ('rf_clf', RandomForestClassifier(n_estimators = 500, n_jobs = -1, random_state = 69))\n",
    "    ]\n",
    ")"
   ]
  },
  {
   "cell_type": "code",
   "execution_count": 192,
   "id": "47e811cc",
   "metadata": {
    "scrolled": false
   },
   "outputs": [
    {
     "name": "stderr",
     "output_type": "stream",
     "text": [
      "C:\\Users\\Conrad\\anaconda3\\envs\\p310\\lib\\site-packages\\sklearn\\pipeline.py:394: DataConversionWarning: A column-vector y was passed when a 1d array was expected. Please change the shape of y to (n_samples,), for example using ravel().\n",
      "  self._final_estimator.fit(Xt, y, **fit_params_last_step)\n"
     ]
    }
   ],
   "source": [
    "rand_forest = rf_pipeline.fit(X_resampled, y_resampled)\n",
    "rf_pipeline.score(X_test, y_test)\n",
    "\n",
    "y_pred = rand_forest.predict(X_test)"
   ]
  },
  {
   "cell_type": "code",
   "execution_count": 193,
   "id": "bd3c08a0",
   "metadata": {
    "scrolled": true
   },
   "outputs": [
    {
     "data": {
      "text/html": [
       "<div>\n",
       "<style scoped>\n",
       "    .dataframe tbody tr th:only-of-type {\n",
       "        vertical-align: middle;\n",
       "    }\n",
       "\n",
       "    .dataframe tbody tr th {\n",
       "        vertical-align: top;\n",
       "    }\n",
       "\n",
       "    .dataframe thead th {\n",
       "        text-align: right;\n",
       "    }\n",
       "</style>\n",
       "<table border=\"1\" class=\"dataframe\">\n",
       "  <thead>\n",
       "    <tr style=\"text-align: right;\">\n",
       "      <th></th>\n",
       "      <th>feature</th>\n",
       "      <th>importance</th>\n",
       "    </tr>\n",
       "  </thead>\n",
       "  <tbody>\n",
       "    <tr>\n",
       "      <th>29</th>\n",
       "      <td>Engine Protection Torque Partial Derate</td>\n",
       "      <td>0.276446</td>\n",
       "    </tr>\n",
       "    <tr>\n",
       "      <th>0</th>\n",
       "      <td>Aftertreatment System</td>\n",
       "      <td>0.228875</td>\n",
       "    </tr>\n",
       "    <tr>\n",
       "      <th>51</th>\n",
       "      <td>Unknown</td>\n",
       "      <td>0.154881</td>\n",
       "    </tr>\n",
       "    <tr>\n",
       "      <th>18</th>\n",
       "      <td>Engine Coolant</td>\n",
       "      <td>0.083103</td>\n",
       "    </tr>\n",
       "    <tr>\n",
       "      <th>22</th>\n",
       "      <td>Engine Fuel</td>\n",
       "      <td>0.046791</td>\n",
       "    </tr>\n",
       "    <tr>\n",
       "      <th>43</th>\n",
       "      <td>J1939 Network</td>\n",
       "      <td>0.035276</td>\n",
       "    </tr>\n",
       "    <tr>\n",
       "      <th>28</th>\n",
       "      <td>Engine Protection Torque Full Derate</td>\n",
       "      <td>0.023745</td>\n",
       "    </tr>\n",
       "    <tr>\n",
       "      <th>52</th>\n",
       "      <td>Variable Geometry Turbocharger</td>\n",
       "      <td>0.022511</td>\n",
       "    </tr>\n",
       "    <tr>\n",
       "      <th>41</th>\n",
       "      <td>Intake Manifold</td>\n",
       "      <td>0.020049</td>\n",
       "    </tr>\n",
       "    <tr>\n",
       "      <th>17</th>\n",
       "      <td>Engine Control Module</td>\n",
       "      <td>0.017226</td>\n",
       "    </tr>\n",
       "    <tr>\n",
       "      <th>39</th>\n",
       "      <td>Injector Metering Rail</td>\n",
       "      <td>0.017120</td>\n",
       "    </tr>\n",
       "    <tr>\n",
       "      <th>34</th>\n",
       "      <td>Exhaust Gas Recirculation System</td>\n",
       "      <td>0.014999</td>\n",
       "    </tr>\n",
       "    <tr>\n",
       "      <th>9</th>\n",
       "      <td>ECU Power Output Supply Voltage</td>\n",
       "      <td>0.007943</td>\n",
       "    </tr>\n",
       "    <tr>\n",
       "      <th>40</th>\n",
       "      <td>Injector Solenoid</td>\n",
       "      <td>0.006959</td>\n",
       "    </tr>\n",
       "    <tr>\n",
       "      <th>33</th>\n",
       "      <td>Exhaust Gas</td>\n",
       "      <td>0.006289</td>\n",
       "    </tr>\n",
       "    <tr>\n",
       "      <th>13</th>\n",
       "      <td>Electronic Throttle Control</td>\n",
       "      <td>0.005148</td>\n",
       "    </tr>\n",
       "    <tr>\n",
       "      <th>1</th>\n",
       "      <td>Ambient Air Temperature</td>\n",
       "      <td>0.004977</td>\n",
       "    </tr>\n",
       "    <tr>\n",
       "      <th>45</th>\n",
       "      <td>Sensor Supply</td>\n",
       "      <td>0.004350</td>\n",
       "    </tr>\n",
       "    <tr>\n",
       "      <th>26</th>\n",
       "      <td>Engine Oil</td>\n",
       "      <td>0.003895</td>\n",
       "    </tr>\n",
       "    <tr>\n",
       "      <th>20</th>\n",
       "      <td>Engine Diesel Particulate Filter</td>\n",
       "      <td>0.003090</td>\n",
       "    </tr>\n",
       "    <tr>\n",
       "      <th>7</th>\n",
       "      <td>Crankcase</td>\n",
       "      <td>0.002271</td>\n",
       "    </tr>\n",
       "    <tr>\n",
       "      <th>50</th>\n",
       "      <td>Turbocharger</td>\n",
       "      <td>0.002172</td>\n",
       "    </tr>\n",
       "    <tr>\n",
       "      <th>30</th>\n",
       "      <td>Engine Speed</td>\n",
       "      <td>0.001579</td>\n",
       "    </tr>\n",
       "    <tr>\n",
       "      <th>23</th>\n",
       "      <td>Engine Injector Metering Rail</td>\n",
       "      <td>0.001558</td>\n",
       "    </tr>\n",
       "    <tr>\n",
       "      <th>35</th>\n",
       "      <td>Fan Control</td>\n",
       "      <td>0.001441</td>\n",
       "    </tr>\n",
       "    <tr>\n",
       "      <th>6</th>\n",
       "      <td>Battery</td>\n",
       "      <td>0.001338</td>\n",
       "    </tr>\n",
       "    <tr>\n",
       "      <th>47</th>\n",
       "      <td>Total Vehicle Distance</td>\n",
       "      <td>0.001338</td>\n",
       "    </tr>\n",
       "    <tr>\n",
       "      <th>54</th>\n",
       "      <td>Wheel-Based Vehicle Speed</td>\n",
       "      <td>0.001203</td>\n",
       "    </tr>\n",
       "    <tr>\n",
       "      <th>2</th>\n",
       "      <td>Anti-Lock Braking (ABS) Controller</td>\n",
       "      <td>0.001041</td>\n",
       "    </tr>\n",
       "    <tr>\n",
       "      <th>44</th>\n",
       "      <td>Real Time Clock</td>\n",
       "      <td>0.000491</td>\n",
       "    </tr>\n",
       "    <tr>\n",
       "      <th>46</th>\n",
       "      <td>Steering Wheel Angle Sensor</td>\n",
       "      <td>0.000377</td>\n",
       "    </tr>\n",
       "    <tr>\n",
       "      <th>53</th>\n",
       "      <td>Vehicle Identification Number</td>\n",
       "      <td>0.000303</td>\n",
       "    </tr>\n",
       "    <tr>\n",
       "      <th>15</th>\n",
       "      <td>Engine Brake</td>\n",
       "      <td>0.000296</td>\n",
       "    </tr>\n",
       "    <tr>\n",
       "      <th>19</th>\n",
       "      <td>Engine Cooling System</td>\n",
       "      <td>0.000288</td>\n",
       "    </tr>\n",
       "    <tr>\n",
       "      <th>25</th>\n",
       "      <td>Engine Misfire</td>\n",
       "      <td>0.000275</td>\n",
       "    </tr>\n",
       "    <tr>\n",
       "      <th>5</th>\n",
       "      <td>Barometric Pressure Sensor</td>\n",
       "      <td>0.000074</td>\n",
       "    </tr>\n",
       "    <tr>\n",
       "      <th>38</th>\n",
       "      <td>Indicator Lamp</td>\n",
       "      <td>0.000055</td>\n",
       "    </tr>\n",
       "    <tr>\n",
       "      <th>32</th>\n",
       "      <td>Engine Total Idle Hours</td>\n",
       "      <td>0.000055</td>\n",
       "    </tr>\n",
       "    <tr>\n",
       "      <th>36</th>\n",
       "      <td>Fuel Control Module</td>\n",
       "      <td>0.000055</td>\n",
       "    </tr>\n",
       "    <tr>\n",
       "      <th>48</th>\n",
       "      <td>Transmission Communications Failure Idle Torqu...</td>\n",
       "      <td>0.000041</td>\n",
       "    </tr>\n",
       "    <tr>\n",
       "      <th>42</th>\n",
       "      <td>Intake Throttle</td>\n",
       "      <td>0.000032</td>\n",
       "    </tr>\n",
       "    <tr>\n",
       "      <th>24</th>\n",
       "      <td>Engine Intake Air Heater</td>\n",
       "      <td>0.000030</td>\n",
       "    </tr>\n",
       "    <tr>\n",
       "      <th>3</th>\n",
       "      <td>Auxiliary Input/Output</td>\n",
       "      <td>0.000005</td>\n",
       "    </tr>\n",
       "    <tr>\n",
       "      <th>21</th>\n",
       "      <td>Engine Exhaust Back Pressure</td>\n",
       "      <td>0.000003</td>\n",
       "    </tr>\n",
       "    <tr>\n",
       "      <th>8</th>\n",
       "      <td>DAS Module to ECM Communication</td>\n",
       "      <td>0.000003</td>\n",
       "    </tr>\n",
       "    <tr>\n",
       "      <th>12</th>\n",
       "      <td>Electronic Fuel Injection Control Valve</td>\n",
       "      <td>0.000002</td>\n",
       "    </tr>\n",
       "    <tr>\n",
       "      <th>11</th>\n",
       "      <td>Electrical Charging System Voltage</td>\n",
       "      <td>0.000001</td>\n",
       "    </tr>\n",
       "    <tr>\n",
       "      <th>10</th>\n",
       "      <td>Electric Lift Pump</td>\n",
       "      <td>0.000000</td>\n",
       "    </tr>\n",
       "    <tr>\n",
       "      <th>14</th>\n",
       "      <td>Engine Air Filter</td>\n",
       "      <td>0.000000</td>\n",
       "    </tr>\n",
       "    <tr>\n",
       "      <th>49</th>\n",
       "      <td>Transmission Oil</td>\n",
       "      <td>0.000000</td>\n",
       "    </tr>\n",
       "    <tr>\n",
       "      <th>4</th>\n",
       "      <td>Auxiliary Temperature Sensor Input Circuit</td>\n",
       "      <td>0.000000</td>\n",
       "    </tr>\n",
       "    <tr>\n",
       "      <th>37</th>\n",
       "      <td>High Pressure Common Rail Fuel Pressure Relief...</td>\n",
       "      <td>0.000000</td>\n",
       "    </tr>\n",
       "    <tr>\n",
       "      <th>16</th>\n",
       "      <td>Engine Charge Air Cooler Outlet Temperature</td>\n",
       "      <td>0.000000</td>\n",
       "    </tr>\n",
       "    <tr>\n",
       "      <th>31</th>\n",
       "      <td>Engine Starter Motor Relay</td>\n",
       "      <td>0.000000</td>\n",
       "    </tr>\n",
       "    <tr>\n",
       "      <th>27</th>\n",
       "      <td>Engine Position Sensor</td>\n",
       "      <td>0.000000</td>\n",
       "    </tr>\n",
       "  </tbody>\n",
       "</table>\n",
       "</div>"
      ],
      "text/plain": [
       "                                              feature  importance\n",
       "29            Engine Protection Torque Partial Derate    0.276446\n",
       "0                               Aftertreatment System    0.228875\n",
       "51                                            Unknown    0.154881\n",
       "18                                     Engine Coolant    0.083103\n",
       "22                                        Engine Fuel    0.046791\n",
       "43                                      J1939 Network    0.035276\n",
       "28               Engine Protection Torque Full Derate    0.023745\n",
       "52                     Variable Geometry Turbocharger    0.022511\n",
       "41                                    Intake Manifold    0.020049\n",
       "17                              Engine Control Module    0.017226\n",
       "39                             Injector Metering Rail    0.017120\n",
       "34                   Exhaust Gas Recirculation System    0.014999\n",
       "9                     ECU Power Output Supply Voltage    0.007943\n",
       "40                                  Injector Solenoid    0.006959\n",
       "33                                        Exhaust Gas    0.006289\n",
       "13                        Electronic Throttle Control    0.005148\n",
       "1                             Ambient Air Temperature    0.004977\n",
       "45                                      Sensor Supply    0.004350\n",
       "26                                         Engine Oil    0.003895\n",
       "20                   Engine Diesel Particulate Filter    0.003090\n",
       "7                                           Crankcase    0.002271\n",
       "50                                       Turbocharger    0.002172\n",
       "30                                       Engine Speed    0.001579\n",
       "23                      Engine Injector Metering Rail    0.001558\n",
       "35                                        Fan Control    0.001441\n",
       "6                                             Battery    0.001338\n",
       "47                             Total Vehicle Distance    0.001338\n",
       "54                          Wheel-Based Vehicle Speed    0.001203\n",
       "2                  Anti-Lock Braking (ABS) Controller    0.001041\n",
       "44                                    Real Time Clock    0.000491\n",
       "46                        Steering Wheel Angle Sensor    0.000377\n",
       "53                      Vehicle Identification Number    0.000303\n",
       "15                                       Engine Brake    0.000296\n",
       "19                              Engine Cooling System    0.000288\n",
       "25                                     Engine Misfire    0.000275\n",
       "5                          Barometric Pressure Sensor    0.000074\n",
       "38                                     Indicator Lamp    0.000055\n",
       "32                            Engine Total Idle Hours    0.000055\n",
       "36                                Fuel Control Module    0.000055\n",
       "48  Transmission Communications Failure Idle Torqu...    0.000041\n",
       "42                                    Intake Throttle    0.000032\n",
       "24                           Engine Intake Air Heater    0.000030\n",
       "3                              Auxiliary Input/Output    0.000005\n",
       "21                       Engine Exhaust Back Pressure    0.000003\n",
       "8                     DAS Module to ECM Communication    0.000003\n",
       "12            Electronic Fuel Injection Control Valve    0.000002\n",
       "11                 Electrical Charging System Voltage    0.000001\n",
       "10                                 Electric Lift Pump    0.000000\n",
       "14                                  Engine Air Filter    0.000000\n",
       "49                                   Transmission Oil    0.000000\n",
       "4          Auxiliary Temperature Sensor Input Circuit    0.000000\n",
       "37  High Pressure Common Rail Fuel Pressure Relief...    0.000000\n",
       "16        Engine Charge Air Cooler Outlet Temperature    0.000000\n",
       "31                         Engine Starter Motor Relay    0.000000\n",
       "27                             Engine Position Sensor    0.000000"
      ]
     },
     "execution_count": 193,
     "metadata": {},
     "output_type": "execute_result"
    }
   ],
   "source": [
    "data = {'feature': np.array(X_resampled.columns), 'importance': rf_pipeline.named_steps['rf_clf'].feature_importances_}\n",
    "pd.DataFrame(data).sort_values('importance', ascending = False)\n"
   ]
  },
  {
   "cell_type": "code",
   "execution_count": 194,
   "id": "1fbd9533",
   "metadata": {},
   "outputs": [
    {
     "data": {
      "text/plain": [
       "array([[188627,   8224],\n",
       "       [  2086,   3812]], dtype=int64)"
      ]
     },
     "execution_count": 194,
     "metadata": {},
     "output_type": "execute_result"
    }
   ],
   "source": [
    "confusion_matrix(y_test, y_pred)"
   ]
  },
  {
   "cell_type": "code",
   "execution_count": 195,
   "id": "df3a365b",
   "metadata": {},
   "outputs": [],
   "source": [
    "tn, fp, fn, tp = confusion_matrix(y_test, y_pred).ravel()"
   ]
  },
  {
   "cell_type": "code",
   "execution_count": 196,
   "id": "bb69f669",
   "metadata": {
    "scrolled": true
   },
   "outputs": [
    {
     "data": {
      "text/plain": [
       "(188627, 8224, 2086, 3812)"
      ]
     },
     "execution_count": 196,
     "metadata": {},
     "output_type": "execute_result"
    }
   ],
   "source": [
    "(tn, fp, fn, tp)"
   ]
  },
  {
   "cell_type": "code",
   "execution_count": 197,
   "id": "f2b764fc",
   "metadata": {
    "scrolled": true
   },
   "outputs": [
    {
     "name": "stdout",
     "output_type": "stream",
     "text": [
      "              precision    recall  f1-score   support\n",
      "\n",
      "         0.0       0.99      0.96      0.97    196851\n",
      "         1.0       0.32      0.65      0.43      5898\n",
      "\n",
      "    accuracy                           0.95    202749\n",
      "   macro avg       0.65      0.80      0.70    202749\n",
      "weighted avg       0.97      0.95      0.96    202749\n",
      "\n"
     ]
    }
   ],
   "source": [
    "print(classification_report(y_test, y_pred, zero_division = 0))"
   ]
  },
  {
   "cell_type": "code",
   "execution_count": 198,
   "id": "a290e4ea",
   "metadata": {},
   "outputs": [],
   "source": [
    "lg_pipeline =  Pipeline(\n",
    "    steps = [\n",
    "        ('scale', MinMaxScaler()),\n",
    "        ('lg_clf', LogisticRegression())\n",
    "    ]\n",
    ")"
   ]
  },
  {
   "cell_type": "code",
   "execution_count": 199,
   "id": "7bd14030",
   "metadata": {},
   "outputs": [
    {
     "name": "stderr",
     "output_type": "stream",
     "text": [
      "C:\\Users\\Conrad\\anaconda3\\envs\\p310\\lib\\site-packages\\sklearn\\utils\\validation.py:993: DataConversionWarning: A column-vector y was passed when a 1d array was expected. Please change the shape of y to (n_samples, ), for example using ravel().\n",
      "  y = column_or_1d(y, warn=True)\n"
     ]
    },
    {
     "name": "stdout",
     "output_type": "stream",
     "text": [
      "0.8756279700004066\n"
     ]
    },
    {
     "name": "stderr",
     "output_type": "stream",
     "text": [
      "C:\\Users\\Conrad\\anaconda3\\envs\\p310\\lib\\site-packages\\sklearn\\linear_model\\_logistic.py:814: ConvergenceWarning: lbfgs failed to converge (status=1):\n",
      "STOP: TOTAL NO. of ITERATIONS REACHED LIMIT.\n",
      "\n",
      "Increase the number of iterations (max_iter) or scale the data as shown in:\n",
      "    https://scikit-learn.org/stable/modules/preprocessing.html\n",
      "Please also refer to the documentation for alternative solver options:\n",
      "    https://scikit-learn.org/stable/modules/linear_model.html#logistic-regression\n",
      "  n_iter_i = _check_optimize_result(\n"
     ]
    }
   ],
   "source": [
    "logistic = lg_pipeline.fit(X_resampled, y_resampled)\n",
    "\n",
    "y_pred2 = logistic.predict(X_test)\n",
    "\n",
    "y_pred_proba = logistic.predict_proba(X_test)[::,1]\n",
    "\n",
    "auc = metrics.roc_auc_score(y_test, y_pred_proba)\n",
    "\n",
    "print(auc)"
   ]
  },
  {
   "cell_type": "code",
   "execution_count": null,
   "id": "47676150",
   "metadata": {},
   "outputs": [],
   "source": []
  }
 ],
 "metadata": {
  "kernelspec": {
   "display_name": "Python 3 (ipykernel)",
   "language": "python",
   "name": "python3"
  },
  "language_info": {
   "codemirror_mode": {
    "name": "ipython",
    "version": 3
   },
   "file_extension": ".py",
   "mimetype": "text/x-python",
   "name": "python",
   "nbconvert_exporter": "python",
   "pygments_lexer": "ipython3",
   "version": "3.10.3"
  }
 },
 "nbformat": 4,
 "nbformat_minor": 5
}
