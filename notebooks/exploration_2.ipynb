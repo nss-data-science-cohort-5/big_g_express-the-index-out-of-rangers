{
 "cells": [
  {
   "cell_type": "code",
   "execution_count": 31,
   "metadata": {
    "collapsed": true,
    "pycharm": {
     "name": "#%%\n"
    }
   },
   "outputs": [],
   "source": [
    "import pandas as pd"
   ]
  },
  {
   "cell_type": "code",
   "execution_count": 32,
   "outputs": [
    {
     "name": "stderr",
     "output_type": "stream",
     "text": [
      "/var/folders/kb/3pjtmdb110z0myp6wf86bq0h0000gn/T/ipykernel_35793/1140776904.py:1: DtypeWarning: Columns (5,6,9,10,12,13,14,15,16,17,18,19,21,23,24,25,26,27) have mixed types. Specify dtype option on import or set low_memory=False.\n",
      "  df = pd.read_csv('../data/final_df.csv')\n"
     ]
    }
   ],
   "source": [
    "df = pd.read_csv('../data/final_df.csv')"
   ],
   "metadata": {
    "collapsed": false,
    "pycharm": {
     "name": "#%%\n"
    }
   }
  },
  {
   "cell_type": "code",
   "execution_count": 33,
   "outputs": [],
   "source": [
    "df = df[df['Aftertreatment System'].notna()]\n",
    "df = df.drop(df.loc[:,'AcceleratorPedal':'TurboBoostPressure'], axis = 1)\n",
    "df = df.drop(['EventTimeStamp', 'ESS_Id', 'fmi'], axis = 1)"
   ],
   "metadata": {
    "collapsed": false,
    "pycharm": {
     "name": "#%%\n"
    }
   }
  },
  {
   "cell_type": "code",
   "execution_count": 34,
   "outputs": [
    {
     "data": {
      "text/plain": "1026"
     },
     "execution_count": 34,
     "metadata": {},
     "output_type": "execute_result"
    }
   ],
   "source": [
    "#Get list of unique EquipmentIDs\n",
    "eq_ids = df.drop_duplicates(subset='EquipmentID')\n",
    "eq_ids = eq_ids[['EquipmentID']]\n",
    "eq_ids.shape[0]"
   ],
   "metadata": {
    "collapsed": false,
    "pycharm": {
     "name": "#%%\n"
    }
   }
  },
  {
   "cell_type": "code",
   "execution_count": 35,
   "outputs": [
    {
     "data": {
      "text/plain": "        EquipmentID  random\n0               301  0.6682\n412             302  0.4220\n2011            303  0.5929\n2738            304  0.9617\n3952            305  0.8360\n...             ...     ...\n545690         2371  0.1721\n545693         2374  0.3518\n545704         2375  0.0887\n545708         2376  0.5903\n545714         2377  0.9819\n\n[1026 rows x 2 columns]",
      "text/html": "<div>\n<style scoped>\n    .dataframe tbody tr th:only-of-type {\n        vertical-align: middle;\n    }\n\n    .dataframe tbody tr th {\n        vertical-align: top;\n    }\n\n    .dataframe thead th {\n        text-align: right;\n    }\n</style>\n<table border=\"1\" class=\"dataframe\">\n  <thead>\n    <tr style=\"text-align: right;\">\n      <th></th>\n      <th>EquipmentID</th>\n      <th>random</th>\n    </tr>\n  </thead>\n  <tbody>\n    <tr>\n      <th>0</th>\n      <td>301</td>\n      <td>0.6682</td>\n    </tr>\n    <tr>\n      <th>412</th>\n      <td>302</td>\n      <td>0.4220</td>\n    </tr>\n    <tr>\n      <th>2011</th>\n      <td>303</td>\n      <td>0.5929</td>\n    </tr>\n    <tr>\n      <th>2738</th>\n      <td>304</td>\n      <td>0.9617</td>\n    </tr>\n    <tr>\n      <th>3952</th>\n      <td>305</td>\n      <td>0.8360</td>\n    </tr>\n    <tr>\n      <th>...</th>\n      <td>...</td>\n      <td>...</td>\n    </tr>\n    <tr>\n      <th>545690</th>\n      <td>2371</td>\n      <td>0.1721</td>\n    </tr>\n    <tr>\n      <th>545693</th>\n      <td>2374</td>\n      <td>0.3518</td>\n    </tr>\n    <tr>\n      <th>545704</th>\n      <td>2375</td>\n      <td>0.0887</td>\n    </tr>\n    <tr>\n      <th>545708</th>\n      <td>2376</td>\n      <td>0.5903</td>\n    </tr>\n    <tr>\n      <th>545714</th>\n      <td>2377</td>\n      <td>0.9819</td>\n    </tr>\n  </tbody>\n</table>\n<p>1026 rows × 2 columns</p>\n</div>"
     },
     "execution_count": 35,
     "metadata": {},
     "output_type": "execute_result"
    }
   ],
   "source": [
    "import numpy as np\n",
    "\n",
    "#create a column of random numbers from 0-1\n",
    "np.random.seed(321)\n",
    "\n",
    "eq_ids['random'] = (np.random.randint(0, 10000, eq_ids.shape[0]))/10000\n",
    "\n",
    "eq_ids"
   ],
   "metadata": {
    "collapsed": false,
    "pycharm": {
     "name": "#%%\n"
    }
   }
  },
  {
   "cell_type": "code",
   "execution_count": 36,
   "outputs": [],
   "source": [
    "#create column 'modeling' labeling ~35% of the data for training, ~30% for validation, and ~35% for testing\n",
    "eq_ids['modeling'] = np.where(((eq_ids.random <= 0.35)), 'training', np.where(((eq_ids.random <= 0.65)), 'validation', 'testing'))"
   ],
   "metadata": {
    "collapsed": false,
    "pycharm": {
     "name": "#%%\n"
    }
   }
  },
  {
   "cell_type": "code",
   "execution_count": 37,
   "outputs": [],
   "source": [
    "#merge modeling column onto original dataframe\n",
    "final_df = df.sort_values(by='EquipmentID')\n",
    "eq_ids = eq_ids.sort_values(by='EquipmentID')\n",
    "\n",
    "final_df = df.merge(eq_ids, on='EquipmentID')"
   ],
   "metadata": {
    "collapsed": false,
    "pycharm": {
     "name": "#%%\n"
    }
   }
  },
  {
   "cell_type": "code",
   "execution_count": 38,
   "outputs": [
    {
     "data": {
      "text/plain": "        EquipmentID   spn  Aftertreatment System  Ambient Air Temperature  \\\n6490            306   596                    0.0                      0.0   \n6491            306   596                    0.0                      0.0   \n6492            306   596                    0.0                      0.0   \n6493            306   596                    0.0                      0.0   \n6494            306   596                    0.0                      0.0   \n...             ...   ...                    ...                      ...   \n545692         2371   111                    0.0                      0.0   \n545704         2375    37                    0.0                      0.0   \n545705         2375  2863                    0.0                      0.0   \n545706         2375  2863                    0.0                      0.0   \n545707         2375    37                    0.0                      0.0   \n\n        Anti-Lock Braking (ABS) Controller  Auxiliary Input/Output  \\\n6490                                   0.0                     0.0   \n6491                                   0.0                     0.0   \n6492                                   0.0                     0.0   \n6493                                   0.0                     0.0   \n6494                                   0.0                     0.0   \n...                                    ...                     ...   \n545692                                 0.0                     0.0   \n545704                                 0.0                     0.0   \n545705                                 0.0                     0.0   \n545706                                 0.0                     0.0   \n545707                                 0.0                     0.0   \n\n        Auxiliary Temperature Sensor Input Circuit  \\\n6490                                           0.0   \n6491                                           0.0   \n6492                                           0.0   \n6493                                           0.0   \n6494                                           0.0   \n...                                            ...   \n545692                                         0.0   \n545704                                         0.0   \n545705                                         0.0   \n545706                                         0.0   \n545707                                         0.0   \n\n        Barometric Pressure Sensor  Battery  Crankcase  ...  Sensor Supply  \\\n6490                           0.0      0.0        0.0  ...            0.0   \n6491                           0.0      0.0        0.0  ...            0.0   \n6492                           0.0      0.0        0.0  ...            0.0   \n6493                           0.0      0.0        0.0  ...            0.0   \n6494                           0.0      0.0        0.0  ...            0.0   \n...                            ...      ...        ...  ...            ...   \n545692                         0.0      0.0        0.0  ...            0.0   \n545704                         0.0      0.0        0.0  ...            0.0   \n545705                         0.0      0.0        0.0  ...            0.0   \n545706                         0.0      0.0        0.0  ...            0.0   \n545707                         0.0      0.0        0.0  ...            0.0   \n\n        Steering Wheel Angle Sensor  Total Vehicle Distance  \\\n6490                            0.0                     0.0   \n6491                            0.0                     0.0   \n6492                            0.0                     0.0   \n6493                            0.0                     0.0   \n6494                            0.0                     0.0   \n...                             ...                     ...   \n545692                          0.0                     0.0   \n545704                          0.0                     0.0   \n545705                          0.0                     0.0   \n545706                          0.0                     0.0   \n545707                          0.0                     0.0   \n\n        Transmission Communications Failure Idle Torque Limit  \\\n6490                                                  0.0       \n6491                                                  0.0       \n6492                                                  0.0       \n6493                                                  0.0       \n6494                                                  0.0       \n...                                                   ...       \n545692                                                0.0       \n545704                                                0.0       \n545705                                                0.0       \n545706                                                0.0       \n545707                                                0.0       \n\n        Transmission Oil  Turbocharger  Unknown  \\\n6490                 0.0           0.0      1.0   \n6491                 0.0           0.0      1.0   \n6492                 0.0           0.0      2.0   \n6493                 0.0           0.0      0.0   \n6494                 0.0           0.0      1.0   \n...                  ...           ...      ...   \n545692               0.0           0.0      0.0   \n545704               0.0           0.0      1.0   \n545705               0.0           0.0      1.0   \n545706               0.0           0.0      1.0   \n545707               0.0           0.0      2.0   \n\n        Variable Geometry Turbocharger  Vehicle Identification Number  \\\n6490                               0.0                            0.0   \n6491                               0.0                            0.0   \n6492                               0.0                            0.0   \n6493                               0.0                            0.0   \n6494                               0.0                            0.0   \n...                                ...                            ...   \n545692                             0.0                            0.0   \n545704                             0.0                            0.0   \n545705                             0.0                            0.0   \n545706                             0.0                            0.0   \n545707                             0.0                            0.0   \n\n        Wheel-Based Vehicle Speed  \n6490                          0.0  \n6491                          0.0  \n6492                          0.0  \n6493                          0.0  \n6494                          0.0  \n...                           ...  \n545692                        0.0  \n545704                        0.0  \n545705                        0.0  \n545706                        0.0  \n545707                        0.0  \n\n[197700 rows x 57 columns]",
      "text/html": "<div>\n<style scoped>\n    .dataframe tbody tr th:only-of-type {\n        vertical-align: middle;\n    }\n\n    .dataframe tbody tr th {\n        vertical-align: top;\n    }\n\n    .dataframe thead th {\n        text-align: right;\n    }\n</style>\n<table border=\"1\" class=\"dataframe\">\n  <thead>\n    <tr style=\"text-align: right;\">\n      <th></th>\n      <th>EquipmentID</th>\n      <th>spn</th>\n      <th>Aftertreatment System</th>\n      <th>Ambient Air Temperature</th>\n      <th>Anti-Lock Braking (ABS) Controller</th>\n      <th>Auxiliary Input/Output</th>\n      <th>Auxiliary Temperature Sensor Input Circuit</th>\n      <th>Barometric Pressure Sensor</th>\n      <th>Battery</th>\n      <th>Crankcase</th>\n      <th>...</th>\n      <th>Sensor Supply</th>\n      <th>Steering Wheel Angle Sensor</th>\n      <th>Total Vehicle Distance</th>\n      <th>Transmission Communications Failure Idle Torque Limit</th>\n      <th>Transmission Oil</th>\n      <th>Turbocharger</th>\n      <th>Unknown</th>\n      <th>Variable Geometry Turbocharger</th>\n      <th>Vehicle Identification Number</th>\n      <th>Wheel-Based Vehicle Speed</th>\n    </tr>\n  </thead>\n  <tbody>\n    <tr>\n      <th>6490</th>\n      <td>306</td>\n      <td>596</td>\n      <td>0.0</td>\n      <td>0.0</td>\n      <td>0.0</td>\n      <td>0.0</td>\n      <td>0.0</td>\n      <td>0.0</td>\n      <td>0.0</td>\n      <td>0.0</td>\n      <td>...</td>\n      <td>0.0</td>\n      <td>0.0</td>\n      <td>0.0</td>\n      <td>0.0</td>\n      <td>0.0</td>\n      <td>0.0</td>\n      <td>1.0</td>\n      <td>0.0</td>\n      <td>0.0</td>\n      <td>0.0</td>\n    </tr>\n    <tr>\n      <th>6491</th>\n      <td>306</td>\n      <td>596</td>\n      <td>0.0</td>\n      <td>0.0</td>\n      <td>0.0</td>\n      <td>0.0</td>\n      <td>0.0</td>\n      <td>0.0</td>\n      <td>0.0</td>\n      <td>0.0</td>\n      <td>...</td>\n      <td>0.0</td>\n      <td>0.0</td>\n      <td>0.0</td>\n      <td>0.0</td>\n      <td>0.0</td>\n      <td>0.0</td>\n      <td>1.0</td>\n      <td>0.0</td>\n      <td>0.0</td>\n      <td>0.0</td>\n    </tr>\n    <tr>\n      <th>6492</th>\n      <td>306</td>\n      <td>596</td>\n      <td>0.0</td>\n      <td>0.0</td>\n      <td>0.0</td>\n      <td>0.0</td>\n      <td>0.0</td>\n      <td>0.0</td>\n      <td>0.0</td>\n      <td>0.0</td>\n      <td>...</td>\n      <td>0.0</td>\n      <td>0.0</td>\n      <td>0.0</td>\n      <td>0.0</td>\n      <td>0.0</td>\n      <td>0.0</td>\n      <td>2.0</td>\n      <td>0.0</td>\n      <td>0.0</td>\n      <td>0.0</td>\n    </tr>\n    <tr>\n      <th>6493</th>\n      <td>306</td>\n      <td>596</td>\n      <td>0.0</td>\n      <td>0.0</td>\n      <td>0.0</td>\n      <td>0.0</td>\n      <td>0.0</td>\n      <td>0.0</td>\n      <td>0.0</td>\n      <td>0.0</td>\n      <td>...</td>\n      <td>0.0</td>\n      <td>0.0</td>\n      <td>0.0</td>\n      <td>0.0</td>\n      <td>0.0</td>\n      <td>0.0</td>\n      <td>0.0</td>\n      <td>0.0</td>\n      <td>0.0</td>\n      <td>0.0</td>\n    </tr>\n    <tr>\n      <th>6494</th>\n      <td>306</td>\n      <td>596</td>\n      <td>0.0</td>\n      <td>0.0</td>\n      <td>0.0</td>\n      <td>0.0</td>\n      <td>0.0</td>\n      <td>0.0</td>\n      <td>0.0</td>\n      <td>0.0</td>\n      <td>...</td>\n      <td>0.0</td>\n      <td>0.0</td>\n      <td>0.0</td>\n      <td>0.0</td>\n      <td>0.0</td>\n      <td>0.0</td>\n      <td>1.0</td>\n      <td>0.0</td>\n      <td>0.0</td>\n      <td>0.0</td>\n    </tr>\n    <tr>\n      <th>...</th>\n      <td>...</td>\n      <td>...</td>\n      <td>...</td>\n      <td>...</td>\n      <td>...</td>\n      <td>...</td>\n      <td>...</td>\n      <td>...</td>\n      <td>...</td>\n      <td>...</td>\n      <td>...</td>\n      <td>...</td>\n      <td>...</td>\n      <td>...</td>\n      <td>...</td>\n      <td>...</td>\n      <td>...</td>\n      <td>...</td>\n      <td>...</td>\n      <td>...</td>\n      <td>...</td>\n    </tr>\n    <tr>\n      <th>545692</th>\n      <td>2371</td>\n      <td>111</td>\n      <td>0.0</td>\n      <td>0.0</td>\n      <td>0.0</td>\n      <td>0.0</td>\n      <td>0.0</td>\n      <td>0.0</td>\n      <td>0.0</td>\n      <td>0.0</td>\n      <td>...</td>\n      <td>0.0</td>\n      <td>0.0</td>\n      <td>0.0</td>\n      <td>0.0</td>\n      <td>0.0</td>\n      <td>0.0</td>\n      <td>0.0</td>\n      <td>0.0</td>\n      <td>0.0</td>\n      <td>0.0</td>\n    </tr>\n    <tr>\n      <th>545704</th>\n      <td>2375</td>\n      <td>37</td>\n      <td>0.0</td>\n      <td>0.0</td>\n      <td>0.0</td>\n      <td>0.0</td>\n      <td>0.0</td>\n      <td>0.0</td>\n      <td>0.0</td>\n      <td>0.0</td>\n      <td>...</td>\n      <td>0.0</td>\n      <td>0.0</td>\n      <td>0.0</td>\n      <td>0.0</td>\n      <td>0.0</td>\n      <td>0.0</td>\n      <td>1.0</td>\n      <td>0.0</td>\n      <td>0.0</td>\n      <td>0.0</td>\n    </tr>\n    <tr>\n      <th>545705</th>\n      <td>2375</td>\n      <td>2863</td>\n      <td>0.0</td>\n      <td>0.0</td>\n      <td>0.0</td>\n      <td>0.0</td>\n      <td>0.0</td>\n      <td>0.0</td>\n      <td>0.0</td>\n      <td>0.0</td>\n      <td>...</td>\n      <td>0.0</td>\n      <td>0.0</td>\n      <td>0.0</td>\n      <td>0.0</td>\n      <td>0.0</td>\n      <td>0.0</td>\n      <td>1.0</td>\n      <td>0.0</td>\n      <td>0.0</td>\n      <td>0.0</td>\n    </tr>\n    <tr>\n      <th>545706</th>\n      <td>2375</td>\n      <td>2863</td>\n      <td>0.0</td>\n      <td>0.0</td>\n      <td>0.0</td>\n      <td>0.0</td>\n      <td>0.0</td>\n      <td>0.0</td>\n      <td>0.0</td>\n      <td>0.0</td>\n      <td>...</td>\n      <td>0.0</td>\n      <td>0.0</td>\n      <td>0.0</td>\n      <td>0.0</td>\n      <td>0.0</td>\n      <td>0.0</td>\n      <td>1.0</td>\n      <td>0.0</td>\n      <td>0.0</td>\n      <td>0.0</td>\n    </tr>\n    <tr>\n      <th>545707</th>\n      <td>2375</td>\n      <td>37</td>\n      <td>0.0</td>\n      <td>0.0</td>\n      <td>0.0</td>\n      <td>0.0</td>\n      <td>0.0</td>\n      <td>0.0</td>\n      <td>0.0</td>\n      <td>0.0</td>\n      <td>...</td>\n      <td>0.0</td>\n      <td>0.0</td>\n      <td>0.0</td>\n      <td>0.0</td>\n      <td>0.0</td>\n      <td>0.0</td>\n      <td>2.0</td>\n      <td>0.0</td>\n      <td>0.0</td>\n      <td>0.0</td>\n    </tr>\n  </tbody>\n</table>\n<p>197700 rows × 57 columns</p>\n</div>"
     },
     "execution_count": 38,
     "metadata": {},
     "output_type": "execute_result"
    }
   ],
   "source": [
    "#created training dataframe\n",
    "df_training = final_df[final_df['modeling']=='training']\n",
    "df_training = df_training.drop(columns=['modeling', 'random'])\n",
    "df_training"
   ],
   "metadata": {
    "collapsed": false,
    "pycharm": {
     "name": "#%%\n"
    }
   }
  },
  {
   "cell_type": "code",
   "execution_count": 39,
   "outputs": [
    {
     "data": {
      "text/plain": "(397175, 57)"
     },
     "execution_count": 39,
     "metadata": {},
     "output_type": "execute_result"
    }
   ],
   "source": [
    "#create dataframe of both training and testing to have large test dataset for testing.\n",
    "#With size of dataset, probably can just keep it confined to modeling == 'testing'\n",
    "df_train_test = final_df[final_df['modeling']!='validation']\n",
    "df_train_test = df_train_test.drop(columns=['modeling', 'random'])\n",
    "df_train_test.shape"
   ],
   "metadata": {
    "collapsed": false,
    "pycharm": {
     "name": "#%%\n"
    }
   }
  },
  {
   "cell_type": "code",
   "execution_count": 40,
   "outputs": [],
   "source": [
    "#final dataframe without modeling or random column for final predictions\n",
    "df_total = final_df.drop(columns=['modeling', 'random'])"
   ],
   "metadata": {
    "collapsed": false,
    "pycharm": {
     "name": "#%%\n"
    }
   }
  },
  {
   "cell_type": "code",
   "execution_count": 41,
   "outputs": [],
   "source": [
    "#setting up for model testing with training dataset. Realized here about how may need to adjust target variable\n",
    "#to implement oversampling\n",
    "features = df_total.iloc[:,2:].columns.tolist()\n",
    "\n",
    "target =['spn']\n",
    "\n",
    "X_train = df_training[features]\n",
    "y_train = df_training[target]"
   ],
   "metadata": {
    "collapsed": false,
    "pycharm": {
     "name": "#%%\n"
    }
   }
  },
  {
   "cell_type": "code",
   "execution_count": 42,
   "outputs": [],
   "source": [
    "from sklearn.linear_model import LogisticRegression\n",
    "\n",
    "logreg = LogisticRegression()"
   ],
   "metadata": {
    "collapsed": false,
    "pycharm": {
     "name": "#%%\n"
    }
   }
  },
  {
   "cell_type": "code",
   "execution_count": 43,
   "outputs": [
    {
     "name": "stderr",
     "output_type": "stream",
     "text": [
      "/Users/bryanfinlayson/.pyenv/versions/3.9.2/lib/python3.9/site-packages/sklearn/utils/validation.py:993: DataConversionWarning: A column-vector y was passed when a 1d array was expected. Please change the shape of y to (n_samples, ), for example using ravel().\n",
      "  y = column_or_1d(y, warn=True)\n",
      "/Users/bryanfinlayson/.pyenv/versions/3.9.2/lib/python3.9/site-packages/sklearn/linear_model/_logistic.py:814: ConvergenceWarning: lbfgs failed to converge (status=1):\n",
      "STOP: TOTAL NO. of ITERATIONS REACHED LIMIT.\n",
      "\n",
      "Increase the number of iterations (max_iter) or scale the data as shown in:\n",
      "    https://scikit-learn.org/stable/modules/preprocessing.html\n",
      "Please also refer to the documentation for alternative solver options:\n",
      "    https://scikit-learn.org/stable/modules/linear_model.html#logistic-regression\n",
      "  n_iter_i = _check_optimize_result(\n"
     ]
    },
    {
     "data": {
      "text/plain": "LogisticRegression()"
     },
     "execution_count": 43,
     "metadata": {},
     "output_type": "execute_result"
    }
   ],
   "source": [
    "logreg.fit(X_train, y_train)"
   ],
   "metadata": {
    "collapsed": false,
    "pycharm": {
     "name": "#%%\n"
    }
   }
  },
  {
   "cell_type": "code",
   "execution_count": 44,
   "outputs": [],
   "source": [
    "df_test = final_df[final_df['modeling']=='testing']\n",
    "df_test = df_test.drop(columns=['modeling','random'])\n",
    "X_test = df_test[features]\n",
    "y_test = df_test[target]"
   ],
   "metadata": {
    "collapsed": false,
    "pycharm": {
     "name": "#%%\n"
    }
   }
  },
  {
   "cell_type": "code",
   "execution_count": 45,
   "outputs": [
    {
     "name": "stdout",
     "output_type": "stream",
     "text": [
      "0.6139616493294899\n",
      "0.5196129765371617\n"
     ]
    }
   ],
   "source": [
    "from sklearn.metrics import accuracy_score, f1_score\n",
    "\n",
    "y_pred = logreg.predict(X_test)\n",
    "\n",
    "print(accuracy_score(y_test,y_pred))\n",
    "print(f1_score(y_test, y_pred, average = 'weighted'))"
   ],
   "metadata": {
    "collapsed": false,
    "pycharm": {
     "name": "#%%\n"
    }
   }
  },
  {
   "cell_type": "code",
   "execution_count": 47,
   "outputs": [
    {
     "name": "stderr",
     "output_type": "stream",
     "text": [
      "/var/folders/kb/3pjtmdb110z0myp6wf86bq0h0000gn/T/ipykernel_35793/2504461268.py:4: DataConversionWarning: A column-vector y was passed when a 1d array was expected. Please change the shape of y to (n_samples,), for example using ravel().\n",
      "  rf.fit(X_train, y_train)\n"
     ]
    },
    {
     "name": "stdout",
     "output_type": "stream",
     "text": [
      "0.6375786439403434\n",
      "0.6104621821561477\n"
     ]
    }
   ],
   "source": [
    "from sklearn.ensemble import RandomForestClassifier\n",
    "\n",
    "rf = RandomForestClassifier()\n",
    "rf.fit(X_train, y_train)\n",
    "y_pred = rf.predict(X_test)\n",
    "\n",
    "print(accuracy_score(y_test,y_pred))\n",
    "print(f1_score(y_test, y_pred, average = 'weighted'))"
   ],
   "metadata": {
    "collapsed": false,
    "pycharm": {
     "name": "#%%\n"
    }
   }
  },
  {
   "cell_type": "code",
   "execution_count": 48,
   "outputs": [
    {
     "name": "stdout",
     "output_type": "stream",
     "text": [
      "0.5672690813385136\n",
      "0.5656826423505755\n"
     ]
    }
   ],
   "source": [
    "from sklearn.tree import DecisionTreeClassifier\n",
    "\n",
    "dt = DecisionTreeClassifier()\n",
    "dt.fit(X_train, y_train)\n",
    "y_pred = dt.predict(X_test)\n",
    "\n",
    "print(accuracy_score(y_test,y_pred))\n",
    "print(f1_score(y_test, y_pred, average = 'weighted'))"
   ],
   "metadata": {
    "collapsed": false,
    "pycharm": {
     "name": "#%%\n"
    }
   }
  }
 ],
 "metadata": {
  "kernelspec": {
   "display_name": "Python 3",
   "language": "python",
   "name": "python3"
  },
  "language_info": {
   "codemirror_mode": {
    "name": "ipython",
    "version": 2
   },
   "file_extension": ".py",
   "mimetype": "text/x-python",
   "name": "python",
   "nbconvert_exporter": "python",
   "pygments_lexer": "ipython2",
   "version": "2.7.6"
  }
 },
 "nbformat": 4,
 "nbformat_minor": 0
}