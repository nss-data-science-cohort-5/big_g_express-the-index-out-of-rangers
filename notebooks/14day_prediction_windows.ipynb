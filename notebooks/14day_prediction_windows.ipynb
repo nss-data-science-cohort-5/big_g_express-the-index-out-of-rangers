{
 "cells": [
  {
   "cell_type": "code",
   "execution_count": 4,
   "id": "e3f54d29",
   "metadata": {},
   "outputs": [],
   "source": [
    "import pandas as pd\n",
    "import numpy as np\n",
    "import matplotlib.pyplot as plt\n",
    "import seaborn as sns\n",
    "from imblearn.over_sampling import SMOTE\n",
    "from imblearn.under_sampling import RandomUnderSampler\n",
    "from sklearn.linear_model import LogisticRegression\n",
    "from sklearn.metrics import accuracy_score, confusion_matrix, classification_report, f1_score"
   ]
  },
  {
   "cell_type": "code",
   "execution_count": 5,
   "id": "abc1795a",
   "metadata": {},
   "outputs": [],
   "source": [
    "# Set view options\n",
    "pd.set_option('display.max_rows', 500)\n",
    "pd.set_option('display.max_columns', 500)"
   ]
  },
  {
   "cell_type": "code",
   "execution_count": 6,
   "id": "b190b408",
   "metadata": {
    "scrolled": false
   },
   "outputs": [
    {
     "name": "stderr",
     "output_type": "stream",
     "text": [
      "C:\\Users\\Conrad\\AppData\\Local\\Temp\\ipykernel_12376\\3238792575.py:1: DtypeWarning: Columns (3,4,5,7,8,10,11,12,13,14,15,16,17,19,21,22,23,24,25) have mixed types. Specify dtype option on import or set low_memory=False.\n",
      "  obs_14 = pd.read_csv(\"../data/obs_windows/observation_14D_prediction_24H_48H_72H.csv\")\n"
     ]
    }
   ],
   "source": [
    "obs_14 = pd.read_csv(\"../data/obs_windows/observation_14D_prediction_24H_48H_72H.csv\")"
   ]
  },
  {
   "cell_type": "markdown",
   "id": "d39f1ee4",
   "metadata": {},
   "source": [
    "### 14d observation window with 24hr prediction window"
   ]
  },
  {
   "cell_type": "code",
   "execution_count": 10,
   "id": "65035957",
   "metadata": {
    "scrolled": true
   },
   "outputs": [],
   "source": [
    "obs_14_24 = obs_14.drop(obs_14.loc[:, 'spn':'full_derate_within_24hr'], axis=1).drop(obs_14.loc[:, 'partial_derate_within_48hr':'derate_within_48hr'], axis=1).drop(columns='EventTimeStamp')"
   ]
  },
  {
   "cell_type": "code",
   "execution_count": 11,
   "id": "981642a6",
   "metadata": {},
   "outputs": [
    {
     "data": {
      "text/plain": [
       "1025"
      ]
     },
     "execution_count": 11,
     "metadata": {},
     "output_type": "execute_result"
    }
   ],
   "source": [
    "eq_ids = obs_14_24.drop_duplicates(subset='EquipmentID')\n",
    "eq_ids = eq_ids[['EquipmentID']]\n",
    "eq_ids.shape[0]"
   ]
  },
  {
   "cell_type": "code",
   "execution_count": 12,
   "id": "f36697fc",
   "metadata": {
    "scrolled": true
   },
   "outputs": [],
   "source": [
    "np.random.seed(321)\n",
    "\n",
    "eq_ids['random'] = (np.random.randint(0, 10000, eq_ids.shape[0]))/10000"
   ]
  },
  {
   "cell_type": "code",
   "execution_count": 13,
   "id": "07a121b7",
   "metadata": {},
   "outputs": [],
   "source": [
    "#create column 'modeling' labeling ~35% of the data for training, ~30% for validation, and ~35% for testing \n",
    "eq_ids['modeling'] = np.where(((eq_ids.random <= 0.35)), 'training', np.where(((eq_ids.random <= 0.65)), 'validation', 'testing'))"
   ]
  },
  {
   "cell_type": "code",
   "execution_count": 14,
   "id": "f3da264e",
   "metadata": {},
   "outputs": [],
   "source": [
    "#merge modeling column onto original dataframe\n",
    "obs_14_24 = obs_14_24.sort_values(by='EquipmentID')\n",
    "eq_ids = eq_ids.sort_values(by='EquipmentID')\n",
    "\n",
    "obs_14_24 = obs_14_24.merge(eq_ids, on='EquipmentID')\n",
    "obs_14_24 = obs_14_24.drop(columns='EquipmentID')"
   ]
  },
  {
   "cell_type": "code",
   "execution_count": 15,
   "id": "98ddd7dc",
   "metadata": {},
   "outputs": [
    {
     "name": "stdout",
     "output_type": "stream",
     "text": [
      "(196491, 56)\n",
      "(197933, 56)\n",
      "(147401, 56)\n"
     ]
    }
   ],
   "source": [
    "#creating training, testing, and validation dfs\n",
    "obs_14_24_training = obs_14_24[obs_14_24['modeling']=='training']\n",
    "obs_14_24_training = obs_14_24_training.drop(columns=['modeling', 'random'])\n",
    "print(obs_14_24_training.shape)\n",
    "\n",
    "obs_14_24_test = obs_14_24[obs_14_24['modeling']=='testing']\n",
    "obs_14_24_test = obs_14_24_test.drop(columns=['modeling', 'random'])\n",
    "print(obs_14_24_test.shape)\n",
    "\n",
    "obs_14_24_validation = obs_14_24[obs_14_24['modeling']=='validation']\n",
    "obs_14_24_validation = obs_14_24_validation.drop(columns=['modeling', 'random'])\n",
    "print(obs_14_24_validation.shape)"
   ]
  },
  {
   "cell_type": "code",
   "execution_count": 16,
   "id": "25de4383",
   "metadata": {},
   "outputs": [],
   "source": [
    "df_sampling = obs_14_24_training\n",
    "df_sampling_non_tenth = df_sampling[df_sampling['derate_within_24hr'] == 0][0:18855]"
   ]
  },
  {
   "cell_type": "code",
   "execution_count": 17,
   "id": "4672f915",
   "metadata": {},
   "outputs": [],
   "source": [
    "df_sampling_derate_tenth = pd.concat([df_sampling[df_sampling['derate_within_24hr']==1], df_sampling_non_tenth])"
   ]
  },
  {
   "cell_type": "code",
   "execution_count": 18,
   "id": "4a3b0f75",
   "metadata": {},
   "outputs": [],
   "source": [
    "oversampler = SMOTE(k_neighbors=5, random_state=321)\n",
    "\n",
    "features = df_sampling_derate_tenth.loc[:, 'Aftertreatment System':].columns.tolist()\n",
    "\n",
    "target = ['derate_within_24hr']\n",
    "\n",
    "X_train = df_sampling_derate_tenth[features]\n",
    "y_train = df_sampling_derate_tenth[target]"
   ]
  },
  {
   "cell_type": "code",
   "execution_count": 19,
   "id": "c2fb8168",
   "metadata": {},
   "outputs": [],
   "source": [
    "X_smote, y_smote = oversampler.fit_resample(X_train, y_train)"
   ]
  },
  {
   "cell_type": "code",
   "execution_count": 20,
   "id": "8398fa26",
   "metadata": {},
   "outputs": [
    {
     "data": {
      "text/plain": [
       "(18855, 56)"
      ]
     },
     "execution_count": 20,
     "metadata": {},
     "output_type": "execute_result"
    }
   ],
   "source": [
    "smote_all = pd.concat([y_smote, X_smote], axis=1)\n",
    "smote_derate = smote_all[smote_all['derate_within_24hr']==1]\n",
    "smote_derate.shape"
   ]
  },
  {
   "cell_type": "code",
   "execution_count": 21,
   "id": "d27fbd8f",
   "metadata": {},
   "outputs": [
    {
     "data": {
      "text/plain": [
       "(210829, 56)"
      ]
     },
     "execution_count": 21,
     "metadata": {},
     "output_type": "execute_result"
    }
   ],
   "source": [
    "und_samp = pd.concat([smote_derate, df_sampling[df_sampling['derate_within_24hr']==0]])\n",
    "und_samp.shape"
   ]
  },
  {
   "cell_type": "code",
   "execution_count": 22,
   "id": "d9048449",
   "metadata": {},
   "outputs": [],
   "source": [
    "undersampler = RandomUnderSampler(random_state=321, sampling_strategy=1/2)\n",
    "\n",
    "features = und_samp.loc[:, 'Aftertreatment System':].columns.tolist()\n",
    "\n",
    "target =['derate_within_24hr']\n",
    "\n",
    "X_train_final = und_samp[features]\n",
    "y_train_final = und_samp[target]"
   ]
  },
  {
   "cell_type": "code",
   "execution_count": 23,
   "id": "f434ed51",
   "metadata": {},
   "outputs": [],
   "source": [
    "X_resampled, y_resampled = undersampler.fit_resample(X_train_final, y_train_final)"
   ]
  },
  {
   "cell_type": "code",
   "execution_count": 24,
   "id": "9495117f",
   "metadata": {
    "scrolled": true
   },
   "outputs": [
    {
     "name": "stdout",
     "output_type": "stream",
     "text": [
      "(56565, 1)\n"
     ]
    }
   ],
   "source": [
    "print(y_resampled.shape)"
   ]
  },
  {
   "cell_type": "code",
   "execution_count": 25,
   "id": "e54d08c3",
   "metadata": {},
   "outputs": [],
   "source": [
    "logistic = LogisticRegression()"
   ]
  },
  {
   "cell_type": "code",
   "execution_count": 26,
   "id": "bfe3be66",
   "metadata": {},
   "outputs": [
    {
     "name": "stderr",
     "output_type": "stream",
     "text": [
      "C:\\Users\\Conrad\\anaconda3\\envs\\p310\\lib\\site-packages\\sklearn\\utils\\validation.py:993: DataConversionWarning: A column-vector y was passed when a 1d array was expected. Please change the shape of y to (n_samples, ), for example using ravel().\n",
      "  y = column_or_1d(y, warn=True)\n",
      "C:\\Users\\Conrad\\anaconda3\\envs\\p310\\lib\\site-packages\\sklearn\\linear_model\\_logistic.py:814: ConvergenceWarning: lbfgs failed to converge (status=1):\n",
      "STOP: TOTAL NO. of ITERATIONS REACHED LIMIT.\n",
      "\n",
      "Increase the number of iterations (max_iter) or scale the data as shown in:\n",
      "    https://scikit-learn.org/stable/modules/preprocessing.html\n",
      "Please also refer to the documentation for alternative solver options:\n",
      "    https://scikit-learn.org/stable/modules/linear_model.html#logistic-regression\n",
      "  n_iter_i = _check_optimize_result(\n"
     ]
    }
   ],
   "source": [
    "logreg = logistic.fit(X_resampled, y_resampled)"
   ]
  },
  {
   "cell_type": "code",
   "execution_count": 27,
   "id": "0933b351",
   "metadata": {},
   "outputs": [],
   "source": [
    "X_test = obs_14_24_test[features]\n",
    "y_test = obs_14_24_test[target]"
   ]
  },
  {
   "cell_type": "code",
   "execution_count": 28,
   "id": "b956e02e",
   "metadata": {},
   "outputs": [
    {
     "name": "stdout",
     "output_type": "stream",
     "text": [
      "0.9572683685893711\n",
      "0.9646494635524268\n"
     ]
    }
   ],
   "source": [
    "y_pred = logreg.predict(X_test)\n",
    "\n",
    "print(accuracy_score(y_test,y_pred))\n",
    "print(f1_score(y_test, y_pred, average = 'weighted'))"
   ]
  },
  {
   "cell_type": "markdown",
   "id": "a2b29834",
   "metadata": {},
   "source": [
    "### 14d observation window with 48hr prediction window"
   ]
  },
  {
   "cell_type": "code",
   "execution_count": 30,
   "id": "3e7ea58f",
   "metadata": {
    "scrolled": true
   },
   "outputs": [],
   "source": [
    "obs_14_48 = obs_14.drop(obs_14.loc[:, 'spn':'full_derate_within_48hr'], axis=1).drop(columns='EventTimeStamp')"
   ]
  },
  {
   "cell_type": "code",
   "execution_count": 31,
   "id": "3a4cce6e",
   "metadata": {},
   "outputs": [
    {
     "data": {
      "text/plain": [
       "1025"
      ]
     },
     "execution_count": 31,
     "metadata": {},
     "output_type": "execute_result"
    }
   ],
   "source": [
    "eq_ids = obs_14_48.drop_duplicates(subset='EquipmentID')\n",
    "eq_ids = eq_ids[['EquipmentID']]\n",
    "eq_ids.shape[0]"
   ]
  },
  {
   "cell_type": "code",
   "execution_count": 32,
   "id": "3de6f668",
   "metadata": {
    "scrolled": true
   },
   "outputs": [],
   "source": [
    "np.random.seed(321)\n",
    "\n",
    "eq_ids['random'] = (np.random.randint(0, 10000, eq_ids.shape[0]))/10000"
   ]
  },
  {
   "cell_type": "code",
   "execution_count": 33,
   "id": "c714c735",
   "metadata": {},
   "outputs": [],
   "source": [
    "#create column 'modeling' labeling ~35% of the data for training, ~30% for validation, and ~35% for testing \n",
    "eq_ids['modeling'] = np.where(((eq_ids.random <= 0.35)), 'training', np.where(((eq_ids.random <= 0.65)), 'validation', 'testing'))"
   ]
  },
  {
   "cell_type": "code",
   "execution_count": 34,
   "id": "f1311cc8",
   "metadata": {},
   "outputs": [],
   "source": [
    "#merge modeling column onto original dataframe\n",
    "obs_14_48 = obs_14_48.sort_values(by='EquipmentID')\n",
    "eq_ids = eq_ids.sort_values(by='EquipmentID')\n",
    "\n",
    "obs_14_48 = obs_14_48.merge(eq_ids, on='EquipmentID')\n",
    "obs_14_48 = obs_14_48.drop(columns='EquipmentID')"
   ]
  },
  {
   "cell_type": "code",
   "execution_count": 35,
   "id": "c7653cf6",
   "metadata": {},
   "outputs": [
    {
     "name": "stdout",
     "output_type": "stream",
     "text": [
      "(196491, 56)\n",
      "(197933, 56)\n",
      "(147401, 56)\n"
     ]
    }
   ],
   "source": [
    "#creating training, testing, and validation dfs\n",
    "obs_14_48_training = obs_14_48[obs_14_48['modeling']=='training']\n",
    "obs_14_48_training = obs_14_48_training.drop(columns=['modeling', 'random'])\n",
    "print(obs_14_48_training.shape)\n",
    "\n",
    "obs_14_48_test = obs_14_48[obs_14_48['modeling']=='testing']\n",
    "obs_14_48_test = obs_14_48_test.drop(columns=['modeling', 'random'])\n",
    "print(obs_14_48_test.shape)\n",
    "\n",
    "obs_14_48_validation = obs_14_48[obs_14_48['modeling']=='validation']\n",
    "obs_14_48_validation = obs_14_48_validation.drop(columns=['modeling', 'random'])\n",
    "print(obs_14_48_validation.shape)"
   ]
  },
  {
   "cell_type": "code",
   "execution_count": 36,
   "id": "ca86f873",
   "metadata": {},
   "outputs": [],
   "source": [
    "df_sampling = obs_14_48_training\n",
    "df_sampling_non_tenth = df_sampling[df_sampling['derate_within_48hr'] == 0][0:18855]"
   ]
  },
  {
   "cell_type": "code",
   "execution_count": 37,
   "id": "211d797c",
   "metadata": {},
   "outputs": [],
   "source": [
    "df_sampling_derate_tenth = pd.concat([df_sampling[df_sampling['derate_within_48hr']==1], df_sampling_non_tenth])"
   ]
  },
  {
   "cell_type": "code",
   "execution_count": 38,
   "id": "c0878fcf",
   "metadata": {},
   "outputs": [],
   "source": [
    "oversampler = SMOTE(k_neighbors=5, random_state=321)\n",
    "\n",
    "features = df_sampling_derate_tenth.loc[:, 'Aftertreatment System':].columns.tolist()\n",
    "\n",
    "target = ['derate_within_48hr']\n",
    "\n",
    "X_train = df_sampling_derate_tenth[features]\n",
    "y_train = df_sampling_derate_tenth[target]"
   ]
  },
  {
   "cell_type": "code",
   "execution_count": 39,
   "id": "ed0fc266",
   "metadata": {},
   "outputs": [],
   "source": [
    "X_smote, y_smote = oversampler.fit_resample(X_train, y_train)"
   ]
  },
  {
   "cell_type": "code",
   "execution_count": 40,
   "id": "ab3f862d",
   "metadata": {},
   "outputs": [
    {
     "data": {
      "text/plain": [
       "(18855, 56)"
      ]
     },
     "execution_count": 40,
     "metadata": {},
     "output_type": "execute_result"
    }
   ],
   "source": [
    "smote_all = pd.concat([y_smote, X_smote], axis=1)\n",
    "smote_derate = smote_all[smote_all['derate_within_48hr']==1]\n",
    "smote_derate.shape"
   ]
  },
  {
   "cell_type": "code",
   "execution_count": 41,
   "id": "7e52b3fd",
   "metadata": {},
   "outputs": [
    {
     "data": {
      "text/plain": [
       "(209962, 56)"
      ]
     },
     "execution_count": 41,
     "metadata": {},
     "output_type": "execute_result"
    }
   ],
   "source": [
    "und_samp = pd.concat([smote_derate, df_sampling[df_sampling['derate_within_48hr']==0]])\n",
    "und_samp.shape"
   ]
  },
  {
   "cell_type": "code",
   "execution_count": 42,
   "id": "0429ddf7",
   "metadata": {},
   "outputs": [],
   "source": [
    "undersampler = RandomUnderSampler(random_state=321, sampling_strategy=1/2)\n",
    "\n",
    "features = und_samp.loc[:, 'Aftertreatment System':].columns.tolist()\n",
    "\n",
    "target =['derate_within_48hr']\n",
    "\n",
    "X_train_final = und_samp[features]\n",
    "y_train_final = und_samp[target]"
   ]
  },
  {
   "cell_type": "code",
   "execution_count": 43,
   "id": "bdc607ca",
   "metadata": {},
   "outputs": [],
   "source": [
    "X_resampled, y_resampled = undersampler.fit_resample(X_train_final, y_train_final)"
   ]
  },
  {
   "cell_type": "code",
   "execution_count": 44,
   "id": "fd91ca95",
   "metadata": {
    "scrolled": true
   },
   "outputs": [
    {
     "name": "stdout",
     "output_type": "stream",
     "text": [
      "(56565, 1)\n"
     ]
    }
   ],
   "source": [
    "print(y_resampled.shape)"
   ]
  },
  {
   "cell_type": "code",
   "execution_count": 45,
   "id": "2ac337c4",
   "metadata": {},
   "outputs": [],
   "source": [
    "logistic = LogisticRegression()"
   ]
  },
  {
   "cell_type": "code",
   "execution_count": 46,
   "id": "51b5fdbd",
   "metadata": {
    "scrolled": true
   },
   "outputs": [
    {
     "name": "stderr",
     "output_type": "stream",
     "text": [
      "C:\\Users\\Conrad\\anaconda3\\envs\\p310\\lib\\site-packages\\sklearn\\utils\\validation.py:993: DataConversionWarning: A column-vector y was passed when a 1d array was expected. Please change the shape of y to (n_samples, ), for example using ravel().\n",
      "  y = column_or_1d(y, warn=True)\n",
      "C:\\Users\\Conrad\\anaconda3\\envs\\p310\\lib\\site-packages\\sklearn\\linear_model\\_logistic.py:814: ConvergenceWarning: lbfgs failed to converge (status=1):\n",
      "STOP: TOTAL NO. of ITERATIONS REACHED LIMIT.\n",
      "\n",
      "Increase the number of iterations (max_iter) or scale the data as shown in:\n",
      "    https://scikit-learn.org/stable/modules/preprocessing.html\n",
      "Please also refer to the documentation for alternative solver options:\n",
      "    https://scikit-learn.org/stable/modules/linear_model.html#logistic-regression\n",
      "  n_iter_i = _check_optimize_result(\n"
     ]
    }
   ],
   "source": [
    "logreg = logistic.fit(X_resampled, y_resampled)"
   ]
  },
  {
   "cell_type": "code",
   "execution_count": 47,
   "id": "16bbb8f2",
   "metadata": {},
   "outputs": [],
   "source": [
    "X_test = obs_14_48_test[features]\n",
    "y_test = obs_14_48_test[target]"
   ]
  },
  {
   "cell_type": "code",
   "execution_count": 48,
   "id": "ffc0fe55",
   "metadata": {},
   "outputs": [
    {
     "name": "stdout",
     "output_type": "stream",
     "text": [
      "0.9550858118656314\n",
      "0.9617879667854744\n"
     ]
    }
   ],
   "source": [
    "y_pred = logreg.predict(X_test)\n",
    "\n",
    "print(accuracy_score(y_test,y_pred))\n",
    "print(f1_score(y_test, y_pred, average = 'weighted'))"
   ]
  },
  {
   "cell_type": "markdown",
   "id": "1bc57d71",
   "metadata": {},
   "source": [
    "### 7d observation window with 72hr prediction window"
   ]
  },
  {
   "cell_type": "code",
   "execution_count": 227,
   "id": "c1cf81d7",
   "metadata": {
    "scrolled": true
   },
   "outputs": [],
   "source": [
    "obs_7_72 = obs_7.drop(obs_7.loc[:, 'spn':'full_derate_within_72hr'], axis=1).drop(columns='EventTimeStamp')"
   ]
  },
  {
   "cell_type": "code",
   "execution_count": 228,
   "id": "26b7d52d",
   "metadata": {},
   "outputs": [
    {
     "data": {
      "text/plain": [
       "1017"
      ]
     },
     "execution_count": 228,
     "metadata": {},
     "output_type": "execute_result"
    }
   ],
   "source": [
    "eq_ids = obs_7_72.drop_duplicates(subset='EquipmentID')\n",
    "eq_ids = eq_ids[['EquipmentID']]\n",
    "eq_ids.shape[0]"
   ]
  },
  {
   "cell_type": "code",
   "execution_count": 229,
   "id": "60ee5222",
   "metadata": {
    "scrolled": true
   },
   "outputs": [],
   "source": [
    "np.random.seed(321)\n",
    "\n",
    "eq_ids['random'] = (np.random.randint(0, 10000, eq_ids.shape[0]))/10000"
   ]
  },
  {
   "cell_type": "code",
   "execution_count": 230,
   "id": "61baa910",
   "metadata": {},
   "outputs": [],
   "source": [
    "#create column 'modeling' labeling ~35% of the data for training, ~30% for validation, and ~35% for testing \n",
    "eq_ids['modeling'] = np.where(((eq_ids.random <= 0.35)), 'training', np.where(((eq_ids.random <= 0.65)), 'validation', 'testing'))"
   ]
  },
  {
   "cell_type": "code",
   "execution_count": 231,
   "id": "3848bfe4",
   "metadata": {},
   "outputs": [],
   "source": [
    "#merge modeling column onto original dataframe\n",
    "obs_7_72 = obs_7_72.sort_values(by='EquipmentID')\n",
    "eq_ids = eq_ids.sort_values(by='EquipmentID')\n",
    "\n",
    "obs_7_72 = obs_7_72.merge(eq_ids, on='EquipmentID')\n",
    "obs_7_72 = obs_7_72.drop(columns='EquipmentID')"
   ]
  },
  {
   "cell_type": "code",
   "execution_count": 232,
   "id": "265a1371",
   "metadata": {},
   "outputs": [
    {
     "name": "stdout",
     "output_type": "stream",
     "text": [
      "(192999, 56)\n",
      "(194320, 56)\n",
      "(144524, 56)\n"
     ]
    }
   ],
   "source": [
    "#creating training, testing, and validation dfs\n",
    "obs_7_72_training = obs_7_72[obs_7_72['modeling']=='training']\n",
    "obs_7_72_training = obs_7_72_training.drop(columns=['modeling', 'random'])\n",
    "print(obs_7_72_training.shape)\n",
    "\n",
    "obs_7_72_test = obs_7_72[obs_7_72['modeling']=='testing']\n",
    "obs_7_72_test = obs_7_72_test.drop(columns=['modeling', 'random'])\n",
    "print(obs_7_72_test.shape)\n",
    "\n",
    "obs_7_72_validation = obs_7_72[obs_7_72['modeling']=='validation']\n",
    "obs_7_72_validation = obs_7_72_validation.drop(columns=['modeling', 'random'])\n",
    "print(obs_7_72_validation.shape)"
   ]
  },
  {
   "cell_type": "code",
   "execution_count": 233,
   "id": "f300b819",
   "metadata": {},
   "outputs": [],
   "source": [
    "df_sampling = obs_7_72_training\n",
    "df_sampling_non_tenth = df_sampling[df_sampling['derate_within_72hr'] == 0][0:18855]"
   ]
  },
  {
   "cell_type": "code",
   "execution_count": 234,
   "id": "0f5bf103",
   "metadata": {},
   "outputs": [],
   "source": [
    "df_sampling_derate_tenth = pd.concat([df_sampling[df_sampling['derate_within_72hr']==1], df_sampling_non_tenth])"
   ]
  },
  {
   "cell_type": "code",
   "execution_count": 235,
   "id": "5b42363f",
   "metadata": {},
   "outputs": [],
   "source": [
    "oversampler = SMOTE(k_neighbors=5, random_state=321)\n",
    "\n",
    "features = df_sampling_derate_tenth.loc[:, 'Aftertreatment System':].columns.tolist()\n",
    "\n",
    "target = ['derate_within_72hr']\n",
    "\n",
    "X_train = df_sampling_derate_tenth[features]\n",
    "y_train = df_sampling_derate_tenth[target]"
   ]
  },
  {
   "cell_type": "code",
   "execution_count": 236,
   "id": "a0888ee3",
   "metadata": {},
   "outputs": [],
   "source": [
    "X_smote, y_smote = oversampler.fit_resample(X_train, y_train)"
   ]
  },
  {
   "cell_type": "code",
   "execution_count": 237,
   "id": "283286d1",
   "metadata": {},
   "outputs": [
    {
     "data": {
      "text/plain": [
       "(18855, 56)"
      ]
     },
     "execution_count": 237,
     "metadata": {},
     "output_type": "execute_result"
    }
   ],
   "source": [
    "smote_all = pd.concat([y_smote, X_smote], axis=1)\n",
    "smote_derate = smote_all[smote_all['derate_within_72hr']==1]\n",
    "smote_derate.shape"
   ]
  },
  {
   "cell_type": "code",
   "execution_count": 238,
   "id": "7588627b",
   "metadata": {},
   "outputs": [
    {
     "data": {
      "text/plain": [
       "(205872, 56)"
      ]
     },
     "execution_count": 238,
     "metadata": {},
     "output_type": "execute_result"
    }
   ],
   "source": [
    "und_samp = pd.concat([smote_derate, df_sampling[df_sampling['derate_within_72hr']==0]])\n",
    "und_samp.shape"
   ]
  },
  {
   "cell_type": "code",
   "execution_count": 239,
   "id": "ee4dca54",
   "metadata": {},
   "outputs": [],
   "source": [
    "undersampler = RandomUnderSampler(random_state=321, sampling_strategy=1/2)\n",
    "\n",
    "features = und_samp.loc[:, 'Aftertreatment System':].columns.tolist()\n",
    "\n",
    "target =['derate_within_72hr']\n",
    "\n",
    "X_train_final = und_samp[features]\n",
    "y_train_final = und_samp[target]"
   ]
  },
  {
   "cell_type": "code",
   "execution_count": 240,
   "id": "9944ef36",
   "metadata": {},
   "outputs": [],
   "source": [
    "X_resampled, y_resampled = undersampler.fit_resample(X_train_final, y_train_final)"
   ]
  },
  {
   "cell_type": "code",
   "execution_count": 241,
   "id": "2b5a1556",
   "metadata": {
    "scrolled": true
   },
   "outputs": [
    {
     "name": "stdout",
     "output_type": "stream",
     "text": [
      "(56565, 1)\n"
     ]
    }
   ],
   "source": [
    "print(y_resampled.shape)"
   ]
  },
  {
   "cell_type": "code",
   "execution_count": 242,
   "id": "dbc595d7",
   "metadata": {},
   "outputs": [],
   "source": [
    "logistic = LogisticRegression()"
   ]
  },
  {
   "cell_type": "code",
   "execution_count": 243,
   "id": "42f5e192",
   "metadata": {
    "scrolled": true
   },
   "outputs": [
    {
     "name": "stderr",
     "output_type": "stream",
     "text": [
      "C:\\Users\\Conrad\\anaconda3\\envs\\p310\\lib\\site-packages\\sklearn\\utils\\validation.py:993: DataConversionWarning: A column-vector y was passed when a 1d array was expected. Please change the shape of y to (n_samples, ), for example using ravel().\n",
      "  y = column_or_1d(y, warn=True)\n",
      "C:\\Users\\Conrad\\anaconda3\\envs\\p310\\lib\\site-packages\\sklearn\\linear_model\\_logistic.py:814: ConvergenceWarning: lbfgs failed to converge (status=1):\n",
      "STOP: TOTAL NO. of ITERATIONS REACHED LIMIT.\n",
      "\n",
      "Increase the number of iterations (max_iter) or scale the data as shown in:\n",
      "    https://scikit-learn.org/stable/modules/preprocessing.html\n",
      "Please also refer to the documentation for alternative solver options:\n",
      "    https://scikit-learn.org/stable/modules/linear_model.html#logistic-regression\n",
      "  n_iter_i = _check_optimize_result(\n"
     ]
    }
   ],
   "source": [
    "logreg = logistic.fit(X_resampled, y_resampled)"
   ]
  },
  {
   "cell_type": "code",
   "execution_count": 244,
   "id": "6c2c1427",
   "metadata": {},
   "outputs": [],
   "source": [
    "X_test = obs_7_72_test[features]\n",
    "y_test = obs_7_72_test[target]"
   ]
  },
  {
   "cell_type": "code",
   "execution_count": 245,
   "id": "de20a5b8",
   "metadata": {},
   "outputs": [
    {
     "name": "stdout",
     "output_type": "stream",
     "text": [
      "0.9588102099629477\n",
      "0.9632277153652219\n"
     ]
    }
   ],
   "source": [
    "y_pred = logreg.predict(X_test)\n",
    "\n",
    "print(accuracy_score(y_test,y_pred))\n",
    "print(f1_score(y_test, y_pred, average = 'weighted'))"
   ]
  },
  {
   "cell_type": "code",
   "execution_count": null,
   "id": "95ec5f78",
   "metadata": {},
   "outputs": [],
   "source": []
  }
 ],
 "metadata": {
  "kernelspec": {
   "display_name": "Python 3 (ipykernel)",
   "language": "python",
   "name": "python3"
  },
  "language_info": {
   "codemirror_mode": {
    "name": "ipython",
    "version": 3
   },
   "file_extension": ".py",
   "mimetype": "text/x-python",
   "name": "python",
   "nbconvert_exporter": "python",
   "pygments_lexer": "ipython3",
   "version": "3.10.3"
  }
 },
 "nbformat": 4,
 "nbformat_minor": 5
}
