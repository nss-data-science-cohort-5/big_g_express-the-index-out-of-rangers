{
 "cells": [
  {
   "cell_type": "code",
   "execution_count": 141,
   "id": "e3f54d29",
   "metadata": {},
   "outputs": [],
   "source": [
    "import pandas as pd\n",
    "import numpy as np\n",
    "import matplotlib.pyplot as plt\n",
    "import seaborn as sns\n",
    "from imblearn.over_sampling import SMOTE\n",
    "from imblearn.under_sampling import RandomUnderSampler\n",
    "from sklearn.linear_model import LogisticRegression\n",
    "from sklearn.metrics import accuracy_score, confusion_matrix, classification_report, f1_score\n",
    "from sklearn.pipeline import Pipeline\n",
    "from sklearn.preprocessing import MinMaxScaler\n",
    "from sklearn.ensemble import RandomForestClassifier\n",
    "from sklearn import metrics"
   ]
  },
  {
   "cell_type": "code",
   "execution_count": 142,
   "id": "abc1795a",
   "metadata": {},
   "outputs": [],
   "source": [
    "# Set view options\n",
    "pd.set_option('display.max_rows', 500)\n",
    "pd.set_option('display.max_columns', 500)"
   ]
  },
  {
   "cell_type": "code",
   "execution_count": 143,
   "id": "b190b408",
   "metadata": {
    "scrolled": false
   },
   "outputs": [
    {
     "name": "stderr",
     "output_type": "stream",
     "text": [
      "C:\\Users\\Conrad\\AppData\\Local\\Temp\\ipykernel_9100\\3718084596.py:1: DtypeWarning: Columns (3,4,7,8,10,11,12,13,14,15,16,17,19,21,22,23,24,25) have mixed types. Specify dtype option on import or set low_memory=False.\n",
      "  obs = pd.read_csv(\"../data/obs_windows/observation_72H_prediction_24H_48H_72H.csv\")\n"
     ]
    }
   ],
   "source": [
    "obs = pd.read_csv(\"../data/obs_windows/observation_72H_prediction_24H_48H_72H.csv\")"
   ]
  },
  {
   "cell_type": "markdown",
   "id": "d39f1ee4",
   "metadata": {},
   "source": [
    "### 7d observation window with 24hr prediction window"
   ]
  },
  {
   "cell_type": "code",
   "execution_count": 144,
   "id": "65035957",
   "metadata": {
    "scrolled": true
   },
   "outputs": [],
   "source": [
    "obs_24 = obs.drop(obs.loc[:, 'spn':'full_derate_within_24hr'], axis=1).drop(obs.loc[:, 'partial_derate_within_48hr':'derate_within_72hr'], axis=1).drop(columns='EventTimeStamp')"
   ]
  },
  {
   "cell_type": "code",
   "execution_count": 145,
   "id": "981642a6",
   "metadata": {},
   "outputs": [
    {
     "data": {
      "text/plain": [
       "1039"
      ]
     },
     "execution_count": 145,
     "metadata": {},
     "output_type": "execute_result"
    }
   ],
   "source": [
    "eq_ids = obs_24.drop_duplicates(subset='EquipmentID')\n",
    "eq_ids = eq_ids[['EquipmentID']]\n",
    "eq_ids.shape[0]"
   ]
  },
  {
   "cell_type": "code",
   "execution_count": 146,
   "id": "f36697fc",
   "metadata": {
    "scrolled": true
   },
   "outputs": [],
   "source": [
    "np.random.seed(321)\n",
    "\n",
    "eq_ids['random'] = (np.random.randint(0, 10000, eq_ids.shape[0]))/10000"
   ]
  },
  {
   "cell_type": "code",
   "execution_count": 147,
   "id": "07a121b7",
   "metadata": {},
   "outputs": [],
   "source": [
    "#create column 'modeling' labeling ~35% of the data for training, ~30% for validation, and ~35% for testing \n",
    "eq_ids['modeling'] = np.where(((eq_ids.random <= 0.35)), 'training', np.where(((eq_ids.random <= 0.65)), 'validation', 'testing'))"
   ]
  },
  {
   "cell_type": "code",
   "execution_count": 148,
   "id": "f3da264e",
   "metadata": {},
   "outputs": [],
   "source": [
    "#merge modeling column onto original dataframe\n",
    "obs_24 = obs_24.sort_values(by='EquipmentID')\n",
    "eq_ids = eq_ids.sort_values(by='EquipmentID')\n",
    "\n",
    "obs_24 = obs_24.merge(eq_ids, on='EquipmentID')\n",
    "obs_24 = obs_24.drop(columns='EquipmentID')"
   ]
  },
  {
   "cell_type": "code",
   "execution_count": 149,
   "id": "98ddd7dc",
   "metadata": {},
   "outputs": [
    {
     "name": "stdout",
     "output_type": "stream",
     "text": [
      "(200860, 56)\n",
      "(202749, 56)\n",
      "(151246, 56)\n"
     ]
    }
   ],
   "source": [
    "#creating training, testing, and validation dfs\n",
    "obs_24_training = obs_24[obs_24['modeling']=='training']\n",
    "obs_24_training = obs_24_training.drop(columns=['modeling', 'random'])\n",
    "print(obs_24_training.shape)\n",
    "\n",
    "obs_24_test = obs_24[obs_24['modeling']=='testing']\n",
    "obs_24_test = obs_24_test.drop(columns=['modeling', 'random'])\n",
    "print(obs_24_test.shape)\n",
    "\n",
    "obs_24_validation = obs_24[obs_24['modeling']=='validation']\n",
    "obs_24_validation = obs_24_validation.drop(columns=['modeling', 'random'])\n",
    "print(obs_24_validation.shape)"
   ]
  },
  {
   "cell_type": "code",
   "execution_count": 150,
   "id": "25de4383",
   "metadata": {},
   "outputs": [],
   "source": [
    "df_sampling = obs_24_training\n",
    "df_sampling_non_tenth = df_sampling[df_sampling['derate_within_24hr'] == 0][0:18855]"
   ]
  },
  {
   "cell_type": "code",
   "execution_count": 151,
   "id": "4672f915",
   "metadata": {},
   "outputs": [],
   "source": [
    "df_sampling_derate_tenth = pd.concat([df_sampling[df_sampling['derate_within_24hr']==1], df_sampling_non_tenth])"
   ]
  },
  {
   "cell_type": "code",
   "execution_count": 152,
   "id": "4a3b0f75",
   "metadata": {},
   "outputs": [],
   "source": [
    "oversampler = SMOTE(k_neighbors=5, random_state=321)\n",
    "\n",
    "features = df_sampling_derate_tenth.loc[:, 'Aftertreatment System':].columns.tolist()\n",
    "\n",
    "target = ['derate_within_24hr']\n",
    "\n",
    "X_train = df_sampling_derate_tenth[features]\n",
    "y_train = df_sampling_derate_tenth[target]"
   ]
  },
  {
   "cell_type": "code",
   "execution_count": 153,
   "id": "c2fb8168",
   "metadata": {},
   "outputs": [],
   "source": [
    "X_smote, y_smote = oversampler.fit_resample(X_train, y_train)"
   ]
  },
  {
   "cell_type": "code",
   "execution_count": 154,
   "id": "8398fa26",
   "metadata": {},
   "outputs": [
    {
     "data": {
      "text/plain": [
       "(18855, 56)"
      ]
     },
     "execution_count": 154,
     "metadata": {},
     "output_type": "execute_result"
    }
   ],
   "source": [
    "smote_all = pd.concat([y_smote, X_smote], axis=1)\n",
    "smote_derate = smote_all[smote_all['derate_within_24hr']==1]\n",
    "smote_derate.shape"
   ]
  },
  {
   "cell_type": "code",
   "execution_count": 155,
   "id": "d27fbd8f",
   "metadata": {},
   "outputs": [
    {
     "data": {
      "text/plain": [
       "(215061, 56)"
      ]
     },
     "execution_count": 155,
     "metadata": {},
     "output_type": "execute_result"
    }
   ],
   "source": [
    "und_samp = pd.concat([smote_derate, df_sampling[df_sampling['derate_within_24hr']==0]])\n",
    "und_samp.shape"
   ]
  },
  {
   "cell_type": "code",
   "execution_count": 156,
   "id": "d9048449",
   "metadata": {},
   "outputs": [],
   "source": [
    "undersampler = RandomUnderSampler(random_state=321, sampling_strategy=1/2)\n",
    "\n",
    "features = und_samp.loc[:, 'Aftertreatment System':].columns.tolist()\n",
    "\n",
    "target =['derate_within_24hr']\n",
    "\n",
    "X_train_final = und_samp[features]\n",
    "y_train_final = und_samp[target]\n",
    "\n",
    "X_test = obs_24_test[features]\n",
    "y_test = obs_24_test[target]"
   ]
  },
  {
   "cell_type": "code",
   "execution_count": 157,
   "id": "f434ed51",
   "metadata": {},
   "outputs": [],
   "source": [
    "X_resampled, y_resampled = undersampler.fit_resample(X_train_final, y_train_final)"
   ]
  },
  {
   "cell_type": "code",
   "execution_count": 158,
   "id": "9495117f",
   "metadata": {
    "scrolled": true
   },
   "outputs": [
    {
     "name": "stdout",
     "output_type": "stream",
     "text": [
      "(56565, 1)\n"
     ]
    }
   ],
   "source": [
    "print(y_resampled.shape)"
   ]
  },
  {
   "cell_type": "code",
   "execution_count": 159,
   "id": "dbc595d7",
   "metadata": {},
   "outputs": [],
   "source": [
    "rf_pipeline = Pipeline(\n",
    "    steps = [\n",
    "        ('scale', MinMaxScaler()),\n",
    "        ('rf_clf', RandomForestClassifier(n_estimators = 500, n_jobs = -1, random_state = 69))\n",
    "    ]\n",
    ")"
   ]
  },
  {
   "cell_type": "code",
   "execution_count": 160,
   "id": "42f5e192",
   "metadata": {
    "scrolled": false
   },
   "outputs": [
    {
     "name": "stderr",
     "output_type": "stream",
     "text": [
      "C:\\Users\\Conrad\\anaconda3\\envs\\p310\\lib\\site-packages\\sklearn\\pipeline.py:394: DataConversionWarning: A column-vector y was passed when a 1d array was expected. Please change the shape of y to (n_samples,), for example using ravel().\n",
      "  self._final_estimator.fit(Xt, y, **fit_params_last_step)\n"
     ]
    }
   ],
   "source": [
    "rand_forest = rf_pipeline.fit(X_resampled, y_resampled)\n",
    "rf_pipeline.score(X_test, y_test)\n",
    "\n",
    "y_pred = rand_forest.predict(X_test)"
   ]
  },
  {
   "cell_type": "code",
   "execution_count": 161,
   "id": "0ad25530",
   "metadata": {
    "scrolled": true
   },
   "outputs": [
    {
     "data": {
      "text/html": [
       "<div>\n",
       "<style scoped>\n",
       "    .dataframe tbody tr th:only-of-type {\n",
       "        vertical-align: middle;\n",
       "    }\n",
       "\n",
       "    .dataframe tbody tr th {\n",
       "        vertical-align: top;\n",
       "    }\n",
       "\n",
       "    .dataframe thead th {\n",
       "        text-align: right;\n",
       "    }\n",
       "</style>\n",
       "<table border=\"1\" class=\"dataframe\">\n",
       "  <thead>\n",
       "    <tr style=\"text-align: right;\">\n",
       "      <th></th>\n",
       "      <th>feature</th>\n",
       "      <th>importance</th>\n",
       "    </tr>\n",
       "  </thead>\n",
       "  <tbody>\n",
       "    <tr>\n",
       "      <th>29</th>\n",
       "      <td>Engine Protection Torque Partial Derate</td>\n",
       "      <td>3.349359e-01</td>\n",
       "    </tr>\n",
       "    <tr>\n",
       "      <th>0</th>\n",
       "      <td>Aftertreatment System</td>\n",
       "      <td>2.631610e-01</td>\n",
       "    </tr>\n",
       "    <tr>\n",
       "      <th>51</th>\n",
       "      <td>Unknown</td>\n",
       "      <td>1.211310e-01</td>\n",
       "    </tr>\n",
       "    <tr>\n",
       "      <th>18</th>\n",
       "      <td>Engine Coolant</td>\n",
       "      <td>7.195539e-02</td>\n",
       "    </tr>\n",
       "    <tr>\n",
       "      <th>22</th>\n",
       "      <td>Engine Fuel</td>\n",
       "      <td>3.319269e-02</td>\n",
       "    </tr>\n",
       "    <tr>\n",
       "      <th>28</th>\n",
       "      <td>Engine Protection Torque Full Derate</td>\n",
       "      <td>2.577222e-02</td>\n",
       "    </tr>\n",
       "    <tr>\n",
       "      <th>43</th>\n",
       "      <td>J1939 Network</td>\n",
       "      <td>2.237719e-02</td>\n",
       "    </tr>\n",
       "    <tr>\n",
       "      <th>41</th>\n",
       "      <td>Intake Manifold</td>\n",
       "      <td>2.209986e-02</td>\n",
       "    </tr>\n",
       "    <tr>\n",
       "      <th>52</th>\n",
       "      <td>Variable Geometry Turbocharger</td>\n",
       "      <td>1.978333e-02</td>\n",
       "    </tr>\n",
       "    <tr>\n",
       "      <th>39</th>\n",
       "      <td>Injector Metering Rail</td>\n",
       "      <td>1.519826e-02</td>\n",
       "    </tr>\n",
       "    <tr>\n",
       "      <th>34</th>\n",
       "      <td>Exhaust Gas Recirculation System</td>\n",
       "      <td>1.395463e-02</td>\n",
       "    </tr>\n",
       "    <tr>\n",
       "      <th>17</th>\n",
       "      <td>Engine Control Module</td>\n",
       "      <td>1.248392e-02</td>\n",
       "    </tr>\n",
       "    <tr>\n",
       "      <th>9</th>\n",
       "      <td>ECU Power Output Supply Voltage</td>\n",
       "      <td>1.158294e-02</td>\n",
       "    </tr>\n",
       "    <tr>\n",
       "      <th>40</th>\n",
       "      <td>Injector Solenoid</td>\n",
       "      <td>5.709798e-03</td>\n",
       "    </tr>\n",
       "    <tr>\n",
       "      <th>33</th>\n",
       "      <td>Exhaust Gas</td>\n",
       "      <td>5.147944e-03</td>\n",
       "    </tr>\n",
       "    <tr>\n",
       "      <th>1</th>\n",
       "      <td>Ambient Air Temperature</td>\n",
       "      <td>3.137308e-03</td>\n",
       "    </tr>\n",
       "    <tr>\n",
       "      <th>45</th>\n",
       "      <td>Sensor Supply</td>\n",
       "      <td>2.863634e-03</td>\n",
       "    </tr>\n",
       "    <tr>\n",
       "      <th>26</th>\n",
       "      <td>Engine Oil</td>\n",
       "      <td>2.045819e-03</td>\n",
       "    </tr>\n",
       "    <tr>\n",
       "      <th>13</th>\n",
       "      <td>Electronic Throttle Control</td>\n",
       "      <td>1.803745e-03</td>\n",
       "    </tr>\n",
       "    <tr>\n",
       "      <th>35</th>\n",
       "      <td>Fan Control</td>\n",
       "      <td>1.745530e-03</td>\n",
       "    </tr>\n",
       "    <tr>\n",
       "      <th>50</th>\n",
       "      <td>Turbocharger</td>\n",
       "      <td>1.171081e-03</td>\n",
       "    </tr>\n",
       "    <tr>\n",
       "      <th>6</th>\n",
       "      <td>Battery</td>\n",
       "      <td>1.097630e-03</td>\n",
       "    </tr>\n",
       "    <tr>\n",
       "      <th>20</th>\n",
       "      <td>Engine Diesel Particulate Filter</td>\n",
       "      <td>1.019937e-03</td>\n",
       "    </tr>\n",
       "    <tr>\n",
       "      <th>30</th>\n",
       "      <td>Engine Speed</td>\n",
       "      <td>9.954358e-04</td>\n",
       "    </tr>\n",
       "    <tr>\n",
       "      <th>47</th>\n",
       "      <td>Total Vehicle Distance</td>\n",
       "      <td>9.215331e-04</td>\n",
       "    </tr>\n",
       "    <tr>\n",
       "      <th>7</th>\n",
       "      <td>Crankcase</td>\n",
       "      <td>9.110815e-04</td>\n",
       "    </tr>\n",
       "    <tr>\n",
       "      <th>23</th>\n",
       "      <td>Engine Injector Metering Rail</td>\n",
       "      <td>7.526150e-04</td>\n",
       "    </tr>\n",
       "    <tr>\n",
       "      <th>2</th>\n",
       "      <td>Anti-Lock Braking (ABS) Controller</td>\n",
       "      <td>7.393187e-04</td>\n",
       "    </tr>\n",
       "    <tr>\n",
       "      <th>54</th>\n",
       "      <td>Wheel-Based Vehicle Speed</td>\n",
       "      <td>7.159955e-04</td>\n",
       "    </tr>\n",
       "    <tr>\n",
       "      <th>25</th>\n",
       "      <td>Engine Misfire</td>\n",
       "      <td>4.148519e-04</td>\n",
       "    </tr>\n",
       "    <tr>\n",
       "      <th>46</th>\n",
       "      <td>Steering Wheel Angle Sensor</td>\n",
       "      <td>3.033389e-04</td>\n",
       "    </tr>\n",
       "    <tr>\n",
       "      <th>44</th>\n",
       "      <td>Real Time Clock</td>\n",
       "      <td>2.148504e-04</td>\n",
       "    </tr>\n",
       "    <tr>\n",
       "      <th>53</th>\n",
       "      <td>Vehicle Identification Number</td>\n",
       "      <td>2.074987e-04</td>\n",
       "    </tr>\n",
       "    <tr>\n",
       "      <th>19</th>\n",
       "      <td>Engine Cooling System</td>\n",
       "      <td>1.735417e-04</td>\n",
       "    </tr>\n",
       "    <tr>\n",
       "      <th>5</th>\n",
       "      <td>Barometric Pressure Sensor</td>\n",
       "      <td>1.056704e-04</td>\n",
       "    </tr>\n",
       "    <tr>\n",
       "      <th>32</th>\n",
       "      <td>Engine Total Idle Hours</td>\n",
       "      <td>8.231354e-05</td>\n",
       "    </tr>\n",
       "    <tr>\n",
       "      <th>38</th>\n",
       "      <td>Indicator Lamp</td>\n",
       "      <td>3.594132e-05</td>\n",
       "    </tr>\n",
       "    <tr>\n",
       "      <th>24</th>\n",
       "      <td>Engine Intake Air Heater</td>\n",
       "      <td>1.989161e-05</td>\n",
       "    </tr>\n",
       "    <tr>\n",
       "      <th>48</th>\n",
       "      <td>Transmission Communications Failure Idle Torqu...</td>\n",
       "      <td>1.743716e-05</td>\n",
       "    </tr>\n",
       "    <tr>\n",
       "      <th>42</th>\n",
       "      <td>Intake Throttle</td>\n",
       "      <td>1.187263e-05</td>\n",
       "    </tr>\n",
       "    <tr>\n",
       "      <th>21</th>\n",
       "      <td>Engine Exhaust Back Pressure</td>\n",
       "      <td>2.451746e-06</td>\n",
       "    </tr>\n",
       "    <tr>\n",
       "      <th>49</th>\n",
       "      <td>Transmission Oil</td>\n",
       "      <td>1.502180e-06</td>\n",
       "    </tr>\n",
       "    <tr>\n",
       "      <th>15</th>\n",
       "      <td>Engine Brake</td>\n",
       "      <td>9.727777e-07</td>\n",
       "    </tr>\n",
       "    <tr>\n",
       "      <th>36</th>\n",
       "      <td>Fuel Control Module</td>\n",
       "      <td>8.840660e-07</td>\n",
       "    </tr>\n",
       "    <tr>\n",
       "      <th>8</th>\n",
       "      <td>DAS Module to ECM Communication</td>\n",
       "      <td>2.404268e-07</td>\n",
       "    </tr>\n",
       "    <tr>\n",
       "      <th>11</th>\n",
       "      <td>Electrical Charging System Voltage</td>\n",
       "      <td>6.581791e-08</td>\n",
       "    </tr>\n",
       "    <tr>\n",
       "      <th>14</th>\n",
       "      <td>Engine Air Filter</td>\n",
       "      <td>0.000000e+00</td>\n",
       "    </tr>\n",
       "    <tr>\n",
       "      <th>12</th>\n",
       "      <td>Electronic Fuel Injection Control Valve</td>\n",
       "      <td>0.000000e+00</td>\n",
       "    </tr>\n",
       "    <tr>\n",
       "      <th>37</th>\n",
       "      <td>High Pressure Common Rail Fuel Pressure Relief...</td>\n",
       "      <td>0.000000e+00</td>\n",
       "    </tr>\n",
       "    <tr>\n",
       "      <th>10</th>\n",
       "      <td>Electric Lift Pump</td>\n",
       "      <td>0.000000e+00</td>\n",
       "    </tr>\n",
       "    <tr>\n",
       "      <th>16</th>\n",
       "      <td>Engine Charge Air Cooler Outlet Temperature</td>\n",
       "      <td>0.000000e+00</td>\n",
       "    </tr>\n",
       "    <tr>\n",
       "      <th>4</th>\n",
       "      <td>Auxiliary Temperature Sensor Input Circuit</td>\n",
       "      <td>0.000000e+00</td>\n",
       "    </tr>\n",
       "    <tr>\n",
       "      <th>3</th>\n",
       "      <td>Auxiliary Input/Output</td>\n",
       "      <td>0.000000e+00</td>\n",
       "    </tr>\n",
       "    <tr>\n",
       "      <th>31</th>\n",
       "      <td>Engine Starter Motor Relay</td>\n",
       "      <td>0.000000e+00</td>\n",
       "    </tr>\n",
       "    <tr>\n",
       "      <th>27</th>\n",
       "      <td>Engine Position Sensor</td>\n",
       "      <td>0.000000e+00</td>\n",
       "    </tr>\n",
       "  </tbody>\n",
       "</table>\n",
       "</div>"
      ],
      "text/plain": [
       "                                              feature    importance\n",
       "29            Engine Protection Torque Partial Derate  3.349359e-01\n",
       "0                               Aftertreatment System  2.631610e-01\n",
       "51                                            Unknown  1.211310e-01\n",
       "18                                     Engine Coolant  7.195539e-02\n",
       "22                                        Engine Fuel  3.319269e-02\n",
       "28               Engine Protection Torque Full Derate  2.577222e-02\n",
       "43                                      J1939 Network  2.237719e-02\n",
       "41                                    Intake Manifold  2.209986e-02\n",
       "52                     Variable Geometry Turbocharger  1.978333e-02\n",
       "39                             Injector Metering Rail  1.519826e-02\n",
       "34                   Exhaust Gas Recirculation System  1.395463e-02\n",
       "17                              Engine Control Module  1.248392e-02\n",
       "9                     ECU Power Output Supply Voltage  1.158294e-02\n",
       "40                                  Injector Solenoid  5.709798e-03\n",
       "33                                        Exhaust Gas  5.147944e-03\n",
       "1                             Ambient Air Temperature  3.137308e-03\n",
       "45                                      Sensor Supply  2.863634e-03\n",
       "26                                         Engine Oil  2.045819e-03\n",
       "13                        Electronic Throttle Control  1.803745e-03\n",
       "35                                        Fan Control  1.745530e-03\n",
       "50                                       Turbocharger  1.171081e-03\n",
       "6                                             Battery  1.097630e-03\n",
       "20                   Engine Diesel Particulate Filter  1.019937e-03\n",
       "30                                       Engine Speed  9.954358e-04\n",
       "47                             Total Vehicle Distance  9.215331e-04\n",
       "7                                           Crankcase  9.110815e-04\n",
       "23                      Engine Injector Metering Rail  7.526150e-04\n",
       "2                  Anti-Lock Braking (ABS) Controller  7.393187e-04\n",
       "54                          Wheel-Based Vehicle Speed  7.159955e-04\n",
       "25                                     Engine Misfire  4.148519e-04\n",
       "46                        Steering Wheel Angle Sensor  3.033389e-04\n",
       "44                                    Real Time Clock  2.148504e-04\n",
       "53                      Vehicle Identification Number  2.074987e-04\n",
       "19                              Engine Cooling System  1.735417e-04\n",
       "5                          Barometric Pressure Sensor  1.056704e-04\n",
       "32                            Engine Total Idle Hours  8.231354e-05\n",
       "38                                     Indicator Lamp  3.594132e-05\n",
       "24                           Engine Intake Air Heater  1.989161e-05\n",
       "48  Transmission Communications Failure Idle Torqu...  1.743716e-05\n",
       "42                                    Intake Throttle  1.187263e-05\n",
       "21                       Engine Exhaust Back Pressure  2.451746e-06\n",
       "49                                   Transmission Oil  1.502180e-06\n",
       "15                                       Engine Brake  9.727777e-07\n",
       "36                                Fuel Control Module  8.840660e-07\n",
       "8                     DAS Module to ECM Communication  2.404268e-07\n",
       "11                 Electrical Charging System Voltage  6.581791e-08\n",
       "14                                  Engine Air Filter  0.000000e+00\n",
       "12            Electronic Fuel Injection Control Valve  0.000000e+00\n",
       "37  High Pressure Common Rail Fuel Pressure Relief...  0.000000e+00\n",
       "10                                 Electric Lift Pump  0.000000e+00\n",
       "16        Engine Charge Air Cooler Outlet Temperature  0.000000e+00\n",
       "4          Auxiliary Temperature Sensor Input Circuit  0.000000e+00\n",
       "3                              Auxiliary Input/Output  0.000000e+00\n",
       "31                         Engine Starter Motor Relay  0.000000e+00\n",
       "27                             Engine Position Sensor  0.000000e+00"
      ]
     },
     "execution_count": 161,
     "metadata": {},
     "output_type": "execute_result"
    }
   ],
   "source": [
    "data = {'feature': np.array(X_resampled.columns), 'importance': rf_pipeline.named_steps['rf_clf'].feature_importances_}\n",
    "pd.DataFrame(data).sort_values('importance', ascending = False)\n"
   ]
  },
  {
   "cell_type": "code",
   "execution_count": 162,
   "id": "1fbd9533",
   "metadata": {},
   "outputs": [
    {
     "data": {
      "text/plain": [
       "array([[190193,   7819],\n",
       "       [  1192,   3545]], dtype=int64)"
      ]
     },
     "execution_count": 162,
     "metadata": {},
     "output_type": "execute_result"
    }
   ],
   "source": [
    "confusion_matrix(y_test, y_pred)"
   ]
  },
  {
   "cell_type": "code",
   "execution_count": 163,
   "id": "df3a365b",
   "metadata": {},
   "outputs": [],
   "source": [
    "tn, fp, fn, tp = confusion_matrix(y_test, y_pred).ravel()"
   ]
  },
  {
   "cell_type": "code",
   "execution_count": 164,
   "id": "bb69f669",
   "metadata": {
    "scrolled": true
   },
   "outputs": [
    {
     "data": {
      "text/plain": [
       "(190193, 7819, 1192, 3545)"
      ]
     },
     "execution_count": 164,
     "metadata": {},
     "output_type": "execute_result"
    }
   ],
   "source": [
    "(tn, fp, fn, tp)"
   ]
  },
  {
   "cell_type": "code",
   "execution_count": 165,
   "id": "f2b764fc",
   "metadata": {
    "scrolled": false
   },
   "outputs": [
    {
     "name": "stdout",
     "output_type": "stream",
     "text": [
      "              precision    recall  f1-score   support\n",
      "\n",
      "         0.0       0.99      0.96      0.98    198012\n",
      "         1.0       0.31      0.75      0.44      4737\n",
      "\n",
      "    accuracy                           0.96    202749\n",
      "   macro avg       0.65      0.85      0.71    202749\n",
      "weighted avg       0.98      0.96      0.96    202749\n",
      "\n"
     ]
    }
   ],
   "source": [
    "print(classification_report(y_test, y_pred, zero_division = 0))"
   ]
  },
  {
   "cell_type": "code",
   "execution_count": 166,
   "id": "f0af9de4",
   "metadata": {},
   "outputs": [],
   "source": [
    "lg_pipeline =  Pipeline(\n",
    "    steps = [\n",
    "        ('scale', MinMaxScaler()),\n",
    "        ('lg_clf', LogisticRegression())\n",
    "    ]\n",
    ")"
   ]
  },
  {
   "cell_type": "code",
   "execution_count": 167,
   "id": "db6e10c0",
   "metadata": {
    "scrolled": true
   },
   "outputs": [
    {
     "name": "stderr",
     "output_type": "stream",
     "text": [
      "C:\\Users\\Conrad\\anaconda3\\envs\\p310\\lib\\site-packages\\sklearn\\utils\\validation.py:993: DataConversionWarning: A column-vector y was passed when a 1d array was expected. Please change the shape of y to (n_samples, ), for example using ravel().\n",
      "  y = column_or_1d(y, warn=True)\n"
     ]
    },
    {
     "name": "stdout",
     "output_type": "stream",
     "text": [
      "0.9189162931001326\n"
     ]
    }
   ],
   "source": [
    "logistic = lg_pipeline.fit(X_resampled, y_resampled)\n",
    "\n",
    "y_pred2 = logistic.predict(X_test)\n",
    "\n",
    "y_pred_proba = logistic.predict_proba(X_test)[::,1]\n",
    "\n",
    "auc = metrics.roc_auc_score(y_test, y_pred_proba)\n",
    "\n",
    "print(auc)"
   ]
  },
  {
   "cell_type": "markdown",
   "id": "a2b29834",
   "metadata": {},
   "source": [
    "### 7d observation window with 48hr prediction window"
   ]
  },
  {
   "cell_type": "code",
   "execution_count": 168,
   "id": "3e7ea58f",
   "metadata": {
    "scrolled": true
   },
   "outputs": [],
   "source": [
    "obs_48 = obs.drop(obs.loc[:, 'spn':'full_derate_within_48hr'], axis=1).drop(obs.loc[:, 'partial_derate_within_72hr':'derate_within_72hr'], axis=1).drop(columns='EventTimeStamp')"
   ]
  },
  {
   "cell_type": "code",
   "execution_count": 169,
   "id": "3a4cce6e",
   "metadata": {},
   "outputs": [
    {
     "data": {
      "text/plain": [
       "1039"
      ]
     },
     "execution_count": 169,
     "metadata": {},
     "output_type": "execute_result"
    }
   ],
   "source": [
    "eq_ids = obs_48.drop_duplicates(subset='EquipmentID')\n",
    "eq_ids = eq_ids[['EquipmentID']]\n",
    "eq_ids.shape[0]"
   ]
  },
  {
   "cell_type": "code",
   "execution_count": 170,
   "id": "3de6f668",
   "metadata": {
    "scrolled": true
   },
   "outputs": [],
   "source": [
    "np.random.seed(321)\n",
    "\n",
    "eq_ids['random'] = (np.random.randint(0, 10000, eq_ids.shape[0]))/10000"
   ]
  },
  {
   "cell_type": "code",
   "execution_count": 171,
   "id": "c714c735",
   "metadata": {},
   "outputs": [],
   "source": [
    "#create column 'modeling' labeling ~35% of the data for training, ~30% for validation, and ~35% for testing \n",
    "eq_ids['modeling'] = np.where(((eq_ids.random <= 0.35)), 'training', np.where(((eq_ids.random <= 0.65)), 'validation', 'testing'))"
   ]
  },
  {
   "cell_type": "code",
   "execution_count": 172,
   "id": "f1311cc8",
   "metadata": {},
   "outputs": [],
   "source": [
    "#merge modeling column onto original dataframe\n",
    "obs_48 = obs_48.sort_values(by='EquipmentID')\n",
    "eq_ids = eq_ids.sort_values(by='EquipmentID')\n",
    "\n",
    "obs_48 = obs_48.merge(eq_ids, on='EquipmentID')\n",
    "obs_48 = obs_48.drop(columns='EquipmentID')"
   ]
  },
  {
   "cell_type": "code",
   "execution_count": 173,
   "id": "c7653cf6",
   "metadata": {},
   "outputs": [
    {
     "name": "stdout",
     "output_type": "stream",
     "text": [
      "(200860, 56)\n",
      "(202749, 56)\n",
      "(151246, 56)\n"
     ]
    }
   ],
   "source": [
    "#creating training, testing, and validation dfs\n",
    "obs_48_training = obs_48[obs_48['modeling']=='training']\n",
    "obs_48_training = obs_48_training.drop(columns=['modeling', 'random'])\n",
    "print(obs_48_training.shape)\n",
    "\n",
    "obs_48_test = obs_48[obs_48['modeling']=='testing']\n",
    "obs_48_test = obs_48_test.drop(columns=['modeling', 'random'])\n",
    "print(obs_48_test.shape)\n",
    "\n",
    "obs_48_validation = obs_48[obs_48['modeling']=='validation']\n",
    "obs_48_validation = obs_48_validation.drop(columns=['modeling', 'random'])\n",
    "print(obs_48_validation.shape)"
   ]
  },
  {
   "cell_type": "code",
   "execution_count": 174,
   "id": "ca86f873",
   "metadata": {},
   "outputs": [],
   "source": [
    "df_sampling = obs_48_training\n",
    "df_sampling_non_tenth = df_sampling[df_sampling['derate_within_48hr'] == 0][0:18855]"
   ]
  },
  {
   "cell_type": "code",
   "execution_count": 175,
   "id": "211d797c",
   "metadata": {},
   "outputs": [],
   "source": [
    "df_sampling_derate_tenth = pd.concat([df_sampling[df_sampling['derate_within_48hr']==1], df_sampling_non_tenth])"
   ]
  },
  {
   "cell_type": "code",
   "execution_count": 176,
   "id": "c0878fcf",
   "metadata": {},
   "outputs": [],
   "source": [
    "oversampler = SMOTE(k_neighbors=5, random_state=321)\n",
    "\n",
    "features = df_sampling_derate_tenth.loc[:, 'Aftertreatment System':].columns.tolist()\n",
    "\n",
    "target = ['derate_within_48hr']\n",
    "\n",
    "X_train = df_sampling_derate_tenth[features]\n",
    "y_train = df_sampling_derate_tenth[target]\n",
    "\n",
    "X_test = obs_48_test[features]\n",
    "y_test = obs_48_test[target]"
   ]
  },
  {
   "cell_type": "code",
   "execution_count": 177,
   "id": "ed0fc266",
   "metadata": {},
   "outputs": [],
   "source": [
    "X_smote, y_smote = oversampler.fit_resample(X_train, y_train)"
   ]
  },
  {
   "cell_type": "code",
   "execution_count": 178,
   "id": "ab3f862d",
   "metadata": {},
   "outputs": [
    {
     "data": {
      "text/plain": [
       "(18855, 56)"
      ]
     },
     "execution_count": 178,
     "metadata": {},
     "output_type": "execute_result"
    }
   ],
   "source": [
    "smote_all = pd.concat([y_smote, X_smote], axis=1)\n",
    "smote_derate = smote_all[smote_all['derate_within_48hr']==1]\n",
    "smote_derate.shape"
   ]
  },
  {
   "cell_type": "code",
   "execution_count": 179,
   "id": "7e52b3fd",
   "metadata": {},
   "outputs": [
    {
     "data": {
      "text/plain": [
       "(214184, 56)"
      ]
     },
     "execution_count": 179,
     "metadata": {},
     "output_type": "execute_result"
    }
   ],
   "source": [
    "und_samp = pd.concat([smote_derate, df_sampling[df_sampling['derate_within_48hr']==0]])\n",
    "und_samp.shape"
   ]
  },
  {
   "cell_type": "code",
   "execution_count": 180,
   "id": "0429ddf7",
   "metadata": {},
   "outputs": [],
   "source": [
    "undersampler = RandomUnderSampler(random_state=321, sampling_strategy=1/2)\n",
    "\n",
    "features = und_samp.loc[:, 'Aftertreatment System':].columns.tolist()\n",
    "\n",
    "target =['derate_within_48hr']\n",
    "\n",
    "X_train_final = und_samp[features]\n",
    "y_train_final = und_samp[target]"
   ]
  },
  {
   "cell_type": "code",
   "execution_count": 181,
   "id": "bdc607ca",
   "metadata": {},
   "outputs": [],
   "source": [
    "X_resampled, y_resampled = undersampler.fit_resample(X_train_final, y_train_final)"
   ]
  },
  {
   "cell_type": "code",
   "execution_count": 182,
   "id": "fd91ca95",
   "metadata": {
    "scrolled": true
   },
   "outputs": [
    {
     "name": "stdout",
     "output_type": "stream",
     "text": [
      "(56565, 1)\n"
     ]
    }
   ],
   "source": [
    "print(y_resampled.shape)"
   ]
  },
  {
   "cell_type": "code",
   "execution_count": 183,
   "id": "e9aad9f7",
   "metadata": {},
   "outputs": [],
   "source": [
    "rf_pipeline = Pipeline(\n",
    "    steps = [\n",
    "        ('scale', MinMaxScaler()),\n",
    "        ('rf_clf', RandomForestClassifier(n_estimators = 500, n_jobs = -1, random_state = 69))\n",
    "    ]\n",
    ")"
   ]
  },
  {
   "cell_type": "code",
   "execution_count": 184,
   "id": "a0ff2001",
   "metadata": {
    "scrolled": false
   },
   "outputs": [
    {
     "name": "stderr",
     "output_type": "stream",
     "text": [
      "C:\\Users\\Conrad\\anaconda3\\envs\\p310\\lib\\site-packages\\sklearn\\pipeline.py:394: DataConversionWarning: A column-vector y was passed when a 1d array was expected. Please change the shape of y to (n_samples,), for example using ravel().\n",
      "  self._final_estimator.fit(Xt, y, **fit_params_last_step)\n"
     ]
    }
   ],
   "source": [
    "rand_forest = rf_pipeline.fit(X_resampled, y_resampled)\n",
    "rf_pipeline.score(X_test, y_test)\n",
    "\n",
    "y_pred = rand_forest.predict(X_test)"
   ]
  },
  {
   "cell_type": "code",
   "execution_count": 185,
   "id": "dfa5a9a3",
   "metadata": {
    "scrolled": true
   },
   "outputs": [
    {
     "data": {
      "text/html": [
       "<div>\n",
       "<style scoped>\n",
       "    .dataframe tbody tr th:only-of-type {\n",
       "        vertical-align: middle;\n",
       "    }\n",
       "\n",
       "    .dataframe tbody tr th {\n",
       "        vertical-align: top;\n",
       "    }\n",
       "\n",
       "    .dataframe thead th {\n",
       "        text-align: right;\n",
       "    }\n",
       "</style>\n",
       "<table border=\"1\" class=\"dataframe\">\n",
       "  <thead>\n",
       "    <tr style=\"text-align: right;\">\n",
       "      <th></th>\n",
       "      <th>feature</th>\n",
       "      <th>importance</th>\n",
       "    </tr>\n",
       "  </thead>\n",
       "  <tbody>\n",
       "    <tr>\n",
       "      <th>29</th>\n",
       "      <td>Engine Protection Torque Partial Derate</td>\n",
       "      <td>3.162794e-01</td>\n",
       "    </tr>\n",
       "    <tr>\n",
       "      <th>0</th>\n",
       "      <td>Aftertreatment System</td>\n",
       "      <td>2.526229e-01</td>\n",
       "    </tr>\n",
       "    <tr>\n",
       "      <th>51</th>\n",
       "      <td>Unknown</td>\n",
       "      <td>1.370247e-01</td>\n",
       "    </tr>\n",
       "    <tr>\n",
       "      <th>18</th>\n",
       "      <td>Engine Coolant</td>\n",
       "      <td>6.998638e-02</td>\n",
       "    </tr>\n",
       "    <tr>\n",
       "      <th>22</th>\n",
       "      <td>Engine Fuel</td>\n",
       "      <td>3.963649e-02</td>\n",
       "    </tr>\n",
       "    <tr>\n",
       "      <th>43</th>\n",
       "      <td>J1939 Network</td>\n",
       "      <td>2.811492e-02</td>\n",
       "    </tr>\n",
       "    <tr>\n",
       "      <th>28</th>\n",
       "      <td>Engine Protection Torque Full Derate</td>\n",
       "      <td>2.301806e-02</td>\n",
       "    </tr>\n",
       "    <tr>\n",
       "      <th>52</th>\n",
       "      <td>Variable Geometry Turbocharger</td>\n",
       "      <td>1.879153e-02</td>\n",
       "    </tr>\n",
       "    <tr>\n",
       "      <th>41</th>\n",
       "      <td>Intake Manifold</td>\n",
       "      <td>1.855502e-02</td>\n",
       "    </tr>\n",
       "    <tr>\n",
       "      <th>39</th>\n",
       "      <td>Injector Metering Rail</td>\n",
       "      <td>1.666071e-02</td>\n",
       "    </tr>\n",
       "    <tr>\n",
       "      <th>17</th>\n",
       "      <td>Engine Control Module</td>\n",
       "      <td>1.536726e-02</td>\n",
       "    </tr>\n",
       "    <tr>\n",
       "      <th>34</th>\n",
       "      <td>Exhaust Gas Recirculation System</td>\n",
       "      <td>1.463058e-02</td>\n",
       "    </tr>\n",
       "    <tr>\n",
       "      <th>9</th>\n",
       "      <td>ECU Power Output Supply Voltage</td>\n",
       "      <td>1.082749e-02</td>\n",
       "    </tr>\n",
       "    <tr>\n",
       "      <th>40</th>\n",
       "      <td>Injector Solenoid</td>\n",
       "      <td>7.048897e-03</td>\n",
       "    </tr>\n",
       "    <tr>\n",
       "      <th>33</th>\n",
       "      <td>Exhaust Gas</td>\n",
       "      <td>5.689602e-03</td>\n",
       "    </tr>\n",
       "    <tr>\n",
       "      <th>1</th>\n",
       "      <td>Ambient Air Temperature</td>\n",
       "      <td>3.649863e-03</td>\n",
       "    </tr>\n",
       "    <tr>\n",
       "      <th>45</th>\n",
       "      <td>Sensor Supply</td>\n",
       "      <td>2.972329e-03</td>\n",
       "    </tr>\n",
       "    <tr>\n",
       "      <th>26</th>\n",
       "      <td>Engine Oil</td>\n",
       "      <td>2.915021e-03</td>\n",
       "    </tr>\n",
       "    <tr>\n",
       "      <th>13</th>\n",
       "      <td>Electronic Throttle Control</td>\n",
       "      <td>2.672672e-03</td>\n",
       "    </tr>\n",
       "    <tr>\n",
       "      <th>35</th>\n",
       "      <td>Fan Control</td>\n",
       "      <td>1.558569e-03</td>\n",
       "    </tr>\n",
       "    <tr>\n",
       "      <th>6</th>\n",
       "      <td>Battery</td>\n",
       "      <td>1.455980e-03</td>\n",
       "    </tr>\n",
       "    <tr>\n",
       "      <th>30</th>\n",
       "      <td>Engine Speed</td>\n",
       "      <td>1.313175e-03</td>\n",
       "    </tr>\n",
       "    <tr>\n",
       "      <th>50</th>\n",
       "      <td>Turbocharger</td>\n",
       "      <td>1.251747e-03</td>\n",
       "    </tr>\n",
       "    <tr>\n",
       "      <th>47</th>\n",
       "      <td>Total Vehicle Distance</td>\n",
       "      <td>1.212877e-03</td>\n",
       "    </tr>\n",
       "    <tr>\n",
       "      <th>20</th>\n",
       "      <td>Engine Diesel Particulate Filter</td>\n",
       "      <td>1.181692e-03</td>\n",
       "    </tr>\n",
       "    <tr>\n",
       "      <th>7</th>\n",
       "      <td>Crankcase</td>\n",
       "      <td>1.013398e-03</td>\n",
       "    </tr>\n",
       "    <tr>\n",
       "      <th>54</th>\n",
       "      <td>Wheel-Based Vehicle Speed</td>\n",
       "      <td>9.126850e-04</td>\n",
       "    </tr>\n",
       "    <tr>\n",
       "      <th>23</th>\n",
       "      <td>Engine Injector Metering Rail</td>\n",
       "      <td>8.342969e-04</td>\n",
       "    </tr>\n",
       "    <tr>\n",
       "      <th>2</th>\n",
       "      <td>Anti-Lock Braking (ABS) Controller</td>\n",
       "      <td>6.079407e-04</td>\n",
       "    </tr>\n",
       "    <tr>\n",
       "      <th>44</th>\n",
       "      <td>Real Time Clock</td>\n",
       "      <td>3.739027e-04</td>\n",
       "    </tr>\n",
       "    <tr>\n",
       "      <th>46</th>\n",
       "      <td>Steering Wheel Angle Sensor</td>\n",
       "      <td>3.639022e-04</td>\n",
       "    </tr>\n",
       "    <tr>\n",
       "      <th>19</th>\n",
       "      <td>Engine Cooling System</td>\n",
       "      <td>3.461257e-04</td>\n",
       "    </tr>\n",
       "    <tr>\n",
       "      <th>25</th>\n",
       "      <td>Engine Misfire</td>\n",
       "      <td>2.776116e-04</td>\n",
       "    </tr>\n",
       "    <tr>\n",
       "      <th>5</th>\n",
       "      <td>Barometric Pressure Sensor</td>\n",
       "      <td>2.122764e-04</td>\n",
       "    </tr>\n",
       "    <tr>\n",
       "      <th>53</th>\n",
       "      <td>Vehicle Identification Number</td>\n",
       "      <td>1.852669e-04</td>\n",
       "    </tr>\n",
       "    <tr>\n",
       "      <th>32</th>\n",
       "      <td>Engine Total Idle Hours</td>\n",
       "      <td>1.490356e-04</td>\n",
       "    </tr>\n",
       "    <tr>\n",
       "      <th>15</th>\n",
       "      <td>Engine Brake</td>\n",
       "      <td>1.226316e-04</td>\n",
       "    </tr>\n",
       "    <tr>\n",
       "      <th>38</th>\n",
       "      <td>Indicator Lamp</td>\n",
       "      <td>6.094194e-05</td>\n",
       "    </tr>\n",
       "    <tr>\n",
       "      <th>48</th>\n",
       "      <td>Transmission Communications Failure Idle Torqu...</td>\n",
       "      <td>4.618897e-05</td>\n",
       "    </tr>\n",
       "    <tr>\n",
       "      <th>42</th>\n",
       "      <td>Intake Throttle</td>\n",
       "      <td>2.108323e-05</td>\n",
       "    </tr>\n",
       "    <tr>\n",
       "      <th>24</th>\n",
       "      <td>Engine Intake Air Heater</td>\n",
       "      <td>1.721085e-05</td>\n",
       "    </tr>\n",
       "    <tr>\n",
       "      <th>21</th>\n",
       "      <td>Engine Exhaust Back Pressure</td>\n",
       "      <td>5.914483e-06</td>\n",
       "    </tr>\n",
       "    <tr>\n",
       "      <th>27</th>\n",
       "      <td>Engine Position Sensor</td>\n",
       "      <td>5.912467e-06</td>\n",
       "    </tr>\n",
       "    <tr>\n",
       "      <th>36</th>\n",
       "      <td>Fuel Control Module</td>\n",
       "      <td>3.733374e-06</td>\n",
       "    </tr>\n",
       "    <tr>\n",
       "      <th>11</th>\n",
       "      <td>Electrical Charging System Voltage</td>\n",
       "      <td>1.445258e-06</td>\n",
       "    </tr>\n",
       "    <tr>\n",
       "      <th>49</th>\n",
       "      <td>Transmission Oil</td>\n",
       "      <td>5.130225e-07</td>\n",
       "    </tr>\n",
       "    <tr>\n",
       "      <th>8</th>\n",
       "      <td>DAS Module to ECM Communication</td>\n",
       "      <td>2.027577e-07</td>\n",
       "    </tr>\n",
       "    <tr>\n",
       "      <th>10</th>\n",
       "      <td>Electric Lift Pump</td>\n",
       "      <td>0.000000e+00</td>\n",
       "    </tr>\n",
       "    <tr>\n",
       "      <th>12</th>\n",
       "      <td>Electronic Fuel Injection Control Valve</td>\n",
       "      <td>0.000000e+00</td>\n",
       "    </tr>\n",
       "    <tr>\n",
       "      <th>14</th>\n",
       "      <td>Engine Air Filter</td>\n",
       "      <td>0.000000e+00</td>\n",
       "    </tr>\n",
       "    <tr>\n",
       "      <th>37</th>\n",
       "      <td>High Pressure Common Rail Fuel Pressure Relief...</td>\n",
       "      <td>0.000000e+00</td>\n",
       "    </tr>\n",
       "    <tr>\n",
       "      <th>4</th>\n",
       "      <td>Auxiliary Temperature Sensor Input Circuit</td>\n",
       "      <td>0.000000e+00</td>\n",
       "    </tr>\n",
       "    <tr>\n",
       "      <th>3</th>\n",
       "      <td>Auxiliary Input/Output</td>\n",
       "      <td>0.000000e+00</td>\n",
       "    </tr>\n",
       "    <tr>\n",
       "      <th>16</th>\n",
       "      <td>Engine Charge Air Cooler Outlet Temperature</td>\n",
       "      <td>0.000000e+00</td>\n",
       "    </tr>\n",
       "    <tr>\n",
       "      <th>31</th>\n",
       "      <td>Engine Starter Motor Relay</td>\n",
       "      <td>0.000000e+00</td>\n",
       "    </tr>\n",
       "  </tbody>\n",
       "</table>\n",
       "</div>"
      ],
      "text/plain": [
       "                                              feature    importance\n",
       "29            Engine Protection Torque Partial Derate  3.162794e-01\n",
       "0                               Aftertreatment System  2.526229e-01\n",
       "51                                            Unknown  1.370247e-01\n",
       "18                                     Engine Coolant  6.998638e-02\n",
       "22                                        Engine Fuel  3.963649e-02\n",
       "43                                      J1939 Network  2.811492e-02\n",
       "28               Engine Protection Torque Full Derate  2.301806e-02\n",
       "52                     Variable Geometry Turbocharger  1.879153e-02\n",
       "41                                    Intake Manifold  1.855502e-02\n",
       "39                             Injector Metering Rail  1.666071e-02\n",
       "17                              Engine Control Module  1.536726e-02\n",
       "34                   Exhaust Gas Recirculation System  1.463058e-02\n",
       "9                     ECU Power Output Supply Voltage  1.082749e-02\n",
       "40                                  Injector Solenoid  7.048897e-03\n",
       "33                                        Exhaust Gas  5.689602e-03\n",
       "1                             Ambient Air Temperature  3.649863e-03\n",
       "45                                      Sensor Supply  2.972329e-03\n",
       "26                                         Engine Oil  2.915021e-03\n",
       "13                        Electronic Throttle Control  2.672672e-03\n",
       "35                                        Fan Control  1.558569e-03\n",
       "6                                             Battery  1.455980e-03\n",
       "30                                       Engine Speed  1.313175e-03\n",
       "50                                       Turbocharger  1.251747e-03\n",
       "47                             Total Vehicle Distance  1.212877e-03\n",
       "20                   Engine Diesel Particulate Filter  1.181692e-03\n",
       "7                                           Crankcase  1.013398e-03\n",
       "54                          Wheel-Based Vehicle Speed  9.126850e-04\n",
       "23                      Engine Injector Metering Rail  8.342969e-04\n",
       "2                  Anti-Lock Braking (ABS) Controller  6.079407e-04\n",
       "44                                    Real Time Clock  3.739027e-04\n",
       "46                        Steering Wheel Angle Sensor  3.639022e-04\n",
       "19                              Engine Cooling System  3.461257e-04\n",
       "25                                     Engine Misfire  2.776116e-04\n",
       "5                          Barometric Pressure Sensor  2.122764e-04\n",
       "53                      Vehicle Identification Number  1.852669e-04\n",
       "32                            Engine Total Idle Hours  1.490356e-04\n",
       "15                                       Engine Brake  1.226316e-04\n",
       "38                                     Indicator Lamp  6.094194e-05\n",
       "48  Transmission Communications Failure Idle Torqu...  4.618897e-05\n",
       "42                                    Intake Throttle  2.108323e-05\n",
       "24                           Engine Intake Air Heater  1.721085e-05\n",
       "21                       Engine Exhaust Back Pressure  5.914483e-06\n",
       "27                             Engine Position Sensor  5.912467e-06\n",
       "36                                Fuel Control Module  3.733374e-06\n",
       "11                 Electrical Charging System Voltage  1.445258e-06\n",
       "49                                   Transmission Oil  5.130225e-07\n",
       "8                     DAS Module to ECM Communication  2.027577e-07\n",
       "10                                 Electric Lift Pump  0.000000e+00\n",
       "12            Electronic Fuel Injection Control Valve  0.000000e+00\n",
       "14                                  Engine Air Filter  0.000000e+00\n",
       "37  High Pressure Common Rail Fuel Pressure Relief...  0.000000e+00\n",
       "4          Auxiliary Temperature Sensor Input Circuit  0.000000e+00\n",
       "3                              Auxiliary Input/Output  0.000000e+00\n",
       "16        Engine Charge Air Cooler Outlet Temperature  0.000000e+00\n",
       "31                         Engine Starter Motor Relay  0.000000e+00"
      ]
     },
     "execution_count": 185,
     "metadata": {},
     "output_type": "execute_result"
    }
   ],
   "source": [
    "data = {'feature': np.array(X_resampled.columns), 'importance': rf_pipeline.named_steps['rf_clf'].feature_importances_}\n",
    "pd.DataFrame(data).sort_values('importance', ascending = False)\n"
   ]
  },
  {
   "cell_type": "code",
   "execution_count": 186,
   "id": "f3197c5c",
   "metadata": {},
   "outputs": [
    {
     "data": {
      "text/plain": [
       "array([[189720,   7608],\n",
       "       [  1683,   3738]], dtype=int64)"
      ]
     },
     "execution_count": 186,
     "metadata": {},
     "output_type": "execute_result"
    }
   ],
   "source": [
    "confusion_matrix(y_test, y_pred)"
   ]
  },
  {
   "cell_type": "code",
   "execution_count": 187,
   "id": "97b2725f",
   "metadata": {},
   "outputs": [],
   "source": [
    "tn, fp, fn, tp = confusion_matrix(y_test, y_pred).ravel()"
   ]
  },
  {
   "cell_type": "code",
   "execution_count": 188,
   "id": "f39602d9",
   "metadata": {
    "scrolled": true
   },
   "outputs": [
    {
     "data": {
      "text/plain": [
       "(189720, 7608, 1683, 3738)"
      ]
     },
     "execution_count": 188,
     "metadata": {},
     "output_type": "execute_result"
    }
   ],
   "source": [
    "(tn, fp, fn, tp)"
   ]
  },
  {
   "cell_type": "code",
   "execution_count": 189,
   "id": "c256f386",
   "metadata": {
    "scrolled": false
   },
   "outputs": [
    {
     "name": "stdout",
     "output_type": "stream",
     "text": [
      "              precision    recall  f1-score   support\n",
      "\n",
      "         0.0       0.99      0.96      0.98    197328\n",
      "         1.0       0.33      0.69      0.45      5421\n",
      "\n",
      "    accuracy                           0.95    202749\n",
      "   macro avg       0.66      0.83      0.71    202749\n",
      "weighted avg       0.97      0.95      0.96    202749\n",
      "\n"
     ]
    }
   ],
   "source": [
    "print(classification_report(y_test, y_pred, zero_division = 0))"
   ]
  },
  {
   "cell_type": "code",
   "execution_count": 190,
   "id": "f6868a35",
   "metadata": {},
   "outputs": [],
   "source": [
    "lg_pipeline =  Pipeline(\n",
    "    steps = [\n",
    "        ('scale', MinMaxScaler()),\n",
    "        ('lg_clf', LogisticRegression())\n",
    "    ]\n",
    ")"
   ]
  },
  {
   "cell_type": "code",
   "execution_count": 191,
   "id": "d0bef2b7",
   "metadata": {
    "scrolled": true
   },
   "outputs": [
    {
     "name": "stderr",
     "output_type": "stream",
     "text": [
      "C:\\Users\\Conrad\\anaconda3\\envs\\p310\\lib\\site-packages\\sklearn\\utils\\validation.py:993: DataConversionWarning: A column-vector y was passed when a 1d array was expected. Please change the shape of y to (n_samples, ), for example using ravel().\n",
      "  y = column_or_1d(y, warn=True)\n"
     ]
    },
    {
     "name": "stdout",
     "output_type": "stream",
     "text": [
      "0.8927384779488124\n"
     ]
    },
    {
     "name": "stderr",
     "output_type": "stream",
     "text": [
      "C:\\Users\\Conrad\\anaconda3\\envs\\p310\\lib\\site-packages\\sklearn\\linear_model\\_logistic.py:814: ConvergenceWarning: lbfgs failed to converge (status=1):\n",
      "STOP: TOTAL NO. of ITERATIONS REACHED LIMIT.\n",
      "\n",
      "Increase the number of iterations (max_iter) or scale the data as shown in:\n",
      "    https://scikit-learn.org/stable/modules/preprocessing.html\n",
      "Please also refer to the documentation for alternative solver options:\n",
      "    https://scikit-learn.org/stable/modules/linear_model.html#logistic-regression\n",
      "  n_iter_i = _check_optimize_result(\n"
     ]
    }
   ],
   "source": [
    "logistic = lg_pipeline.fit(X_resampled, y_resampled)\n",
    "\n",
    "y_pred2 = logistic.predict(X_test)\n",
    "\n",
    "y_pred_proba = logistic.predict_proba(X_test)[::,1]\n",
    "\n",
    "auc = metrics.roc_auc_score(y_test, y_pred_proba)\n",
    "\n",
    "print(auc)"
   ]
  },
  {
   "cell_type": "markdown",
   "id": "1bc57d71",
   "metadata": {},
   "source": [
    "### 7d observation window with 72hr prediction window"
   ]
  },
  {
   "cell_type": "code",
   "execution_count": 192,
   "id": "c1cf81d7",
   "metadata": {
    "scrolled": true
   },
   "outputs": [],
   "source": [
    "obs_72 = obs.drop(obs.loc[:, 'spn':'full_derate_within_72hr'], axis=1).drop(columns='EventTimeStamp')"
   ]
  },
  {
   "cell_type": "code",
   "execution_count": 193,
   "id": "26b7d52d",
   "metadata": {},
   "outputs": [
    {
     "data": {
      "text/plain": [
       "1039"
      ]
     },
     "execution_count": 193,
     "metadata": {},
     "output_type": "execute_result"
    }
   ],
   "source": [
    "eq_ids = obs_72.drop_duplicates(subset='EquipmentID')\n",
    "eq_ids = eq_ids[['EquipmentID']]\n",
    "eq_ids.shape[0]"
   ]
  },
  {
   "cell_type": "code",
   "execution_count": 194,
   "id": "60ee5222",
   "metadata": {
    "scrolled": true
   },
   "outputs": [],
   "source": [
    "np.random.seed(321)\n",
    "\n",
    "eq_ids['random'] = (np.random.randint(0, 10000, eq_ids.shape[0]))/10000"
   ]
  },
  {
   "cell_type": "code",
   "execution_count": 195,
   "id": "61baa910",
   "metadata": {},
   "outputs": [],
   "source": [
    "#create column 'modeling' labeling ~35% of the data for training, ~30% for validation, and ~35% for testing \n",
    "eq_ids['modeling'] = np.where(((eq_ids.random <= 0.35)), 'training', np.where(((eq_ids.random <= 0.65)), 'validation', 'testing'))"
   ]
  },
  {
   "cell_type": "code",
   "execution_count": 196,
   "id": "3848bfe4",
   "metadata": {},
   "outputs": [],
   "source": [
    "#merge modeling column onto original dataframe\n",
    "obs_72 = obs_72.sort_values(by='EquipmentID')\n",
    "eq_ids = eq_ids.sort_values(by='EquipmentID')\n",
    "\n",
    "obs_72 = obs_72.merge(eq_ids, on='EquipmentID')\n",
    "obs_72 = obs_72.drop(columns='EquipmentID')"
   ]
  },
  {
   "cell_type": "code",
   "execution_count": 197,
   "id": "265a1371",
   "metadata": {},
   "outputs": [
    {
     "name": "stdout",
     "output_type": "stream",
     "text": [
      "(200860, 56)\n",
      "(202749, 56)\n",
      "(151246, 56)\n"
     ]
    }
   ],
   "source": [
    "#creating training, testing, and validation dfs\n",
    "obs_72_training = obs_72[obs_72['modeling']=='training']\n",
    "obs_72_training = obs_72_training.drop(columns=['modeling', 'random'])\n",
    "print(obs_72_training.shape)\n",
    "\n",
    "obs_72_test = obs_72[obs_72['modeling']=='testing']\n",
    "obs_72_test = obs_72_test.drop(columns=['modeling', 'random'])\n",
    "print(obs_72_test.shape)\n",
    "\n",
    "obs_72_validation = obs_72[obs_72['modeling']=='validation']\n",
    "obs_72_validation = obs_72_validation.drop(columns=['modeling', 'random'])\n",
    "print(obs_72_validation.shape)"
   ]
  },
  {
   "cell_type": "code",
   "execution_count": 198,
   "id": "f300b819",
   "metadata": {},
   "outputs": [],
   "source": [
    "df_sampling = obs_72_training\n",
    "df_sampling_non_tenth = df_sampling[df_sampling['derate_within_72hr'] == 0][0:18855]"
   ]
  },
  {
   "cell_type": "code",
   "execution_count": 199,
   "id": "0f5bf103",
   "metadata": {},
   "outputs": [],
   "source": [
    "df_sampling_derate_tenth = pd.concat([df_sampling[df_sampling['derate_within_72hr']==1], df_sampling_non_tenth])"
   ]
  },
  {
   "cell_type": "code",
   "execution_count": 200,
   "id": "5b42363f",
   "metadata": {},
   "outputs": [],
   "source": [
    "oversampler = SMOTE(k_neighbors=5, random_state=321)\n",
    "\n",
    "features = df_sampling_derate_tenth.loc[:, 'Aftertreatment System':].columns.tolist()\n",
    "\n",
    "target = ['derate_within_72hr']\n",
    "\n",
    "X_train = df_sampling_derate_tenth[features]\n",
    "y_train = df_sampling_derate_tenth[target]"
   ]
  },
  {
   "cell_type": "code",
   "execution_count": 201,
   "id": "a0888ee3",
   "metadata": {},
   "outputs": [],
   "source": [
    "X_smote, y_smote = oversampler.fit_resample(X_train, y_train)"
   ]
  },
  {
   "cell_type": "code",
   "execution_count": 202,
   "id": "283286d1",
   "metadata": {},
   "outputs": [
    {
     "data": {
      "text/plain": [
       "(18855, 56)"
      ]
     },
     "execution_count": 202,
     "metadata": {},
     "output_type": "execute_result"
    }
   ],
   "source": [
    "smote_all = pd.concat([y_smote, X_smote], axis=1)\n",
    "smote_derate = smote_all[smote_all['derate_within_72hr']==1]\n",
    "smote_derate.shape"
   ]
  },
  {
   "cell_type": "code",
   "execution_count": 203,
   "id": "7588627b",
   "metadata": {},
   "outputs": [
    {
     "data": {
      "text/plain": [
       "(213477, 56)"
      ]
     },
     "execution_count": 203,
     "metadata": {},
     "output_type": "execute_result"
    }
   ],
   "source": [
    "und_samp = pd.concat([smote_derate, df_sampling[df_sampling['derate_within_72hr']==0]])\n",
    "und_samp.shape"
   ]
  },
  {
   "cell_type": "code",
   "execution_count": 204,
   "id": "ee4dca54",
   "metadata": {},
   "outputs": [],
   "source": [
    "undersampler = RandomUnderSampler(random_state=321, sampling_strategy=1/2)\n",
    "\n",
    "features = und_samp.loc[:, 'Aftertreatment System':].columns.tolist()\n",
    "\n",
    "target =['derate_within_72hr']\n",
    "\n",
    "X_train_final = und_samp[features]\n",
    "y_train_final = und_samp[target]\n",
    "\n",
    "X_test = obs_72_test[features]\n",
    "y_test = obs_72_test[target]"
   ]
  },
  {
   "cell_type": "code",
   "execution_count": 205,
   "id": "9944ef36",
   "metadata": {},
   "outputs": [],
   "source": [
    "X_resampled, y_resampled = undersampler.fit_resample(X_train_final, y_train_final)"
   ]
  },
  {
   "cell_type": "code",
   "execution_count": 206,
   "id": "2b5a1556",
   "metadata": {
    "scrolled": true
   },
   "outputs": [
    {
     "name": "stdout",
     "output_type": "stream",
     "text": [
      "(56565, 1)\n"
     ]
    }
   ],
   "source": [
    "print(y_resampled.shape)"
   ]
  },
  {
   "cell_type": "code",
   "execution_count": 207,
   "id": "e958aa69",
   "metadata": {},
   "outputs": [],
   "source": [
    "rf_pipeline = Pipeline(\n",
    "    steps = [\n",
    "        ('scale', MinMaxScaler()),\n",
    "        ('rf_clf', RandomForestClassifier(n_estimators = 500, n_jobs = -1, random_state = 69))\n",
    "    ]\n",
    ")"
   ]
  },
  {
   "cell_type": "code",
   "execution_count": 208,
   "id": "ef357881",
   "metadata": {
    "scrolled": false
   },
   "outputs": [
    {
     "name": "stderr",
     "output_type": "stream",
     "text": [
      "C:\\Users\\Conrad\\anaconda3\\envs\\p310\\lib\\site-packages\\sklearn\\pipeline.py:394: DataConversionWarning: A column-vector y was passed when a 1d array was expected. Please change the shape of y to (n_samples,), for example using ravel().\n",
      "  self._final_estimator.fit(Xt, y, **fit_params_last_step)\n"
     ]
    }
   ],
   "source": [
    "rand_forest = rf_pipeline.fit(X_resampled, y_resampled)\n",
    "rf_pipeline.score(X_test, y_test)\n",
    "\n",
    "y_pred = rand_forest.predict(X_test)"
   ]
  },
  {
   "cell_type": "code",
   "execution_count": 209,
   "id": "d4485d0c",
   "metadata": {
    "scrolled": true
   },
   "outputs": [
    {
     "data": {
      "text/html": [
       "<div>\n",
       "<style scoped>\n",
       "    .dataframe tbody tr th:only-of-type {\n",
       "        vertical-align: middle;\n",
       "    }\n",
       "\n",
       "    .dataframe tbody tr th {\n",
       "        vertical-align: top;\n",
       "    }\n",
       "\n",
       "    .dataframe thead th {\n",
       "        text-align: right;\n",
       "    }\n",
       "</style>\n",
       "<table border=\"1\" class=\"dataframe\">\n",
       "  <thead>\n",
       "    <tr style=\"text-align: right;\">\n",
       "      <th></th>\n",
       "      <th>feature</th>\n",
       "      <th>importance</th>\n",
       "    </tr>\n",
       "  </thead>\n",
       "  <tbody>\n",
       "    <tr>\n",
       "      <th>29</th>\n",
       "      <td>Engine Protection Torque Partial Derate</td>\n",
       "      <td>0.312112</td>\n",
       "    </tr>\n",
       "    <tr>\n",
       "      <th>0</th>\n",
       "      <td>Aftertreatment System</td>\n",
       "      <td>0.249037</td>\n",
       "    </tr>\n",
       "    <tr>\n",
       "      <th>51</th>\n",
       "      <td>Unknown</td>\n",
       "      <td>0.140826</td>\n",
       "    </tr>\n",
       "    <tr>\n",
       "      <th>18</th>\n",
       "      <td>Engine Coolant</td>\n",
       "      <td>0.067073</td>\n",
       "    </tr>\n",
       "    <tr>\n",
       "      <th>22</th>\n",
       "      <td>Engine Fuel</td>\n",
       "      <td>0.041008</td>\n",
       "    </tr>\n",
       "    <tr>\n",
       "      <th>43</th>\n",
       "      <td>J1939 Network</td>\n",
       "      <td>0.030232</td>\n",
       "    </tr>\n",
       "    <tr>\n",
       "      <th>28</th>\n",
       "      <td>Engine Protection Torque Full Derate</td>\n",
       "      <td>0.023944</td>\n",
       "    </tr>\n",
       "    <tr>\n",
       "      <th>41</th>\n",
       "      <td>Intake Manifold</td>\n",
       "      <td>0.019807</td>\n",
       "    </tr>\n",
       "    <tr>\n",
       "      <th>52</th>\n",
       "      <td>Variable Geometry Turbocharger</td>\n",
       "      <td>0.016838</td>\n",
       "    </tr>\n",
       "    <tr>\n",
       "      <th>17</th>\n",
       "      <td>Engine Control Module</td>\n",
       "      <td>0.016589</td>\n",
       "    </tr>\n",
       "    <tr>\n",
       "      <th>34</th>\n",
       "      <td>Exhaust Gas Recirculation System</td>\n",
       "      <td>0.016198</td>\n",
       "    </tr>\n",
       "    <tr>\n",
       "      <th>39</th>\n",
       "      <td>Injector Metering Rail</td>\n",
       "      <td>0.015758</td>\n",
       "    </tr>\n",
       "    <tr>\n",
       "      <th>9</th>\n",
       "      <td>ECU Power Output Supply Voltage</td>\n",
       "      <td>0.010396</td>\n",
       "    </tr>\n",
       "    <tr>\n",
       "      <th>40</th>\n",
       "      <td>Injector Solenoid</td>\n",
       "      <td>0.007013</td>\n",
       "    </tr>\n",
       "    <tr>\n",
       "      <th>33</th>\n",
       "      <td>Exhaust Gas</td>\n",
       "      <td>0.005388</td>\n",
       "    </tr>\n",
       "    <tr>\n",
       "      <th>45</th>\n",
       "      <td>Sensor Supply</td>\n",
       "      <td>0.004044</td>\n",
       "    </tr>\n",
       "    <tr>\n",
       "      <th>1</th>\n",
       "      <td>Ambient Air Temperature</td>\n",
       "      <td>0.003921</td>\n",
       "    </tr>\n",
       "    <tr>\n",
       "      <th>13</th>\n",
       "      <td>Electronic Throttle Control</td>\n",
       "      <td>0.002989</td>\n",
       "    </tr>\n",
       "    <tr>\n",
       "      <th>26</th>\n",
       "      <td>Engine Oil</td>\n",
       "      <td>0.002495</td>\n",
       "    </tr>\n",
       "    <tr>\n",
       "      <th>20</th>\n",
       "      <td>Engine Diesel Particulate Filter</td>\n",
       "      <td>0.001801</td>\n",
       "    </tr>\n",
       "    <tr>\n",
       "      <th>35</th>\n",
       "      <td>Fan Control</td>\n",
       "      <td>0.001451</td>\n",
       "    </tr>\n",
       "    <tr>\n",
       "      <th>7</th>\n",
       "      <td>Crankcase</td>\n",
       "      <td>0.001424</td>\n",
       "    </tr>\n",
       "    <tr>\n",
       "      <th>50</th>\n",
       "      <td>Turbocharger</td>\n",
       "      <td>0.001294</td>\n",
       "    </tr>\n",
       "    <tr>\n",
       "      <th>47</th>\n",
       "      <td>Total Vehicle Distance</td>\n",
       "      <td>0.001281</td>\n",
       "    </tr>\n",
       "    <tr>\n",
       "      <th>54</th>\n",
       "      <td>Wheel-Based Vehicle Speed</td>\n",
       "      <td>0.001247</td>\n",
       "    </tr>\n",
       "    <tr>\n",
       "      <th>30</th>\n",
       "      <td>Engine Speed</td>\n",
       "      <td>0.001154</td>\n",
       "    </tr>\n",
       "    <tr>\n",
       "      <th>6</th>\n",
       "      <td>Battery</td>\n",
       "      <td>0.001080</td>\n",
       "    </tr>\n",
       "    <tr>\n",
       "      <th>23</th>\n",
       "      <td>Engine Injector Metering Rail</td>\n",
       "      <td>0.000905</td>\n",
       "    </tr>\n",
       "    <tr>\n",
       "      <th>2</th>\n",
       "      <td>Anti-Lock Braking (ABS) Controller</td>\n",
       "      <td>0.000645</td>\n",
       "    </tr>\n",
       "    <tr>\n",
       "      <th>44</th>\n",
       "      <td>Real Time Clock</td>\n",
       "      <td>0.000434</td>\n",
       "    </tr>\n",
       "    <tr>\n",
       "      <th>53</th>\n",
       "      <td>Vehicle Identification Number</td>\n",
       "      <td>0.000381</td>\n",
       "    </tr>\n",
       "    <tr>\n",
       "      <th>46</th>\n",
       "      <td>Steering Wheel Angle Sensor</td>\n",
       "      <td>0.000306</td>\n",
       "    </tr>\n",
       "    <tr>\n",
       "      <th>25</th>\n",
       "      <td>Engine Misfire</td>\n",
       "      <td>0.000290</td>\n",
       "    </tr>\n",
       "    <tr>\n",
       "      <th>19</th>\n",
       "      <td>Engine Cooling System</td>\n",
       "      <td>0.000193</td>\n",
       "    </tr>\n",
       "    <tr>\n",
       "      <th>32</th>\n",
       "      <td>Engine Total Idle Hours</td>\n",
       "      <td>0.000105</td>\n",
       "    </tr>\n",
       "    <tr>\n",
       "      <th>5</th>\n",
       "      <td>Barometric Pressure Sensor</td>\n",
       "      <td>0.000099</td>\n",
       "    </tr>\n",
       "    <tr>\n",
       "      <th>38</th>\n",
       "      <td>Indicator Lamp</td>\n",
       "      <td>0.000081</td>\n",
       "    </tr>\n",
       "    <tr>\n",
       "      <th>15</th>\n",
       "      <td>Engine Brake</td>\n",
       "      <td>0.000058</td>\n",
       "    </tr>\n",
       "    <tr>\n",
       "      <th>24</th>\n",
       "      <td>Engine Intake Air Heater</td>\n",
       "      <td>0.000029</td>\n",
       "    </tr>\n",
       "    <tr>\n",
       "      <th>42</th>\n",
       "      <td>Intake Throttle</td>\n",
       "      <td>0.000026</td>\n",
       "    </tr>\n",
       "    <tr>\n",
       "      <th>48</th>\n",
       "      <td>Transmission Communications Failure Idle Torqu...</td>\n",
       "      <td>0.000025</td>\n",
       "    </tr>\n",
       "    <tr>\n",
       "      <th>3</th>\n",
       "      <td>Auxiliary Input/Output</td>\n",
       "      <td>0.000007</td>\n",
       "    </tr>\n",
       "    <tr>\n",
       "      <th>36</th>\n",
       "      <td>Fuel Control Module</td>\n",
       "      <td>0.000005</td>\n",
       "    </tr>\n",
       "    <tr>\n",
       "      <th>8</th>\n",
       "      <td>DAS Module to ECM Communication</td>\n",
       "      <td>0.000004</td>\n",
       "    </tr>\n",
       "    <tr>\n",
       "      <th>21</th>\n",
       "      <td>Engine Exhaust Back Pressure</td>\n",
       "      <td>0.000003</td>\n",
       "    </tr>\n",
       "    <tr>\n",
       "      <th>12</th>\n",
       "      <td>Electronic Fuel Injection Control Valve</td>\n",
       "      <td>0.000002</td>\n",
       "    </tr>\n",
       "    <tr>\n",
       "      <th>11</th>\n",
       "      <td>Electrical Charging System Voltage</td>\n",
       "      <td>0.000001</td>\n",
       "    </tr>\n",
       "    <tr>\n",
       "      <th>10</th>\n",
       "      <td>Electric Lift Pump</td>\n",
       "      <td>0.000000</td>\n",
       "    </tr>\n",
       "    <tr>\n",
       "      <th>37</th>\n",
       "      <td>High Pressure Common Rail Fuel Pressure Relief...</td>\n",
       "      <td>0.000000</td>\n",
       "    </tr>\n",
       "    <tr>\n",
       "      <th>49</th>\n",
       "      <td>Transmission Oil</td>\n",
       "      <td>0.000000</td>\n",
       "    </tr>\n",
       "    <tr>\n",
       "      <th>4</th>\n",
       "      <td>Auxiliary Temperature Sensor Input Circuit</td>\n",
       "      <td>0.000000</td>\n",
       "    </tr>\n",
       "    <tr>\n",
       "      <th>14</th>\n",
       "      <td>Engine Air Filter</td>\n",
       "      <td>0.000000</td>\n",
       "    </tr>\n",
       "    <tr>\n",
       "      <th>16</th>\n",
       "      <td>Engine Charge Air Cooler Outlet Temperature</td>\n",
       "      <td>0.000000</td>\n",
       "    </tr>\n",
       "    <tr>\n",
       "      <th>31</th>\n",
       "      <td>Engine Starter Motor Relay</td>\n",
       "      <td>0.000000</td>\n",
       "    </tr>\n",
       "    <tr>\n",
       "      <th>27</th>\n",
       "      <td>Engine Position Sensor</td>\n",
       "      <td>0.000000</td>\n",
       "    </tr>\n",
       "  </tbody>\n",
       "</table>\n",
       "</div>"
      ],
      "text/plain": [
       "                                              feature  importance\n",
       "29            Engine Protection Torque Partial Derate    0.312112\n",
       "0                               Aftertreatment System    0.249037\n",
       "51                                            Unknown    0.140826\n",
       "18                                     Engine Coolant    0.067073\n",
       "22                                        Engine Fuel    0.041008\n",
       "43                                      J1939 Network    0.030232\n",
       "28               Engine Protection Torque Full Derate    0.023944\n",
       "41                                    Intake Manifold    0.019807\n",
       "52                     Variable Geometry Turbocharger    0.016838\n",
       "17                              Engine Control Module    0.016589\n",
       "34                   Exhaust Gas Recirculation System    0.016198\n",
       "39                             Injector Metering Rail    0.015758\n",
       "9                     ECU Power Output Supply Voltage    0.010396\n",
       "40                                  Injector Solenoid    0.007013\n",
       "33                                        Exhaust Gas    0.005388\n",
       "45                                      Sensor Supply    0.004044\n",
       "1                             Ambient Air Temperature    0.003921\n",
       "13                        Electronic Throttle Control    0.002989\n",
       "26                                         Engine Oil    0.002495\n",
       "20                   Engine Diesel Particulate Filter    0.001801\n",
       "35                                        Fan Control    0.001451\n",
       "7                                           Crankcase    0.001424\n",
       "50                                       Turbocharger    0.001294\n",
       "47                             Total Vehicle Distance    0.001281\n",
       "54                          Wheel-Based Vehicle Speed    0.001247\n",
       "30                                       Engine Speed    0.001154\n",
       "6                                             Battery    0.001080\n",
       "23                      Engine Injector Metering Rail    0.000905\n",
       "2                  Anti-Lock Braking (ABS) Controller    0.000645\n",
       "44                                    Real Time Clock    0.000434\n",
       "53                      Vehicle Identification Number    0.000381\n",
       "46                        Steering Wheel Angle Sensor    0.000306\n",
       "25                                     Engine Misfire    0.000290\n",
       "19                              Engine Cooling System    0.000193\n",
       "32                            Engine Total Idle Hours    0.000105\n",
       "5                          Barometric Pressure Sensor    0.000099\n",
       "38                                     Indicator Lamp    0.000081\n",
       "15                                       Engine Brake    0.000058\n",
       "24                           Engine Intake Air Heater    0.000029\n",
       "42                                    Intake Throttle    0.000026\n",
       "48  Transmission Communications Failure Idle Torqu...    0.000025\n",
       "3                              Auxiliary Input/Output    0.000007\n",
       "36                                Fuel Control Module    0.000005\n",
       "8                     DAS Module to ECM Communication    0.000004\n",
       "21                       Engine Exhaust Back Pressure    0.000003\n",
       "12            Electronic Fuel Injection Control Valve    0.000002\n",
       "11                 Electrical Charging System Voltage    0.000001\n",
       "10                                 Electric Lift Pump    0.000000\n",
       "37  High Pressure Common Rail Fuel Pressure Relief...    0.000000\n",
       "49                                   Transmission Oil    0.000000\n",
       "4          Auxiliary Temperature Sensor Input Circuit    0.000000\n",
       "14                                  Engine Air Filter    0.000000\n",
       "16        Engine Charge Air Cooler Outlet Temperature    0.000000\n",
       "31                         Engine Starter Motor Relay    0.000000\n",
       "27                             Engine Position Sensor    0.000000"
      ]
     },
     "execution_count": 209,
     "metadata": {},
     "output_type": "execute_result"
    }
   ],
   "source": [
    "data = {'feature': np.array(X_resampled.columns), 'importance': rf_pipeline.named_steps['rf_clf'].feature_importances_}\n",
    "pd.DataFrame(data).sort_values('importance', ascending = False)\n"
   ]
  },
  {
   "cell_type": "code",
   "execution_count": 210,
   "id": "57aca21a",
   "metadata": {},
   "outputs": [
    {
     "data": {
      "text/plain": [
       "array([[188107,   8744],\n",
       "       [  1940,   3958]], dtype=int64)"
      ]
     },
     "execution_count": 210,
     "metadata": {},
     "output_type": "execute_result"
    }
   ],
   "source": [
    "confusion_matrix(y_test, y_pred)"
   ]
  },
  {
   "cell_type": "code",
   "execution_count": 211,
   "id": "22060d95",
   "metadata": {},
   "outputs": [],
   "source": [
    "tn, fp, fn, tp = confusion_matrix(y_test, y_pred).ravel()"
   ]
  },
  {
   "cell_type": "code",
   "execution_count": 212,
   "id": "0034934e",
   "metadata": {
    "scrolled": true
   },
   "outputs": [
    {
     "data": {
      "text/plain": [
       "(188107, 8744, 1940, 3958)"
      ]
     },
     "execution_count": 212,
     "metadata": {},
     "output_type": "execute_result"
    }
   ],
   "source": [
    "(tn, fp, fn, tp)"
   ]
  },
  {
   "cell_type": "code",
   "execution_count": 213,
   "id": "29e11890",
   "metadata": {
    "scrolled": true
   },
   "outputs": [
    {
     "name": "stdout",
     "output_type": "stream",
     "text": [
      "              precision    recall  f1-score   support\n",
      "\n",
      "         0.0       0.99      0.96      0.97    196851\n",
      "         1.0       0.31      0.67      0.43      5898\n",
      "\n",
      "    accuracy                           0.95    202749\n",
      "   macro avg       0.65      0.81      0.70    202749\n",
      "weighted avg       0.97      0.95      0.96    202749\n",
      "\n"
     ]
    }
   ],
   "source": [
    "print(classification_report(y_test, y_pred, zero_division = 0))"
   ]
  },
  {
   "cell_type": "code",
   "execution_count": 214,
   "id": "8dcd2913",
   "metadata": {},
   "outputs": [],
   "source": [
    "lg_pipeline =  Pipeline(\n",
    "    steps = [\n",
    "        ('scale', MinMaxScaler()),\n",
    "        ('lg_clf', LogisticRegression())\n",
    "    ]\n",
    ")"
   ]
  },
  {
   "cell_type": "code",
   "execution_count": 215,
   "id": "5f2bff7f",
   "metadata": {
    "scrolled": true
   },
   "outputs": [
    {
     "name": "stderr",
     "output_type": "stream",
     "text": [
      "C:\\Users\\Conrad\\anaconda3\\envs\\p310\\lib\\site-packages\\sklearn\\utils\\validation.py:993: DataConversionWarning: A column-vector y was passed when a 1d array was expected. Please change the shape of y to (n_samples, ), for example using ravel().\n",
      "  y = column_or_1d(y, warn=True)\n"
     ]
    },
    {
     "name": "stdout",
     "output_type": "stream",
     "text": [
      "0.8750448238853401\n"
     ]
    },
    {
     "name": "stderr",
     "output_type": "stream",
     "text": [
      "C:\\Users\\Conrad\\anaconda3\\envs\\p310\\lib\\site-packages\\sklearn\\linear_model\\_logistic.py:814: ConvergenceWarning: lbfgs failed to converge (status=1):\n",
      "STOP: TOTAL NO. of ITERATIONS REACHED LIMIT.\n",
      "\n",
      "Increase the number of iterations (max_iter) or scale the data as shown in:\n",
      "    https://scikit-learn.org/stable/modules/preprocessing.html\n",
      "Please also refer to the documentation for alternative solver options:\n",
      "    https://scikit-learn.org/stable/modules/linear_model.html#logistic-regression\n",
      "  n_iter_i = _check_optimize_result(\n"
     ]
    }
   ],
   "source": [
    "logistic = lg_pipeline.fit(X_resampled, y_resampled)\n",
    "\n",
    "y_pred2 = logistic.predict(X_test)\n",
    "\n",
    "y_pred_proba = logistic.predict_proba(X_test)[::,1]\n",
    "\n",
    "auc = metrics.roc_auc_score(y_test, y_pred_proba)\n",
    "\n",
    "print(auc)"
   ]
  },
  {
   "cell_type": "code",
   "execution_count": null,
   "id": "4c3b5ca0",
   "metadata": {},
   "outputs": [],
   "source": []
  }
 ],
 "metadata": {
  "kernelspec": {
   "display_name": "Python 3 (ipykernel)",
   "language": "python",
   "name": "python3"
  },
  "language_info": {
   "codemirror_mode": {
    "name": "ipython",
    "version": 3
   },
   "file_extension": ".py",
   "mimetype": "text/x-python",
   "name": "python",
   "nbconvert_exporter": "python",
   "pygments_lexer": "ipython3",
   "version": "3.10.3"
  }
 },
 "nbformat": 4,
 "nbformat_minor": 5
}
