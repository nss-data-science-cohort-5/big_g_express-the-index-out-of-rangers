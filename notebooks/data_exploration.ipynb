{
 "cells": [
  {
   "cell_type": "code",
   "execution_count": null,
   "metadata": {},
   "outputs": [],
   "source": [
    "# Import libraries\n",
    "import pandas as pd\n",
    "import matplotlib.pyplot as plt\n",
    "import seaborn as sns"
   ]
  },
  {
   "cell_type": "code",
   "execution_count": null,
   "metadata": {},
   "outputs": [],
   "source": [
    "# Set view options\n",
    "pd.set_option('display.max_rows', 500)\n",
    "pd.set_option('display.max_columns', 500)"
   ]
  },
  {
   "cell_type": "code",
   "execution_count": null,
   "metadata": {},
   "outputs": [],
   "source": [
    "# service_fault_codes = pd.read_excel('../data/Service Fault Codes_1_0_0_167.xlsx') \\\n",
    "#     .rename(columns = {'SPN': 'spn', 'J1939 FMI': 'fmi', 'Lamp Device': 'LampDevice', 'Cummins Description': 'Description'}) \\\n",
    "#     [['spn', 'fmi', 'Description']] \\\n",
    "#     .drop_duplicates()\n",
    "# service_fault_codes['Description'] = service_fault_codes['Description'].str.split(' - ').str[0]\n",
    "# service_fault_codes = faults_diagnostics.merge(service_fault_codes, how = 'left', on = ['spn', 'fmi'])[['spn', 'fmi', 'eventDescription', 'Description']]\n",
    "# service_fault_codes.value_counts(dropna = False).to_frame('Count').to_csv('../data/service_fault_codes.csv')"
   ]
  },
  {
   "cell_type": "code",
   "execution_count": null,
   "metadata": {},
   "outputs": [],
   "source": [
    "service_fault_codes_curated = pd.read_csv('../data/service_fault_codes_curated.csv').drop(columns = 'Count')"
   ]
  },
  {
   "cell_type": "code",
   "execution_count": null,
   "metadata": {},
   "outputs": [],
   "source": [
    "# Read in faults_diagnostics data\n",
    "faults_diagnostics = pd.read_csv('../data/faults_diagnostics.csv', index_col = 'EventTimeStamp', parse_dates = ['EventTimeStamp'])\n",
    "faults_diagnostics = faults_diagnostics.loc[faults_diagnostics['active'] == True].drop(columns = 'active').drop_duplicates()\n",
    "\n",
    "columns = [\n",
    "    'EventTimeStamp', 'ESS_Id', 'EquipmentID', 'spn', 'fmi', 'Component', 'AcceleratorPedal', 'BarometricPressure', 'CruiseControlActive', \n",
    "    'CruiseControlSetSpeed', 'DistanceLtd', 'EngineCoolantTemperature', 'EngineLoad', 'EngineOilPressure', 'EngineOilTemperature', 'EngineRpm', \n",
    "    'EngineTimeLtd', 'FuelLevel', 'FuelLtd', 'FuelRate', 'FuelTemperature', 'IgnStatus', 'IntakeManifoldTemperature', 'LampStatus', 'ParkingBrake', \n",
    "    'Speed', 'SwitchedBatteryVoltage', 'Throttle', 'TurboBoostPressure', \n",
    "]\n",
    "\n",
    "faults_diagnostics = faults_diagnostics.reset_index().merge(service_fault_codes_curated, how = 'left', on = ['spn', 'fmi'])[columns].set_index('EventTimeStamp')\n",
    "faults_diagnostics = pd.get_dummies(faults_diagnostics, prefix = '', prefix_sep = '', columns = ['Component'], drop_first = True)"
   ]
  },
  {
   "cell_type": "code",
   "execution_count": null,
   "metadata": {},
   "outputs": [],
   "source": [
    "agg_dict = {\n",
    "    'Aftertreatment System': 'sum', \n",
    "    'Ambient Air Temperature': 'sum',\n",
    "    'Anti-Lock Braking (ABS) Controller': 'sum',\n",
    "    'Auxiliary Input/Output': 'sum',\n",
    "    'Auxiliary Temperature Sensor Input Circuit': 'sum',\n",
    "    'Barometric Pressure Sensor': 'sum',\n",
    "    'Battery': 'sum', \n",
    "    'Crankcase': 'sum',\n",
    "    'DAS Module to ECM Communication': 'sum',\n",
    "    'ECU Power Output Supply Voltage': 'sum',\n",
    "    'Electric Lift Pump': 'sum', \n",
    "    'Electrical Charging System Voltage': 'sum',\n",
    "    'Electronic Fuel Injection Control Valve': 'sum',\n",
    "    'Electronic Throttle Control': 'sum', \n",
    "    'Engine Air Filter': 'sum',\n",
    "    'Engine Brake': 'sum',\n",
    "    'Engine Charge Air Cooler Outlet Temperature': 'sum', \n",
    "    'Engine Control Module': 'sum',\n",
    "    'Engine Coolant': 'sum', \n",
    "    'Engine Cooling System': 'sum',\n",
    "    'Engine Diesel Particulate Filter': 'sum',\n",
    "    'Engine Exhaust Back Pressure': 'sum',\n",
    "    'Engine Fuel': 'sum', \n",
    "    'Engine Injector Metering Rail': 'sum',\n",
    "    'Engine Intake Air Heater': 'sum', \n",
    "    'Engine Misfire': 'sum', \n",
    "    'Engine Oil': 'sum',\n",
    "    'Engine Position Sensor': 'sum', \n",
    "    'Engine Protection Torque Full Derate': 'sum',\n",
    "    'Engine Protection Torque Partial Derate': 'sum',\n",
    "    'Engine Speed': 'sum',\n",
    "    'Engine Starter Motor Relay': 'sum', \n",
    "    'Engine Total Idle Hours': 'sum', \n",
    "    'Exhaust Gas': 'sum',\n",
    "    'Exhaust Gas Recirculation System': 'sum', \n",
    "    'Fan Control': 'sum',\n",
    "    'Fuel Control Module': 'sum',\n",
    "    'High Pressure Common Rail Fuel Pressure Relief Valve': 'sum',\n",
    "    'Indicator Lamp': 'sum',\n",
    "    'Injector Metering Rail': 'sum', \n",
    "    'Injector Solenoid': 'sum',\n",
    "    'Intake Manifold': 'sum', \n",
    "    'Intake Throttle': 'sum', \n",
    "    'J1939 Network': 'sum',\n",
    "    'Real Time Clock': 'sum', \n",
    "    'Sensor Supply': 'sum', \n",
    "    'Steering Wheel Angle Sensor': 'sum',\n",
    "    'Total Vehicle Distance': 'sum',\n",
    "    'Transmission Communications Failure Idle Torque Limit': 'sum',\n",
    "    'Transmission Oil': 'sum', \n",
    "    'Turbocharger': 'sum', \n",
    "    'Unknown': 'sum',\n",
    "    'Variable Geometry Turbocharger': 'sum', \n",
    "    'Vehicle Identification Number': 'sum',\n",
    "    'Wheel-Based Vehicle Speed': 'sum'\n",
    "}\n",
    "\n",
    "rolling_21D = faults_diagnostics.groupby(['EquipmentID']).rolling('21D', closed = 'left').agg(agg_dict).reset_index().set_index('EventTimeStamp')"
   ]
  },
  {
   "cell_type": "code",
   "execution_count": null,
   "metadata": {},
   "outputs": [],
   "source": [
    "component_cols = [\n",
    "    'Aftertreatment System',\n",
    "    'Ambient Air Temperature',\n",
    "    'Anti-Lock Braking (ABS) Controller',\n",
    "    'Auxiliary Input/Output',\n",
    "    'Auxiliary Temperature Sensor Input Circuit',\n",
    "    'Barometric Pressure Sensor',\n",
    "    'Battery', \n",
    "    'Crankcase',\n",
    "    'DAS Module to ECM Communication',\n",
    "    'ECU Power Output Supply Voltage',\n",
    "    'Electric Lift Pump', \n",
    "    'Electrical Charging System Voltage',\n",
    "    'Electronic Fuel Injection Control Valve',\n",
    "    'Electronic Throttle Control', \n",
    "    'Engine Air Filter',\n",
    "    'Engine Brake',\n",
    "    'Engine Charge Air Cooler Outlet Temperature', \n",
    "    'Engine Control Module',\n",
    "    'Engine Coolant', \n",
    "    'Engine Cooling System',\n",
    "    'Engine Diesel Particulate Filter',\n",
    "    'Engine Exhaust Back Pressure',\n",
    "    'Engine Fuel', \n",
    "    'Engine Injector Metering Rail',\n",
    "    'Engine Intake Air Heater', \n",
    "    'Engine Misfire', \n",
    "    'Engine Oil',\n",
    "    'Engine Position Sensor', \n",
    "    'Engine Protection Torque Full Derate',\n",
    "    'Engine Protection Torque Partial Derate',\n",
    "    'Engine Speed',\n",
    "    'Engine Starter Motor Relay', \n",
    "    'Engine Total Idle Hours', \n",
    "    'Exhaust Gas',\n",
    "    'Exhaust Gas Recirculation System', \n",
    "    'Fan Control',\n",
    "    'Fuel Control Module',\n",
    "    'High Pressure Common Rail Fuel Pressure Relief Valve',\n",
    "    'Indicator Lamp',\n",
    "    'Injector Metering Rail', \n",
    "    'Injector Solenoid',\n",
    "    'Intake Manifold', \n",
    "    'Intake Throttle', \n",
    "    'J1939 Network',\n",
    "    'Real Time Clock', \n",
    "    'Sensor Supply', \n",
    "    'Steering Wheel Angle Sensor',\n",
    "    'Total Vehicle Distance',\n",
    "    'Transmission Communications Failure Idle Torque Limit',\n",
    "    'Transmission Oil', \n",
    "    'Turbocharger', \n",
    "    'Unknown',\n",
    "    'Variable Geometry Turbocharger', \n",
    "    'Vehicle Identification Number',\n",
    "    'Wheel-Based Vehicle Speed'  \n",
    "]\n",
    "\n",
    "final_df = pd.concat([faults_diagnostics.drop(columns = component_cols).sort_values(['EquipmentID', 'EventTimeStamp']), rolling_21D.drop(columns = 'EquipmentID')], axis = 1)"
   ]
  },
  {
   "cell_type": "code",
   "execution_count": null,
   "metadata": {},
   "outputs": [],
   "source": [
    "final_df.to_csv('../data/final_df.csv')"
   ]
  },
  {
   "cell_type": "code",
   "execution_count": null,
   "metadata": {},
   "outputs": [],
   "source": [
    "# faults_diagnostics['PartialDerate'] = (faults_diagnostics['spn'] == 1569)\n",
    "# faults_diagnostics['FullDerate'] = (faults_diagnostics['spn'] == 5246)\n",
    "\n",
    "# rolling_7D = faults_diagnostics.loc[::-1].groupby('EquipmentID', as_index = False)[['PartialDerate', 'FullDerate']].rolling('7D').sum()[::-1]\n",
    "# rolling_7D.loc[rolling_7D['PartialDerate'] > 0, 'PartialDerate'] = 1\n",
    "# rolling_7D.loc[rolling_7D['FullDerate'] > 0, 'FullDerate'] = 1\n",
    "\n",
    "# rolling_7D['PartialDerate'] = ((rolling_7D['EquipmentID'].shift() != rolling_7D['EquipmentID']) | (rolling_7D['PartialDerate'].shift() != rolling_7D['PartialDerate'])).cumsum()\n",
    "# rolling_7D['FullDerate'] = ((rolling_7D['EquipmentID'].shift() != rolling_7D['EquipmentID']) | (rolling_7D['FullDerate'].shift() != rolling_7D['FullDerate'])).cumsum()\n",
    "\n",
    "# faults_diagnostics = faults_diagnostics.drop(columns = ['PartialDerate', 'FullDerate'])\n",
    "# faults_diagnostics = faults_diagnostics.merge(rolling_7D, on = ['EventTimeStamp', 'EquipmentID'])\n",
    "# faults_diagnostics = faults_diagnostics.sort_values(['EquipmentID', 'EventTimeStamp']).drop_duplicates()"
   ]
  },
  {
   "cell_type": "code",
   "execution_count": null,
   "metadata": {},
   "outputs": [],
   "source": [
    "# partial_derate_clusters = faults_diagnostics.loc[faults_diagnostics['PartialDerate'].isin(faults_diagnostics.loc[faults_diagnostics['spn'] == 1569, 'PartialDerate'])]\n",
    "# partial_derate_mask = partial_derate_clusters.groupby('EquipmentID')['spn'].apply(lambda x: x.shift().eq(1569).cumsum().eq(0)).to_list()\n",
    "# partial_derates = partial_derate_clusters[partial_derate_mask].reset_index()\n",
    "\n",
    "# partial_derates['DeltaT'] = partial_derates.loc[::-1].groupby(['EquipmentID', 'PartialDerate'])['EventTimeStamp'].diff().dt.total_seconds().div(3600)[::-1].abs()\n",
    "# partial_derates['DeltaT'] = partial_derates.loc[::-1].groupby(['EquipmentID', 'PartialDerate'])['DeltaT'].cumsum()[::-1]\n",
    "# partial_derates = partial_derates.loc[partial_derates['DeltaT'] != 0].set_index('EventTimeStamp').drop_duplicates(subset = ['EquipmentID', 'PartialDerate', 'spn'], keep = 'last')\n",
    "# partial_derates['DeltaT'] = partial_derates['DeltaT'].fillna(0)\n",
    "\n",
    "# partial_derates.groupby('spn')['DeltaT'].describe().sort_values('count', ascending = False)"
   ]
  },
  {
   "cell_type": "code",
   "execution_count": null,
   "metadata": {},
   "outputs": [],
   "source": [
    "# full_derate_clusters = faults_diagnostics.loc[faults_diagnostics['FullDerate'].isin(faults_diagnostics.loc[faults_diagnostics['spn'] == 5246, 'FullDerate'])]\n",
    "# full_derate_mask = full_derate_clusters.groupby('EquipmentID')['spn'].apply(lambda x: x.shift().eq(5246).cumsum().eq(0)).to_list()\n",
    "# full_derates = full_derate_clusters[full_derate_mask].reset_index()\n",
    "\n",
    "# full_derates['DeltaT'] = full_derates.loc[::-1].groupby(['EquipmentID', 'FullDerate'])['EventTimeStamp'].diff().dt.total_seconds().div(3600)[::-1].abs()\n",
    "# full_derates['DeltaT'] = full_derates.loc[::-1].groupby(['EquipmentID', 'FullDerate'])['DeltaT'].cumsum()[::-1]\n",
    "# full_derates = full_derates.loc[full_derates['DeltaT'] != 0].set_index('EventTimeStamp').drop_duplicates(subset = ['EquipmentID', 'FullDerate', 'spn'], keep = 'last')\n",
    "# full_derates['DeltaT'] = full_derates['DeltaT'].fillna(0)\n",
    "\n",
    "# full_derates.groupby('spn')['DeltaT'].describe().sort_values('count', ascending = False)"
   ]
  },
  {
   "cell_type": "code",
   "execution_count": null,
   "metadata": {},
   "outputs": [],
   "source": [
    "# event_timestamps = faults_diagnostics.reset_index()[['EventTimeStamp','EquipmentID']].drop_duplicates()\n",
    "# event_timestamps['DeltaT'] = event_timestamps.groupby('EquipmentID')['EventTimeStamp'].diff(-1).dt.total_seconds().div(3600).abs()\n",
    "# event_timestamps = faults_diagnostics.merge(event_timestamps, on = ['EventTimeStamp', 'EquipmentID'])\n",
    "# event_timestamps = event_timestamps[event_timestamps['DeltaT'] <= 168]"
   ]
  },
  {
   "cell_type": "code",
   "execution_count": null,
   "metadata": {},
   "outputs": [],
   "source": [
    "# fig, ax = plt.subplots(figsize = (8, 5), dpi = 300)\n",
    "# sns.histplot(event_timestamps['DeltaT'])\n",
    "# plt.xticks([0,24,48,72,96,120,144,168])\n",
    "# ax.set_yscale('log', base = 2)\n",
    "# plt.show()"
   ]
  },
  {
   "cell_type": "code",
   "execution_count": null,
   "metadata": {},
   "outputs": [],
   "source": [
    "# fig, ax = plt.subplots(figsize = (8, 5), dpi = 300)\n",
    "# sns.histplot(event_timestamps[event_timestamps['spn'] == 1569]['DeltaT'])\n",
    "# plt.xticks([0,24,48,72,96,120,144,168])\n",
    "# ax.set_yscale('log', base = 2)\n",
    "# plt.show()"
   ]
  },
  {
   "cell_type": "code",
   "execution_count": null,
   "metadata": {},
   "outputs": [],
   "source": [
    "# fig, ax = plt.subplots(figsize = (8, 5), dpi = 300)\n",
    "# sns.histplot(event_timestamps[event_timestamps['spn'] == 5246]['DeltaT'])\n",
    "# plt.xticks([0,24,48,72,96,120,144,168])\n",
    "# ax.set_yscale('log', base = 2)\n",
    "# plt.show()"
   ]
  },
  {
   "cell_type": "code",
   "execution_count": null,
   "metadata": {},
   "outputs": [],
   "source": [
    "# spn_crosstab = faults_diagnostics\n",
    "# spn_crosstab['prev_spn'] = spn_crosstab.groupby(['EquipmentID'])['spn'].shift(-1)\n",
    "# spn_crosstab = spn_crosstab.dropna(subset = 'prev_spn')\n",
    "# spn_crosstab = pd.crosstab(spn_crosstab['spn'], spn_crosstab['prev_spn'].astype(int))\n",
    "# spn_crosstab.style.background_gradient(cmap = 'Blues')"
   ]
  }
 ],
 "metadata": {
  "interpreter": {
   "hash": "3d6140ef0c675026b0200147df87972487ebc0097827c4c765c9e0dcd9cf7b2f"
  },
  "kernelspec": {
   "display_name": "Python 3.8.13 ('base')",
   "language": "python",
   "name": "python3"
  },
  "language_info": {
   "codemirror_mode": {
    "name": "ipython",
    "version": 3
   },
   "file_extension": ".py",
   "mimetype": "text/x-python",
   "name": "python",
   "nbconvert_exporter": "python",
   "pygments_lexer": "ipython3",
   "version": "3.8.13"
  },
  "orig_nbformat": 4
 },
 "nbformat": 4,
 "nbformat_minor": 2
}
