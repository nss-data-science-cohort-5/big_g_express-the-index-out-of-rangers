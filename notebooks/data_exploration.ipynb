{
 "cells": [
  {
   "cell_type": "code",
   "execution_count": null,
   "metadata": {},
   "outputs": [],
   "source": [
    "# Import libraries\n",
    "import pandas as pd"
   ]
  },
  {
   "cell_type": "code",
   "execution_count": null,
   "metadata": {},
   "outputs": [],
   "source": [
    "# Set view options\n",
    "pd.set_option('display.max_rows', 500)\n",
    "pd.set_option('display.max_columns', 500)"
   ]
  },
  {
   "cell_type": "code",
   "execution_count": null,
   "metadata": {},
   "outputs": [],
   "source": [
    "# Read in faults_diagnostics data\n",
    "faults_diagnostics = pd.read_csv('../data/faults_diagnostics.csv', index_col = 'EventTimeStamp', parse_dates = ['EventTimeStamp', 'LocationTimeStamp'])"
   ]
  },
  {
   "cell_type": "code",
   "execution_count": null,
   "metadata": {},
   "outputs": [],
   "source": [
    "faults_diagnostics['EventCluster_3H'] = 1\n",
    "faults_diagnostics['EventCluster_6H'] = 1\n",
    "faults_diagnostics['EventCluster_12H'] = 1\n",
    "\n",
    "rolling_window_3H = faults_diagnostics.groupby('EquipmentID', as_index = False)['EventCluster_3H'].rolling('3H').count()\n",
    "rolling_window_6H = faults_diagnostics.groupby('EquipmentID', as_index = False)['EventCluster_6H'].rolling('6H').count()\n",
    "rolling_window_12H = faults_diagnostics.groupby('EquipmentID', as_index = False)['EventCluster_12H'].rolling('12H').count()"
   ]
  },
  {
   "cell_type": "code",
   "execution_count": null,
   "metadata": {},
   "outputs": [],
   "source": [
    "rolling_window_3H['EventCluster_3H'] = (rolling_window_3H['EventCluster_3H'] == 1).cumsum()\n",
    "rolling_window_6H['EventCluster_6H'] = (rolling_window_6H['EventCluster_6H'] == 1).cumsum()\n",
    "rolling_window_12H['EventCluster_12H'] = (rolling_window_12H['EventCluster_12H'] == 1).cumsum()"
   ]
  },
  {
   "cell_type": "code",
   "execution_count": null,
   "metadata": {},
   "outputs": [],
   "source": [
    "faults_diagnostics = faults_diagnostics.drop(columns = ['EventCluster_3H', 'EventCluster_6H', 'EventCluster_12H'])\n",
    "faults_diagnostics = faults_diagnostics.merge(rolling_window_3H, on = ['EventTimeStamp', 'EquipmentID'])\n",
    "faults_diagnostics = faults_diagnostics.merge(rolling_window_6H, on = ['EventTimeStamp', 'EquipmentID'])\n",
    "faults_diagnostics = faults_diagnostics.merge(rolling_window_12H, on = ['EventTimeStamp', 'EquipmentID'])\n",
    "faults_diagnostics = faults_diagnostics.drop_duplicates()"
   ]
  },
  {
   "cell_type": "code",
   "execution_count": null,
   "metadata": {},
   "outputs": [],
   "source": [
    "any_derate_clusters_3h = faults_diagnostics[faults_diagnostics['spn'].isin([1569, 5246])]['EventCluster_3H'].unique()\n",
    "any_derate_clusters_6h = faults_diagnostics[faults_diagnostics['spn'].isin([1569, 5246])]['EventCluster_6H'].unique()\n",
    "any_derate_clusters_12h = faults_diagnostics[faults_diagnostics['spn'].isin([1569, 5246])]['EventCluster_12H'].unique()\n",
    "\n",
    "partial_derate_clusters_3h = faults_diagnostics[faults_diagnostics['spn'].isin([1569])]['EventCluster_3H'].unique()\n",
    "partial_derate_clusters_6h = faults_diagnostics[faults_diagnostics['spn'].isin([1569])]['EventCluster_6H'].unique()\n",
    "partial_derate_clusters_12h = faults_diagnostics[faults_diagnostics['spn'].isin([1569])]['EventCluster_12H'].unique()\n",
    "\n",
    "full_derate_clusters_3h = faults_diagnostics[faults_diagnostics['spn'].isin([5246])]['EventCluster_3H'].unique()\n",
    "full_derate_clusters_6h = faults_diagnostics[faults_diagnostics['spn'].isin([5246])]['EventCluster_6H'].unique()\n",
    "full_derate_clusters_12h = faults_diagnostics[faults_diagnostics['spn'].isin([5246])]['EventCluster_12H'].unique()\n",
    "\n",
    "both_derate_clusters_3h = list(set(partial_derate_clusters_3h) & set(full_derate_clusters_3h))\n",
    "both_derate_clusters_6h = list(set(partial_derate_clusters_6h) & set(full_derate_clusters_6h))\n",
    "both_derate_clusters_12h = list(set(partial_derate_clusters_12h) & set(full_derate_clusters_12h))"
   ]
  },
  {
   "cell_type": "code",
   "execution_count": null,
   "metadata": {},
   "outputs": [],
   "source": [
    "non_derate_clusters_3h = faults_diagnostics[~faults_diagnostics['EventCluster_3H'].isin(any_derate_clusters_3h)]\n",
    "non_derate_clusters_6h = faults_diagnostics[~faults_diagnostics['EventCluster_6H'].isin(any_derate_clusters_6h)]\n",
    "non_derate_clusters_12h = faults_diagnostics[~faults_diagnostics['EventCluster_12H'].isin(any_derate_clusters_12h)]\n",
    "\n",
    "any_derate_clusters_3h = faults_diagnostics[faults_diagnostics['EventCluster_3H'].isin(any_derate_clusters_3h)]\n",
    "any_derate_clusters_6h = faults_diagnostics[faults_diagnostics['EventCluster_6H'].isin(any_derate_clusters_6h)]\n",
    "any_derate_clusters_12h = faults_diagnostics[faults_diagnostics['EventCluster_12H'].isin(any_derate_clusters_12h)]\n",
    "\n",
    "partial_derate_clusters_3h = faults_diagnostics[faults_diagnostics['EventCluster_3H'].isin(partial_derate_clusters_3h)]\n",
    "partial_derate_clusters_6h = faults_diagnostics[faults_diagnostics['EventCluster_6H'].isin(partial_derate_clusters_6h)]\n",
    "partial_derate_clusters_12h = faults_diagnostics[faults_diagnostics['EventCluster_12H'].isin(partial_derate_clusters_12h)]\n",
    "\n",
    "full_derate_clusters_3h = faults_diagnostics[faults_diagnostics['EventCluster_3H'].isin(full_derate_clusters_3h)]\n",
    "full_derate_clusters_6h = faults_diagnostics[faults_diagnostics['EventCluster_6H'].isin(full_derate_clusters_6h)]\n",
    "full_derate_clusters_12h = faults_diagnostics[faults_diagnostics['EventCluster_12H'].isin(full_derate_clusters_12h)]\n",
    "\n",
    "both_derate_clusters_3h = faults_diagnostics[faults_diagnostics['EventCluster_3H'].isin(both_derate_clusters_3h)]\n",
    "both_derate_clusters_6h = faults_diagnostics[faults_diagnostics['EventCluster_6H'].isin(both_derate_clusters_6h)]\n",
    "both_derate_clusters_12h = faults_diagnostics[faults_diagnostics['EventCluster_12H'].isin(both_derate_clusters_12h)]"
   ]
  },
  {
   "cell_type": "code",
   "execution_count": null,
   "metadata": {},
   "outputs": [],
   "source": [
    "print(str(len(faults_diagnostics[faults_diagnostics['spn'].isin([1569, 5246])])) + ' derate occurrences')\n",
    "print(str(len(faults_diagnostics[faults_diagnostics['spn'].isin([1569])])) + ' partial derate occurrences')\n",
    "print(str(len(faults_diagnostics[faults_diagnostics['spn'].isin([5246])])) + ' full derate occurrences')"
   ]
  },
  {
   "cell_type": "code",
   "execution_count": null,
   "metadata": {},
   "outputs": [],
   "source": [
    "print('EventCluster_3H: ' + str(len(non_derate_clusters_3h.groupby('EventCluster_3H').size())) + ' non-derate fault event clusters')\n",
    "print('EventCluster_6H: ' + str(len(non_derate_clusters_3h.groupby('EventCluster_6H').size())) + ' non-derate fault event clusters')\n",
    "print('EventCluster_12H: ' + str(len(non_derate_clusters_3h.groupby('EventCluster_12H').size())) + ' non-derate fault event clusters')\n",
    "print('EventCluster_3H: ' + str(round(non_derate_clusters_3h.groupby('EventCluster_3H').size().mean(), ndigits = 2)) + ' events per non-derate fault cluster')\n",
    "print('EventCluster_6H: ' + str(round(non_derate_clusters_6h.groupby('EventCluster_6H').size().mean(), ndigits = 2)) + ' events per non-derate fault cluster')\n",
    "print('EventCluster_12H: ' + str(round(non_derate_clusters_12h.groupby('EventCluster_12H').size().mean(), ndigits = 2)) + ' events per non-derate fault cluster')"
   ]
  },
  {
   "cell_type": "code",
   "execution_count": null,
   "metadata": {},
   "outputs": [],
   "source": [
    "print('EventCluster_3H: ' + str(len(any_derate_clusters_3h.groupby('EventCluster_3H').size())) + ' derate fault event clusters')\n",
    "print('EventCluster_6H: ' + str(len(any_derate_clusters_3h.groupby('EventCluster_6H').size())) + ' derate fault event clusters')\n",
    "print('EventCluster_12H: ' + str(len(any_derate_clusters_3h.groupby('EventCluster_12H').size())) + ' derate fault event clusters')\n",
    "print('EventCluster_3H: ' + str(round(any_derate_clusters_3h.groupby('EventCluster_3H').size().mean(), ndigits = 2)) + ' events per derate fault cluster')\n",
    "print('EventCluster_6H: ' + str(round(any_derate_clusters_6h.groupby('EventCluster_6H').size().mean(), ndigits = 2)) + ' events per derate fault cluster')\n",
    "print('EventCluster_12H: ' + str(round(any_derate_clusters_12h.groupby('EventCluster_12H').size().mean(), ndigits = 2)) + ' events per derate fault cluster')"
   ]
  },
  {
   "cell_type": "code",
   "execution_count": null,
   "metadata": {},
   "outputs": [],
   "source": [
    "print('EventCluster_3H: ' + str(len(partial_derate_clusters_3h.groupby('EventCluster_3H').size())) + ' partial derate fault event clusters')\n",
    "print('EventCluster_6H: ' + str(len(partial_derate_clusters_3h.groupby('EventCluster_6H').size())) + ' partial derate fault event clusters')\n",
    "print('EventCluster_12H: ' + str(len(partial_derate_clusters_3h.groupby('EventCluster_12H').size())) + ' partial derate fault event clusters')\n",
    "print('EventCluster_3H: ' + str(round(partial_derate_clusters_3h.groupby('EventCluster_3H').size().mean(), ndigits = 2)) + ' events per partial derate fault cluster')\n",
    "print('EventCluster_6H: ' + str(round(partial_derate_clusters_6h.groupby('EventCluster_6H').size().mean(), ndigits = 2)) + ' events per partial derate fault cluster')\n",
    "print('EventCluster_12H: ' + str(round(partial_derate_clusters_12h.groupby('EventCluster_12H').size().mean(), ndigits = 2)) + ' events per partial derate fault cluster')"
   ]
  },
  {
   "cell_type": "code",
   "execution_count": null,
   "metadata": {},
   "outputs": [],
   "source": [
    "print('EventCluster_3H: ' + str(len(full_derate_clusters_3h.groupby('EventCluster_3H').size())) + ' full derate fault event clusters')\n",
    "print('EventCluster_6H: ' + str(len(full_derate_clusters_3h.groupby('EventCluster_6H').size())) + ' full derate fault event clusters')\n",
    "print('EventCluster_12H: ' + str(len(full_derate_clusters_3h.groupby('EventCluster_12H').size())) + ' full derate fault event clusters')\n",
    "print('EventCluster_3H: ' + str(round(full_derate_clusters_3h.groupby('EventCluster_3H').size().mean(), ndigits = 2)) + ' events per full derate fault cluster')\n",
    "print('EventCluster_6H: ' + str(round(full_derate_clusters_6h.groupby('EventCluster_6H').size().mean(), ndigits = 2)) + ' events per full derate fault cluster')\n",
    "print('EventCluster_12H: ' + str(round(full_derate_clusters_12h.groupby('EventCluster_12H').size().mean(), ndigits = 2)) + ' events per full derate fault cluster')"
   ]
  },
  {
   "cell_type": "code",
   "execution_count": null,
   "metadata": {},
   "outputs": [],
   "source": [
    "print('EventCluster_3H: ' + str(len(both_derate_clusters_3h.groupby('EventCluster_3H').size())) + ' both derate fault event clusters')\n",
    "print('EventCluster_6H: ' + str(len(both_derate_clusters_3h.groupby('EventCluster_6H').size())) + ' both derate fault event clusters')\n",
    "print('EventCluster_12H: ' + str(len(both_derate_clusters_3h.groupby('EventCluster_12H').size())) + ' both derate fault event clusters')\n",
    "print('EventCluster_3H: ' + str(round(both_derate_clusters_3h.groupby('EventCluster_3H').size().mean(), ndigits = 2)) + ' events per both derate fault cluster')\n",
    "print('EventCluster_6H: ' + str(round(both_derate_clusters_6h.groupby('EventCluster_6H').size().mean(), ndigits = 2)) + ' events per both derate fault cluster')\n",
    "print('EventCluster_12H: ' + str(round(both_derate_clusters_12h.groupby('EventCluster_12H').size().mean(), ndigits = 2)) + ' events per both derate fault cluster')"
   ]
  },
  {
   "cell_type": "code",
   "execution_count": null,
   "metadata": {},
   "outputs": [],
   "source": [
    "faults_diagnostics['next_spn'] = faults_diagnostics.groupby(['EquipmentID'])['spn'].shift()\n",
    "pd.crosstab(faults_diagnostics['spn'], faults_diagnostics['next_spn'])"
   ]
  }
 ],
 "metadata": {
  "interpreter": {
   "hash": "3d6140ef0c675026b0200147df87972487ebc0097827c4c765c9e0dcd9cf7b2f"
  },
  "kernelspec": {
   "display_name": "Python 3.8.13 ('base')",
   "language": "python",
   "name": "python3"
  },
  "language_info": {
   "codemirror_mode": {
    "name": "ipython",
    "version": 3
   },
   "file_extension": ".py",
   "mimetype": "text/x-python",
   "name": "python",
   "nbconvert_exporter": "python",
   "pygments_lexer": "ipython3",
   "version": "3.8.13"
  },
  "orig_nbformat": 4
 },
 "nbformat": 4,
 "nbformat_minor": 2
}
